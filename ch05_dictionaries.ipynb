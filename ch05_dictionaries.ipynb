{
 "cells": [
  {
   "cell_type": "markdown",
   "id": "7c7e6b68-c97c-4e9d-a5f5-3f0f8a0f0267",
   "metadata": {},
   "source": [
    "# Dictionaries and Structuring Data"
   ]
  },
  {
   "cell_type": "markdown",
   "id": "1fd1f61e-bff7-46c7-a617-a6ac61c6bb68",
   "metadata": {},
   "source": [
    "## The Dictionary Data Type"
   ]
  },
  {
   "cell_type": "code",
   "execution_count": 1,
   "id": "803df8c5-de99-4d05-acaf-03a5ff9512c9",
   "metadata": {},
   "outputs": [
    {
     "data": {
      "text/plain": [
       "{'size': 'fat', 'color': 'gray', 'disposition': 'loud'}"
      ]
     },
     "execution_count": 1,
     "metadata": {},
     "output_type": "execute_result"
    }
   ],
   "source": [
    "myCat = {'size': 'fat', 'color': 'gray', 'disposition': 'loud'}\n",
    "myCat"
   ]
  },
  {
   "cell_type": "code",
   "execution_count": 2,
   "id": "1cf3d999-d9c3-426e-aa65-4dee8cf485d7",
   "metadata": {},
   "outputs": [
    {
     "data": {
      "text/plain": [
       "'fat'"
      ]
     },
     "execution_count": 2,
     "metadata": {},
     "output_type": "execute_result"
    }
   ],
   "source": [
    "myCat['size']"
   ]
  },
  {
   "cell_type": "code",
   "execution_count": 3,
   "id": "cee4c786-8235-49cc-832b-ce20ebcf5c89",
   "metadata": {},
   "outputs": [
    {
     "data": {
      "text/plain": [
       "'My cat has gray fur.'"
      ]
     },
     "execution_count": 3,
     "metadata": {},
     "output_type": "execute_result"
    }
   ],
   "source": [
    "'My cat has ' + myCat['color'] + ' fur.'"
   ]
  },
  {
   "cell_type": "code",
   "execution_count": 5,
   "id": "2980edbd-3591-4b46-9a8d-c200b86629f0",
   "metadata": {},
   "outputs": [
    {
     "data": {
      "text/plain": [
       "{12345: 'Luggage Combination', 42: 'The Answer'}"
      ]
     },
     "execution_count": 5,
     "metadata": {},
     "output_type": "execute_result"
    }
   ],
   "source": [
    "spam = {12345: 'Luggage Combination', 42: 'The Answer'}\n",
    "spam"
   ]
  },
  {
   "cell_type": "markdown",
   "id": "ec2a153c-aad2-4caa-851f-46bb0d40646d",
   "metadata": {},
   "source": [
    "### Dictionaires vs. Lists"
   ]
  },
  {
   "cell_type": "code",
   "execution_count": 6,
   "id": "0a6eeac5-c476-4510-bce1-7b0bed9e3ce1",
   "metadata": {},
   "outputs": [
    {
     "data": {
      "text/plain": [
       "False"
      ]
     },
     "execution_count": 6,
     "metadata": {},
     "output_type": "execute_result"
    }
   ],
   "source": [
    "spam = ['cats', 'dogs', 'moose']\n",
    "bacon = ['dogs', 'moose', 'cat']\n",
    "spam == bacon"
   ]
  },
  {
   "cell_type": "code",
   "execution_count": 7,
   "id": "81f94b97-f940-4abb-a91f-cb4c2998e531",
   "metadata": {},
   "outputs": [
    {
     "data": {
      "text/plain": [
       "True"
      ]
     },
     "execution_count": 7,
     "metadata": {},
     "output_type": "execute_result"
    }
   ],
   "source": [
    "eggs = {'name': 'Zophie', 'species': 'cat', 'age': '8'}\n",
    "ham = {'species': 'cat', 'age': '8', 'name': 'Zophie'}\n",
    "eggs == ham"
   ]
  },
  {
   "cell_type": "code",
   "execution_count": 9,
   "id": "492cb7b7-ab8a-49e5-9918-703062e351c0",
   "metadata": {},
   "outputs": [],
   "source": [
    "spam = {'name': 'Zophie', 'age': 7}\n",
    "# spam['color'] KeyError: 'color'"
   ]
  },
  {
   "cell_type": "code",
   "execution_count": 11,
   "id": "340f1bd2-4cf3-43d1-8359-d8ac49653405",
   "metadata": {},
   "outputs": [],
   "source": [
    "# birthdays.py\n",
    "# birthdays = {'Alice': 'Apr 1', 'Bob': 'Dec 12', 'Carol': 'Mar 4'}\n",
    "\n",
    "# while True:\n",
    "#     print('Enter a name: (blank to quit)')\n",
    "#     name = input()\n",
    "#     if name == '':\n",
    "#         break\n",
    "        \n",
    "#     if name in birthdays:\n",
    "#         print(birthdays[name] + ' is the birthday of ' + name)\n",
    "#     else:\n",
    "#         print('I do not have birthday information of ' + name)\n",
    "#         print('What is their birthday?')\n",
    "#         bday = input()\n",
    "#         birthdays[name] = bday\n",
    "#         print('Birthday database updated.')"
   ]
  },
  {
   "cell_type": "markdown",
   "id": "b8d88d45-298f-46d3-8a20-de6b789c1e20",
   "metadata": {},
   "source": [
    "### The keys(), values(), and items() Methods"
   ]
  },
  {
   "cell_type": "code",
   "execution_count": 12,
   "id": "826412b9-1aa5-4004-94dc-2936fb8c027b",
   "metadata": {},
   "outputs": [
    {
     "name": "stdout",
     "output_type": "stream",
     "text": [
      "red\n",
      "42\n"
     ]
    }
   ],
   "source": [
    "spam = {'color': 'red', 'age': 42}\n",
    "for v in spam.values():\n",
    "    print(v)"
   ]
  },
  {
   "cell_type": "code",
   "execution_count": 13,
   "id": "05b307a2-bbde-4041-982e-977b87ce2d06",
   "metadata": {},
   "outputs": [
    {
     "name": "stdout",
     "output_type": "stream",
     "text": [
      "color\n",
      "age\n"
     ]
    }
   ],
   "source": [
    "for k in spam.keys():\n",
    "    print(k)"
   ]
  },
  {
   "cell_type": "code",
   "execution_count": 14,
   "id": "94715477-73e8-4ff0-91a3-0b96d97f1e98",
   "metadata": {},
   "outputs": [
    {
     "name": "stdout",
     "output_type": "stream",
     "text": [
      "('color', 'red')\n",
      "('age', 42)\n"
     ]
    }
   ],
   "source": [
    "for i in spam.items():\n",
    "    print(i)"
   ]
  },
  {
   "cell_type": "code",
   "execution_count": 16,
   "id": "6332b7df-d2c5-4402-ad01-f5669b8f6844",
   "metadata": {},
   "outputs": [
    {
     "name": "stdout",
     "output_type": "stream",
     "text": [
      "dict_keys(['color', 'age'])\n",
      "['color', 'age']\n"
     ]
    }
   ],
   "source": [
    "spam = {'color': 'red', 'age': 42}\n",
    "print(spam.keys())\n",
    "print(list(spam.keys())) # true list"
   ]
  },
  {
   "cell_type": "code",
   "execution_count": 17,
   "id": "9e815c64-46cb-4d6b-a1e0-23fab4ae835f",
   "metadata": {},
   "outputs": [
    {
     "name": "stdout",
     "output_type": "stream",
     "text": [
      "Key: color Value: red\n",
      "Key: age Value: 42\n"
     ]
    }
   ],
   "source": [
    "# multiple assignment trick\n",
    "for k, v in spam.items():\n",
    "    print('Key: ' + k + ' Value: ' + str(v))"
   ]
  },
  {
   "cell_type": "markdown",
   "id": "3f58f9b0-471c-4c83-a2a1-a054dd2264c8",
   "metadata": {},
   "source": [
    "### Check Whether a Key or Value Exists in a Dictionary"
   ]
  },
  {
   "cell_type": "code",
   "execution_count": 36,
   "id": "74e996a9-645b-4e70-bc7c-f578bf5230a2",
   "metadata": {},
   "outputs": [
    {
     "name": "stdout",
     "output_type": "stream",
     "text": [
      "True\n",
      "True\n",
      "False\n",
      "True\n",
      "True\n",
      "False\n"
     ]
    }
   ],
   "source": [
    "spam = {'name': 'Zophie', 'age': 7}\n",
    "print('name' in spam.keys())\n",
    "print('Zophie' in spam.values())\n",
    "print('color' in spam.keys())\n",
    "print('color' not in spam.keys())\n",
    "print('color' not in spam.keys())\n",
    "print('color' in spam) # same as => 'color' in spam.keys())"
   ]
  },
  {
   "cell_type": "code",
   "execution_count": 24,
   "id": "de65b9b3-0b77-4646-97be-44920afe04e2",
   "metadata": {},
   "outputs": [],
   "source": [
    "### The get() Method"
   ]
  },
  {
   "cell_type": "code",
   "execution_count": 37,
   "id": "942e6c0f-369e-4e25-8a26-57a914f005eb",
   "metadata": {},
   "outputs": [
    {
     "name": "stdout",
     "output_type": "stream",
     "text": [
      "I am bringing 2 cups.\n",
      "I am bringing 0 eggs.\n"
     ]
    }
   ],
   "source": [
    "picnicItems = {'apples': 5, 'cups': 2}\n",
    "print('I am bringing ' + str(picnicItems.get('cups', 0)) + ' cups.')\n",
    "print('I am bringing ' + str(picnicItems.get('eggs', 0)) + ' eggs.')"
   ]
  },
  {
   "cell_type": "code",
   "execution_count": 39,
   "id": "7f279023-68f3-4190-b8e9-b2879120bc64",
   "metadata": {},
   "outputs": [],
   "source": [
    "picnicItems = {'apples': 5, 'cups': 2}\n",
    "# print('I am bringing ' + str(picnicItems['eggs']) + ' eggs') KeyError: 'eggs'"
   ]
  },
  {
   "cell_type": "markdown",
   "id": "bca2597c-87bc-4668-8c14-91006b5e2f31",
   "metadata": {},
   "source": [
    "### The setdefault() Method"
   ]
  },
  {
   "cell_type": "code",
   "execution_count": 41,
   "id": "fa723349-d738-4ecb-bd33-b7d8f0d15ff3",
   "metadata": {},
   "outputs": [
    {
     "data": {
      "text/plain": [
       "{'name': 'Pooka', 'age': 5, 'color': 'black'}"
      ]
     },
     "execution_count": 41,
     "metadata": {},
     "output_type": "execute_result"
    }
   ],
   "source": [
    "spam = {'name': 'Pooka', 'age': 5}\n",
    "if 'color' not in spam:\n",
    "    spam['color'] = 'black'\n",
    "    \n",
    "spam"
   ]
  },
  {
   "cell_type": "code",
   "execution_count": 44,
   "id": "24d93014-4edb-400e-aa9b-faf4c32143ce",
   "metadata": {},
   "outputs": [
    {
     "name": "stdout",
     "output_type": "stream",
     "text": [
      "black\n",
      "{'name': 'Pooka', 'age': 5, 'color': 'black'}\n",
      "black\n",
      "{'name': 'Pooka', 'age': 5, 'color': 'black'}\n"
     ]
    }
   ],
   "source": [
    "spam = {'name': 'Pooka', 'age': 5}\n",
    "print(spam.setdefault('color', 'black'))\n",
    "print(spam)\n",
    "print(spam.setdefault('color', 'white'))\n",
    "print(spam)"
   ]
  },
  {
   "cell_type": "code",
   "execution_count": 45,
   "id": "cb74a30f-b46b-4bee-ac09-9da527c5f13d",
   "metadata": {},
   "outputs": [
    {
     "name": "stdout",
     "output_type": "stream",
     "text": [
      "{'I': 1, 't': 6, ' ': 13, 'w': 2, 'a': 4, 's': 3, 'b': 1, 'r': 5, 'i': 6, 'g': 2, 'h': 3, 'c': 3, 'o': 2, 'l': 3, 'd': 3, 'y': 1, 'n': 4, 'A': 1, 'p': 1, ',': 1, 'e': 5, 'k': 2, '.': 1}\n"
     ]
    }
   ],
   "source": [
    "# characterCount.py\n",
    "message = 'It was a bright cold day in April, and the clocks were striking thirteen.'\n",
    "count = {}\n",
    "\n",
    "for character in message:\n",
    "    count.setdefault(character, 0)\n",
    "    count[character] += 1\n",
    "\n",
    "print(count)"
   ]
  },
  {
   "cell_type": "markdown",
   "id": "c2881be4-4bd2-4547-8bb5-411b2e416bbe",
   "metadata": {},
   "source": [
    "## Pretty Printing"
   ]
  },
  {
   "cell_type": "code",
   "execution_count": 69,
   "id": "424f4214-5fd0-4170-99a8-0d22b44d8243",
   "metadata": {},
   "outputs": [],
   "source": [
    "# prettyCharacterCount.py\n",
    "import pprint\n",
    "message = 'It was a bright cold day in April, and the clocks were striking thirteen.'\n",
    "count = {}\n",
    "\n",
    "for character in message:\n",
    "    count.setdefault(character, 0)\n",
    "    count[character] += 1\n",
    "    \n",
    "# pprint.pprint(count)"
   ]
  },
  {
   "cell_type": "code",
   "execution_count": 70,
   "id": "e08994e0-c396-47dc-a57f-e9d01244eaf4",
   "metadata": {},
   "outputs": [],
   "source": [
    "import pprint\n",
    "dict = {'a': 1, 'b': 2, 'c': 3, 'd':4, 'e':5, 'f':6, 'g':7, 'h':8, 'i': 9, 'k':1,  'l':3}\n",
    "# pprint.pprint(dict)\n",
    "# print(pprint.pformat(dict))"
   ]
  },
  {
   "cell_type": "markdown",
   "id": "13b55681-8489-4af7-8ece-9009a89a359b",
   "metadata": {},
   "source": [
    "## Using Data Structures to Model Real-World Things"
   ]
  },
  {
   "cell_type": "markdown",
   "id": "045328f7-12d8-4ab5-a527-023484779240",
   "metadata": {},
   "source": [
    "### A Tic-Tac-Toe Board"
   ]
  },
  {
   "cell_type": "code",
   "execution_count": 72,
   "id": "d07d1719-499c-4f2b-a226-927428e3fe81",
   "metadata": {},
   "outputs": [
    {
     "name": "stdout",
     "output_type": "stream",
     "text": [
      "O|O|O\n",
      "-+-+-\n",
      "X|X| \n",
      "-+-+-\n",
      " | |X\n"
     ]
    }
   ],
   "source": [
    "theBoard = {'top-L': ' ', 'top-M': ' ', 'top-R': ' ',\n",
    "            'mid-L': ' ', 'mid-M': ' ', 'mid-R': ' ',\n",
    "            'low-L': ' ', 'low-M': ' ', 'low-R': ' '}\n",
    "\n",
    "theBoard = {'top-L': ' ', 'top-M': ' ', 'top-R': ' ',\n",
    "            'mid-L': ' ', 'mid-M': 'X', 'mid-R': ' ',\n",
    "            'low-L': ' ', 'low-M': ' ', 'low-R': ' '}\n",
    "\n",
    "theBoard = {'top-L': 'O', 'top-M': 'O', 'top-R': 'O',\n",
    "            'mid-L': 'X', 'mid-M': 'X', 'mid-R': ' ',\n",
    "            'low-L': ' ', 'low-M': ' ', 'low-R': 'X'}\n",
    "\n",
    "def printBoard(board):\n",
    "    print(board['top-L'] + '|' + board['top-M'] + '|' + board['top-R'])\n",
    "    print('-+-+-')\n",
    "    print(board['mid-L'] + '|' + board['mid-M'] + '|' + board['mid-R'])\n",
    "    print('-+-+-')\n",
    "    print(board['low-L'] + '|' + board['low-M'] + '|' + board['low-R'])\n",
    "\n",
    "printBoard(theBoard)"
   ]
  },
  {
   "cell_type": "code",
   "execution_count": 74,
   "id": "89eca004-8d51-4735-8144-1bba1bf8380c",
   "metadata": {},
   "outputs": [
    {
     "name": "stdout",
     "output_type": "stream",
     "text": [
      " | | \n",
      "-+-+-\n",
      " | | \n",
      "-+-+-\n",
      " | | \n"
     ]
    }
   ],
   "source": [
    "theBoard = {'top-L': ' ', 'top-M': ' ', 'top-R': ' ',\n",
    "            'mid-L': ' ', 'mid-M': ' ', 'mid-R': ' ',\n",
    "            'low-L': ' ', 'low-M': ' ', 'low-R': ' '}\n",
    "\n",
    "def printBoard(board):\n",
    "    print(board['top-L'] + '|' + board['top-M'] + '|' + board['top-R'])\n",
    "    print('-+-+-')\n",
    "    print(board['mid-L'] + '|' + board['mid-M'] + '|' + board['mid-R'])\n",
    "    print('-+-+-')\n",
    "    print(board['low-L'] + '|' + board['low-M'] + '|' + board['low-R'])\n",
    "    \n",
    "# turn = 'X'\n",
    "# for i in range(9):\n",
    "#     printBoard(theBoard)\n",
    "#     print('Turn for ' + turn + '. Move on which space?')\n",
    "#     move = input()\n",
    "#     theBoard[move] = turn\n",
    "#     if turn == 'X':\n",
    "#         turn = 'O'\n",
    "#     else:\n",
    "#         turn = 'X'\n",
    "        \n",
    "printBoard(theBoard)"
   ]
  },
  {
   "cell_type": "markdown",
   "id": "66c62e49-685e-4d9b-b7b1-e7ad34479501",
   "metadata": {},
   "source": [
    "### Nested Dictionaries and Lists"
   ]
  },
  {
   "cell_type": "code",
   "execution_count": 76,
   "id": "8e3dc7be-0760-488c-9643-0925df1172b5",
   "metadata": {},
   "outputs": [
    {
     "name": "stdout",
     "output_type": "stream",
     "text": [
      "Number of things being brought:\n",
      " - Apples         7\n",
      " - Cups           3\n",
      " - Cakes          0\n",
      " - Ham Sandwiches 3\n",
      " - Apple Pies     1\n"
     ]
    }
   ],
   "source": [
    "allGuests = {'Alice': {'apples':5, 'pretzels':12},\n",
    "            'Bob': {'ham sandwiches':3, 'apples':2},\n",
    "            'Carol': {'cups':3, 'apple pies':1}}\n",
    "\n",
    "def totalBrought(guests, item):\n",
    "    numBrought = 0\n",
    "    for k, v in guests.items():\n",
    "        numBrought += v.get(item, 0)\n",
    "    return numBrought\n",
    "\n",
    "print('Number of things being brought:')\n",
    "print(' - Apples         ' + str(totalBrought(allGuests, 'apples')))\n",
    "print(' - Cups           ' + str(totalBrought(allGuests, 'cups')))\n",
    "print(' - Cakes          ' + str(totalBrought(allGuests, 'cakes')))\n",
    "print(' - Ham Sandwiches ' + str(totalBrought(allGuests, 'ham sandwiches')))\n",
    "print(' - Apple Pies     ' + str(totalBrought(allGuests, 'apple pies')))"
   ]
  }
 ],
 "metadata": {
  "kernelspec": {
   "display_name": "Python 3 (ipykernel)",
   "language": "python",
   "name": "python3"
  },
  "language_info": {
   "codemirror_mode": {
    "name": "ipython",
    "version": 3
   },
   "file_extension": ".py",
   "mimetype": "text/x-python",
   "name": "python",
   "nbconvert_exporter": "python",
   "pygments_lexer": "ipython3",
   "version": "3.9.15"
  }
 },
 "nbformat": 4,
 "nbformat_minor": 5
}
