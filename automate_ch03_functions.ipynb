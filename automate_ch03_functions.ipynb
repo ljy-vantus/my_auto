{
 "cells": [
  {
   "cell_type": "markdown",
   "id": "c9cde852-25bd-4237-b973-d2bf2ac3041d",
   "metadata": {},
   "source": [
    "## Chapter 3: Funtions"
   ]
  },
  {
   "cell_type": "code",
   "execution_count": 14,
   "id": "53da9574-7380-4ac3-bbe8-428348b7e6c3",
   "metadata": {},
   "outputs": [
    {
     "name": "stdout",
     "output_type": "stream",
     "text": [
      "Howdy!\n",
      "Howdy!!!\n",
      "Hello there.\n",
      "Howdy!\n",
      "Howdy!!!\n",
      "Hello there.\n",
      "Howdy!\n",
      "Howdy!!!\n",
      "Hello there.\n"
     ]
    }
   ],
   "source": [
    "def hello():\n",
    "    print('Howdy!')\n",
    "    print('Howdy!!!')\n",
    "    print('Hello there.')\n",
    "    \n",
    "hello()\n",
    "hello()\n",
    "hello()"
   ]
  },
  {
   "cell_type": "markdown",
   "id": "f39f3f8f-07fb-4432-86db-e659e0557fa8",
   "metadata": {},
   "source": [
    "### def Statements with Parameters"
   ]
  },
  {
   "cell_type": "code",
   "execution_count": 15,
   "id": "59d1e0ca-37b3-4b0f-bbd9-ded102646e00",
   "metadata": {},
   "outputs": [
    {
     "name": "stdout",
     "output_type": "stream",
     "text": [
      "Hello, Alice\n",
      "Hello, Bob\n"
     ]
    }
   ],
   "source": [
    "def hello(name):\n",
    "    print('Hello, ' + name)\n",
    "    \n",
    "hello('Alice')\n",
    "hello('Bob')\n",
    "# print(name)"
   ]
  },
  {
   "cell_type": "markdown",
   "id": "de546a67-acb8-443c-8b85-ff0d6d0f1781",
   "metadata": {},
   "source": [
    "### Define, Call, Pass, Argument, Parameter"
   ]
  },
  {
   "cell_type": "code",
   "execution_count": 16,
   "id": "090d2857-4f2b-4fff-80a3-2118fc2c3a48",
   "metadata": {},
   "outputs": [
    {
     "name": "stdout",
     "output_type": "stream",
     "text": [
      "Hello, Al\n"
     ]
    }
   ],
   "source": [
    "def sayHello(name): # define, parameter\n",
    "    print('Hello, ' + name)\n",
    "    \n",
    "sayHello('Al') # call, pass, argument"
   ]
  },
  {
   "cell_type": "markdown",
   "id": "bf0b2bcb-135f-4168-bb35-9191b965a47b",
   "metadata": {},
   "source": [
    "### Return Values and return Statements"
   ]
  },
  {
   "cell_type": "code",
   "execution_count": 17,
   "id": "9178cf03-e051-4a23-bdfd-fc82f58bb647",
   "metadata": {},
   "outputs": [
    {
     "name": "stdout",
     "output_type": "stream",
     "text": [
      "Ask again later\n"
     ]
    }
   ],
   "source": [
    "# magic8Ball.py\n",
    "import random\n",
    "\n",
    "def getAnswer(answerNumber):\n",
    "    if answerNumber == 1:\n",
    "        return 'It is certain'\n",
    "    elif answerNumber == 2:\n",
    "        return 'It is decidely so'\n",
    "    elif answerNumber == 3:\n",
    "        return 'Yes'\n",
    "    elif answerNumber == 4:\n",
    "        return 'Reply hazy try again'\n",
    "    elif answerNumber == 5:\n",
    "        return 'Ask again later'\n",
    "    elif answerNumber == 6:\n",
    "        return 'Concentrate and ask again'\n",
    "    elif answerNumber == 7:\n",
    "        return 'My reply is no'\n",
    "    elif answerNumber == 8:\n",
    "        return 'Outlook not so good'\n",
    "    elif answerNumber == 9:\n",
    "        return 'Very doubtful'\n",
    "    \n",
    "# r = random.randint(1, 9)\n",
    "# fortune = getAnswer(r)\n",
    "# print(fortune)\n",
    "\n",
    "print(getAnswer(random.randint(1, 9)))"
   ]
  },
  {
   "cell_type": "markdown",
   "id": "9683398c-07ae-4ebb-bbc4-17c2fee8685c",
   "metadata": {},
   "source": [
    "### The None Value"
   ]
  },
  {
   "cell_type": "code",
   "execution_count": 18,
   "id": "9ceb9fb9-9c86-451a-aae4-cd6be1f8e8ae",
   "metadata": {},
   "outputs": [
    {
     "name": "stdout",
     "output_type": "stream",
     "text": [
      "Hello!\n"
     ]
    }
   ],
   "source": [
    "spam = print('Hello!')"
   ]
  },
  {
   "cell_type": "code",
   "execution_count": 19,
   "id": "178f67bc-fec0-4b33-99ce-15dfea62e5ed",
   "metadata": {},
   "outputs": [
    {
     "data": {
      "text/plain": [
       "True"
      ]
     },
     "execution_count": 19,
     "metadata": {},
     "output_type": "execute_result"
    }
   ],
   "source": [
    "None == spam"
   ]
  },
  {
   "cell_type": "code",
   "execution_count": 20,
   "id": "01e1155e-001f-42c0-b9db-66410ae51670",
   "metadata": {},
   "outputs": [],
   "source": [
    "### Keyword Arguments and the print() Function"
   ]
  },
  {
   "cell_type": "code",
   "execution_count": 21,
   "id": "92da6007-3de8-4067-aa3d-bd2e1036bac3",
   "metadata": {},
   "outputs": [
    {
     "name": "stdout",
     "output_type": "stream",
     "text": [
      "Hello\n",
      "World\n"
     ]
    }
   ],
   "source": [
    "print('Hello')\n",
    "print('World')"
   ]
  },
  {
   "cell_type": "code",
   "execution_count": 22,
   "id": "ff43d48c-3e87-4f34-b9f5-4932145ba2c6",
   "metadata": {},
   "outputs": [
    {
     "name": "stdout",
     "output_type": "stream",
     "text": [
      "HelloWorld\n"
     ]
    }
   ],
   "source": [
    "print('Hello', end='')\n",
    "print('World')"
   ]
  },
  {
   "cell_type": "code",
   "execution_count": 23,
   "id": "e9920ba1-581a-4498-b424-44f5c7f07385",
   "metadata": {},
   "outputs": [
    {
     "name": "stdout",
     "output_type": "stream",
     "text": [
      "cats dogs mice\n"
     ]
    }
   ],
   "source": [
    "print('cats', 'dogs', 'mice')"
   ]
  },
  {
   "cell_type": "code",
   "execution_count": 24,
   "id": "94a9e0eb-976b-4b40-9b7f-781334d97e95",
   "metadata": {},
   "outputs": [
    {
     "name": "stdout",
     "output_type": "stream",
     "text": [
      "cats,dogs,mice\n"
     ]
    }
   ],
   "source": [
    "print('cats', 'dogs', 'mice', sep=',')"
   ]
  },
  {
   "cell_type": "markdown",
   "id": "97ed1724-1e46-4dd9-a236-2cb30921e5fa",
   "metadata": {},
   "source": [
    "### The Call Stack"
   ]
  },
  {
   "cell_type": "code",
   "execution_count": 25,
   "id": "61e7f9b8-225b-4420-9e0d-bfbb0ef995cf",
   "metadata": {},
   "outputs": [
    {
     "name": "stdout",
     "output_type": "stream",
     "text": [
      "a() starts\n",
      "b() starts\n",
      "c() starts\n",
      "c() ends\n",
      "b() ends\n",
      "d() starts\n",
      "d() ends\n",
      "a() returns\n"
     ]
    }
   ],
   "source": [
    "# abcdCallStack.py\n",
    "def a():\n",
    "    print('a() starts')\n",
    "    b()\n",
    "    d()\n",
    "    print('a() returns')\n",
    "    \n",
    "def b():\n",
    "    print('b() starts')\n",
    "    c()\n",
    "    print('b() ends')\n",
    "\n",
    "def c():\n",
    "    print('c() starts')\n",
    "    print('c() ends')\n",
    "\n",
    "def d():\n",
    "    print('d() starts')\n",
    "    print('d() ends')\n",
    "    \n",
    "a()"
   ]
  },
  {
   "cell_type": "markdown",
   "id": "39e0b855-9651-4af9-b7d3-6c36d4e187a6",
   "metadata": {
    "tags": []
   },
   "source": [
    "### Local and Global Scope"
   ]
  },
  {
   "cell_type": "markdown",
   "id": "ea505802-67b0-4d17-80ac-ffb2a1c522b2",
   "metadata": {},
   "source": [
    "#### Local Variables Cannot Be Used in the Global Scope"
   ]
  },
  {
   "cell_type": "code",
   "execution_count": 26,
   "id": "62c3319d-f5bd-4b1f-9935-cefadc4c6aaf",
   "metadata": {},
   "outputs": [
    {
     "ename": "NameError",
     "evalue": "name 'eggs' is not defined",
     "output_type": "error",
     "traceback": [
      "\u001b[0;31m---------------------------------------------------------------------------\u001b[0m",
      "\u001b[0;31mNameError\u001b[0m                                 Traceback (most recent call last)",
      "Cell \u001b[0;32mIn[26], line 5\u001b[0m\n\u001b[1;32m      2\u001b[0m     eggs \u001b[38;5;241m=\u001b[39m \u001b[38;5;241m31337\u001b[39m\n\u001b[1;32m      4\u001b[0m spam()\n\u001b[0;32m----> 5\u001b[0m \u001b[38;5;28mprint\u001b[39m(\u001b[43meggs\u001b[49m)\n",
      "\u001b[0;31mNameError\u001b[0m: name 'eggs' is not defined"
     ]
    }
   ],
   "source": [
    "def spam():\n",
    "    eggs = 31337\n",
    "\n",
    "spam()\n",
    "print(eggs)"
   ]
  },
  {
   "cell_type": "markdown",
   "id": "540059c1-a4ae-4b4d-bce1-c82ffa478477",
   "metadata": {
    "tags": []
   },
   "source": [
    "#### Local Scopes Cannot Use Variables in Other Local Scopes"
   ]
  },
  {
   "cell_type": "code",
   "execution_count": 27,
   "id": "db53bd4d-6dc8-41b5-8be1-77c9fff7b60c",
   "metadata": {},
   "outputs": [
    {
     "name": "stdout",
     "output_type": "stream",
     "text": [
      "99\n"
     ]
    }
   ],
   "source": [
    "def spam():\n",
    "    eggs = 99\n",
    "    bacon()\n",
    "    print(eggs)\n",
    "    \n",
    "def bacon():\n",
    "    ham = 101\n",
    "    eggs = 0\n",
    "    \n",
    "spam()"
   ]
  },
  {
   "cell_type": "markdown",
   "id": "d57ce2be-0f4d-4af6-b742-17b698519759",
   "metadata": {},
   "source": [
    "#### Global Variables Can Be Read from a Local Scope"
   ]
  },
  {
   "cell_type": "code",
   "execution_count": 28,
   "id": "4a9c7396-9d7f-4045-a191-23b1f4bf9986",
   "metadata": {},
   "outputs": [
    {
     "name": "stdout",
     "output_type": "stream",
     "text": [
      "42\n",
      "42\n"
     ]
    }
   ],
   "source": [
    "def spam():\n",
    "    print(eggs)\n",
    "    \n",
    "eggs = 42\n",
    "spam()\n",
    "print(eggs)"
   ]
  },
  {
   "cell_type": "markdown",
   "id": "5daa815c-18c5-436d-8072-b97699809405",
   "metadata": {},
   "source": [
    "#### Local and Global Variables with the Same Name"
   ]
  },
  {
   "cell_type": "code",
   "execution_count": 29,
   "id": "7093524d-b8e8-40f2-9bc4-686570c7ede7",
   "metadata": {},
   "outputs": [
    {
     "name": "stdout",
     "output_type": "stream",
     "text": [
      "bacon local\n",
      "spam local\n",
      "bacon local\n",
      "global\n"
     ]
    }
   ],
   "source": [
    "# localGlobalSameName.py\n",
    "def spam():\n",
    "    eggs = 'spam local'\n",
    "    print(eggs)  # prints 'spam local'\n",
    "\n",
    "def bacon():\n",
    "    eggs = 'bacon local'\n",
    "    print(eggs)  # prints 'bacon local'\n",
    "    spam()\n",
    "    print(eggs)  # prints 'bacon local'\n",
    "    \n",
    "eggs = 'global'\n",
    "bacon()\n",
    "print(eggs) # prints 'global'"
   ]
  },
  {
   "cell_type": "markdown",
   "id": "f2758db8-4a94-4eb8-b7de-b4b32d7ca504",
   "metadata": {},
   "source": [
    "### The global Statement"
   ]
  },
  {
   "cell_type": "code",
   "execution_count": 30,
   "id": "ec0eef1d-2cfe-4ce6-9473-74c151e9535e",
   "metadata": {},
   "outputs": [
    {
     "name": "stdout",
     "output_type": "stream",
     "text": [
      "spam\n"
     ]
    }
   ],
   "source": [
    "def spam():\n",
    "    global eggs\n",
    "    eggs = 'spam'\n",
    "    \n",
    "eggs = 'global'\n",
    "spam()\n",
    "print(eggs)"
   ]
  },
  {
   "cell_type": "markdown",
   "id": "050fac35-780f-4e44-9da8-e2e6dac6fd56",
   "metadata": {},
   "source": [
    "#### Four rules to tell whether a variable in a local scope or global scope"
   ]
  },
  {
   "cell_type": "markdown",
   "id": "124dd230-e5e8-4f8a-8166-5377c1bcf575",
   "metadata": {},
   "source": [
    "> 1. If a variable is being used in the global scope (that is, outside of all functions), then it is always a global variable.\n",
    "> 2. If there is a global statement for that variable in a function, it is a global variable.\n",
    "> 3. Otherwise, if the variable is used in an assignment in a function, it is a local variable.\n",
    "> 4. But if the variable is not used in an assignment statement, it is a global variable."
   ]
  },
  {
   "cell_type": "code",
   "execution_count": 31,
   "id": "5947c874-8a06-489c-956d-c2db4a9bc4a4",
   "metadata": {},
   "outputs": [
    {
     "name": "stdout",
     "output_type": "stream",
     "text": [
      "42\n",
      "spam\n"
     ]
    }
   ],
   "source": [
    "# sameNameLocalGlobal.py\n",
    "def spam():\n",
    "    global eggs\n",
    "    eggs = 'spam' # this is the global\n",
    "    \n",
    "def bacon():\n",
    "    eggs = 'bacon' # this is a local\n",
    "\n",
    "def ham():\n",
    "    print(eggs) # this is the global\n",
    "\n",
    "eggs = 42 # this is the global\n",
    "print(eggs)\n",
    "spam()\n",
    "print(eggs)"
   ]
  },
  {
   "cell_type": "code",
   "execution_count": 32,
   "id": "b025bfc3-8737-428b-9e6b-15380b1e6948",
   "metadata": {},
   "outputs": [
    {
     "ename": "UnboundLocalError",
     "evalue": "local variable 'eggs' referenced before assignment",
     "output_type": "error",
     "traceback": [
      "\u001b[0;31m---------------------------------------------------------------------------\u001b[0m",
      "\u001b[0;31mUnboundLocalError\u001b[0m                         Traceback (most recent call last)",
      "Cell \u001b[0;32mIn[32], line 7\u001b[0m\n\u001b[1;32m      4\u001b[0m     eggs \u001b[38;5;241m=\u001b[39m \u001b[38;5;124m'\u001b[39m\u001b[38;5;124mspam local\u001b[39m\u001b[38;5;124m'\u001b[39m\n\u001b[1;32m      6\u001b[0m eggs \u001b[38;5;241m=\u001b[39m \u001b[38;5;124m'\u001b[39m\u001b[38;5;124mglobal\u001b[39m\u001b[38;5;124m'\u001b[39m\n\u001b[0;32m----> 7\u001b[0m \u001b[43mspam\u001b[49m\u001b[43m(\u001b[49m\u001b[43m)\u001b[49m\n",
      "Cell \u001b[0;32mIn[32], line 3\u001b[0m, in \u001b[0;36mspam\u001b[0;34m()\u001b[0m\n\u001b[1;32m      2\u001b[0m \u001b[38;5;28;01mdef\u001b[39;00m \u001b[38;5;21mspam\u001b[39m():\n\u001b[0;32m----> 3\u001b[0m     \u001b[38;5;28mprint\u001b[39m(\u001b[43meggs\u001b[49m) \u001b[38;5;66;03m# ERROR!\u001b[39;00m\n\u001b[1;32m      4\u001b[0m     eggs \u001b[38;5;241m=\u001b[39m \u001b[38;5;124m'\u001b[39m\u001b[38;5;124mspam local\u001b[39m\u001b[38;5;124m'\u001b[39m\n",
      "\u001b[0;31mUnboundLocalError\u001b[0m: local variable 'eggs' referenced before assignment"
     ]
    }
   ],
   "source": [
    "# sameNameError.py\n",
    "def spam():\n",
    "    print(eggs) # ERROR!\n",
    "    eggs = 'spam local'\n",
    "    \n",
    "eggs = 'global'\n",
    "spam()"
   ]
  },
  {
   "cell_type": "markdown",
   "id": "0f1ef906-a767-4649-84d8-a029e03ee557",
   "metadata": {},
   "source": [
    "### Exception Handling"
   ]
  },
  {
   "cell_type": "code",
   "execution_count": 33,
   "id": "14df5dd4-7c5a-4525-8f26-ec8e5ce9c962",
   "metadata": {},
   "outputs": [
    {
     "name": "stdout",
     "output_type": "stream",
     "text": [
      "21.0\n",
      "3.5\n"
     ]
    },
    {
     "ename": "ZeroDivisionError",
     "evalue": "division by zero",
     "output_type": "error",
     "traceback": [
      "\u001b[0;31m---------------------------------------------------------------------------\u001b[0m",
      "\u001b[0;31mZeroDivisionError\u001b[0m                         Traceback (most recent call last)",
      "Cell \u001b[0;32mIn[33], line 7\u001b[0m\n\u001b[1;32m      5\u001b[0m \u001b[38;5;28mprint\u001b[39m(spam(\u001b[38;5;241m2\u001b[39m))\n\u001b[1;32m      6\u001b[0m \u001b[38;5;28mprint\u001b[39m(spam(\u001b[38;5;241m12\u001b[39m))\n\u001b[0;32m----> 7\u001b[0m \u001b[38;5;28mprint\u001b[39m(\u001b[43mspam\u001b[49m\u001b[43m(\u001b[49m\u001b[38;5;241;43m0\u001b[39;49m\u001b[43m)\u001b[49m)\n\u001b[1;32m      8\u001b[0m \u001b[38;5;28mprint\u001b[39m(spam(\u001b[38;5;241m1\u001b[39m))\n",
      "Cell \u001b[0;32mIn[33], line 3\u001b[0m, in \u001b[0;36mspam\u001b[0;34m(divideBy)\u001b[0m\n\u001b[1;32m      2\u001b[0m \u001b[38;5;28;01mdef\u001b[39;00m \u001b[38;5;21mspam\u001b[39m(divideBy):\n\u001b[0;32m----> 3\u001b[0m     \u001b[38;5;28;01mreturn\u001b[39;00m \u001b[38;5;241;43m42\u001b[39;49m\u001b[43m \u001b[49m\u001b[38;5;241;43m/\u001b[39;49m\u001b[43m \u001b[49m\u001b[43mdivideBy\u001b[49m\n",
      "\u001b[0;31mZeroDivisionError\u001b[0m: division by zero"
     ]
    }
   ],
   "source": [
    "# zeroDivide.py\n",
    "def spam(divideBy):\n",
    "    return 42 / divideBy\n",
    "\n",
    "print(spam(2))\n",
    "print(spam(12))\n",
    "print(spam(0))\n",
    "print(spam(1))"
   ]
  },
  {
   "cell_type": "code",
   "execution_count": 34,
   "id": "af400dc8-cf18-4791-8e35-f5b10d18f3e7",
   "metadata": {},
   "outputs": [
    {
     "name": "stdout",
     "output_type": "stream",
     "text": [
      "21.0\n",
      "3.5\n",
      "Error: Invalid argument.\n",
      "None\n",
      "42.0\n"
     ]
    }
   ],
   "source": [
    "def spam(divideBy):\n",
    "    try:\n",
    "        return 42 / divideBy\n",
    "    except ZeroDivisionError:\n",
    "        print('Error: Invalid argument.')\n",
    "        \n",
    "print(spam(2))\n",
    "print(spam(12))\n",
    "print(spam(0))\n",
    "print(spam(1))"
   ]
  },
  {
   "cell_type": "code",
   "execution_count": 35,
   "id": "fda5834d-aa38-478c-bb10-497696ce8351",
   "metadata": {},
   "outputs": [
    {
     "name": "stdout",
     "output_type": "stream",
     "text": [
      "21.0\n",
      "3.5\n",
      "Error: Invalid argument.\n"
     ]
    }
   ],
   "source": [
    "def spam(divideBy):\n",
    "    return 42 / divideBy\n",
    "\n",
    "try:\n",
    "    print(spam(2))\n",
    "    print(spam(12))\n",
    "    print(spam(0))\n",
    "    print(spam(1))\n",
    "except ZeroDivisionError:\n",
    "    print('Error: Invalid argument.')"
   ]
  },
  {
   "cell_type": "markdown",
   "id": "fcaf7650-6193-4f9f-aa02-36eddb5dd03a",
   "metadata": {},
   "source": [
    "### A Short Program: Zigzag"
   ]
  },
  {
   "cell_type": "code",
   "execution_count": null,
   "id": "c486ff9c-a058-4ca5-954a-a54c85ad2f57",
   "metadata": {},
   "outputs": [],
   "source": [
    "# import time, sys\n",
    "# indent = 0 # How many spaces to indent.\n",
    "# indentIncreasing = True # Whether the indentation is increasing or not.\n",
    "\n",
    "# try:\n",
    "#     while True: # The main program loop.\n",
    "#         print(' ' * indent, end='')\n",
    "#         print('*' * 8)\n",
    "#         time.sleep(0.1) # Pause for 1/10 of a second.\n",
    "        \n",
    "#         if indentIncreasing:\n",
    "#             # Increase the number of spaces:\n",
    "#             indent += 1\n",
    "#             if indent == 20:\n",
    "#                 # Change direction:\n",
    "#                 indentIncreasing = False\n",
    "#         else:\n",
    "#             # Decrease the number of spaces:\n",
    "#             indent -= 1\n",
    "#             if indent == 0:\n",
    "#                 # Change direction:\n",
    "#                 indentIncreasing = True        \n",
    "# except KeyboardInterrupt:\n",
    "#     sys.exit()"
   ]
  },
  {
   "cell_type": "code",
   "execution_count": null,
   "id": "41b214fa-3a93-4a66-966e-1d674ca55330",
   "metadata": {},
   "outputs": [],
   "source": []
  },
  {
   "cell_type": "code",
   "execution_count": null,
   "id": "3d011425-56cb-410e-ad7e-47d42caa738c",
   "metadata": {},
   "outputs": [],
   "source": []
  },
  {
   "cell_type": "code",
   "execution_count": null,
   "id": "114d2acd-4573-40f5-9370-87235c82710d",
   "metadata": {},
   "outputs": [],
   "source": []
  }
 ],
 "metadata": {
  "kernelspec": {
   "display_name": "Python 3 (ipykernel)",
   "language": "python",
   "name": "python3"
  },
  "language_info": {
   "codemirror_mode": {
    "name": "ipython",
    "version": 3
   },
   "file_extension": ".py",
   "mimetype": "text/x-python",
   "name": "python",
   "nbconvert_exporter": "python",
   "pygments_lexer": "ipython3",
   "version": "3.9.15"
  }
 },
 "nbformat": 4,
 "nbformat_minor": 5
}
