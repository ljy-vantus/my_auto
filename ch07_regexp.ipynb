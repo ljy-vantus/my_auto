{
 "cells": [
  {
   "cell_type": "markdown",
   "id": "1f0a73a4-defc-42ff-85f0-076f75fc567d",
   "metadata": {},
   "source": [
    "# Pattern Matching With Regular Expressions"
   ]
  },
  {
   "cell_type": "markdown",
   "id": "ef03c91f-aaa0-43b0-bb3d-ff01605dcd2e",
   "metadata": {},
   "source": [
    "## Finding Patterns of Text Without Regular Expressions"
   ]
  },
  {
   "cell_type": "code",
   "execution_count": 1,
   "id": "8e0f7184-ad9b-47b2-a519-ef82a75afcca",
   "metadata": {},
   "outputs": [
    {
     "name": "stdout",
     "output_type": "stream",
     "text": [
      "Phone number found: 415-555-1011\n",
      "Phone number found: 415-555-9999\n",
      "Done\n"
     ]
    }
   ],
   "source": [
    "# isPhoneNumber.py\n",
    "def isPhoneNumber(text):\n",
    "    if len(text) != 12:\n",
    "        return False\n",
    "    for i in range(0, 3):\n",
    "        if not text[i].isdecimal():\n",
    "            return False\n",
    "    if text[3] != '-':\n",
    "        return False\n",
    "    for i in range(4, 7):\n",
    "        if not text[i].isdecimal():\n",
    "            return False\n",
    "    if text[7] != '-':\n",
    "        return False\n",
    "    for i in range(8, 12):\n",
    "        if not text[i].isdecimal():\n",
    "            return False\n",
    "    return True\n",
    "\n",
    "# print('Is 415-555-4242 a phone number?')\n",
    "# print(isPhoneNumber('415-555-4242'))\n",
    "# print('Is Moshi moshi a phone number?')\n",
    "# print(isPhoneNumber('Moshi moshi'))\n",
    "\n",
    "message = 'Call me at 415-555-1011 tomorrow. 415-555-9999 is my office.'\n",
    "for i in range(len(message)):\n",
    "    chunk = message[i:i+12]\n",
    "    if isPhoneNumber(chunk):\n",
    "        print('Phone number found: ' + chunk)\n",
    "print('Done')"
   ]
  },
  {
   "cell_type": "markdown",
   "id": "2c2afc1c-473b-43bc-9f97-c2bc39e12656",
   "metadata": {},
   "source": [
    "## Finding Patterns of Text With Regular Expressions"
   ]
  },
  {
   "cell_type": "code",
   "execution_count": 2,
   "id": "ef6806d0-5611-4e21-ba0c-a4a404537204",
   "metadata": {},
   "outputs": [],
   "source": [
    "import re\n",
    "phoneNumRegex = re.compile(r'\\d\\d\\d-\\d\\d\\d-\\d\\d\\d\\d')"
   ]
  },
  {
   "cell_type": "markdown",
   "id": "f35a8976-2533-49cb-b816-73ea044e1245",
   "metadata": {},
   "source": [
    "### Matching Regex Objects"
   ]
  },
  {
   "cell_type": "code",
   "execution_count": 3,
   "id": "be02063b-754b-433c-8696-0cac6bdc7823",
   "metadata": {},
   "outputs": [
    {
     "name": "stdout",
     "output_type": "stream",
     "text": [
      "Phone number found: 415-555-4242\n"
     ]
    }
   ],
   "source": [
    "import re\n",
    "phoneNumRegex = re.compile(r'\\d\\d\\d-\\d\\d\\d-\\d\\d\\d\\d')\n",
    "mo = phoneNumRegex.search('My number is 415-555-4242.')\n",
    "print('Phone number found: ' + mo.group())"
   ]
  },
  {
   "cell_type": "markdown",
   "id": "838118e0-a368-4f5b-9e49-aaada28defb4",
   "metadata": {},
   "source": [
    "### Review of Regular Expression Matching\n",
    "1. Import the regex module with import re.\n",
    "2. Create a Regex object with the re.compile() function. (Remember to use a raw string.)\n",
    "3. Pass the stirng you want to search into the Regex object's search() method. This returns a Match object.\n",
    "4. Call the Match object's group() method to return a string of the actual matched text."
   ]
  },
  {
   "cell_type": "markdown",
   "id": "4f6e9823-5d7e-4d15-8398-364e6cd63e26",
   "metadata": {},
   "source": [
    "## More Pattern Matching with Regular Expressions"
   ]
  },
  {
   "cell_type": "markdown",
   "id": "a02ac6b4-f6c9-469b-92ab-370e45562a64",
   "metadata": {},
   "source": [
    "### Grouping with Parentheses"
   ]
  },
  {
   "cell_type": "code",
   "execution_count": 4,
   "id": "0d272134-78fa-4d18-a666-eb99679e0221",
   "metadata": {},
   "outputs": [
    {
     "name": "stdout",
     "output_type": "stream",
     "text": [
      "415\n",
      "555-4242\n",
      "415-555-4242\n",
      "415-555-4242\n",
      "('415', '555-4242')\n",
      "415\n",
      "555-4242\n"
     ]
    }
   ],
   "source": [
    "import re\n",
    "phoneNumRegex = re.compile(r'(\\d\\d\\d)-(\\d\\d\\d-\\d\\d\\d\\d)')\n",
    "mo = phoneNumRegex.search('My number is 415-555-4242.')\n",
    "print(mo.group(1))\n",
    "print(mo.group(2))\n",
    "print(mo.group(0))\n",
    "print(mo.group())\n",
    "\n",
    "# retrieve all the groups\n",
    "print(mo.groups())\n",
    "# multiple-assignment trick\n",
    "areaCode, mainNumber = mo.groups()\n",
    "print(areaCode)\n",
    "print(mainNumber)"
   ]
  },
  {
   "cell_type": "code",
   "execution_count": 5,
   "id": "2f1760cf-093d-4417-bd8e-dbc476c05420",
   "metadata": {},
   "outputs": [
    {
     "name": "stdout",
     "output_type": "stream",
     "text": [
      "(415)\n",
      "555-4242\n"
     ]
    }
   ],
   "source": [
    "import re\n",
    "phoneNumRegex = re.compile(r'(\\(\\d\\d\\d\\)) (\\d\\d\\d-\\d\\d\\d\\d)')\n",
    "mo = phoneNumRegex.search('My phone number is (415) 555-4242.')\n",
    "print(mo.group(1))\n",
    "print(mo.group(2))"
   ]
  },
  {
   "cell_type": "code",
   "execution_count": 6,
   "id": "33e91b1f-e903-4140-8b07-1e704c7aaf57",
   "metadata": {},
   "outputs": [],
   "source": [
    "import re\n",
    "# re.compile(r'(\\(Parentheses\\)') error: missing ), unterminated subpattern at position 0"
   ]
  },
  {
   "cell_type": "markdown",
   "id": "d185974b-5284-4193-9e1d-6d6baf5e4b80",
   "metadata": {},
   "source": [
    "### Matching Multiple Groups with the Pipe"
   ]
  },
  {
   "cell_type": "code",
   "execution_count": 7,
   "id": "7cba756e-ee84-45d7-b3e8-45e5eed8735d",
   "metadata": {},
   "outputs": [
    {
     "name": "stdout",
     "output_type": "stream",
     "text": [
      "Batman\n",
      "Tina Fey\n"
     ]
    }
   ],
   "source": [
    "# the first occurrence of matching text will be returned as the Match object.\n",
    "import re\n",
    "heroRegex = re.compile(r'Batman|Tina Fey')\n",
    "mo1 = heroRegex.search('Batman and Tina Fey')\n",
    "print(mo1.group())\n",
    "\n",
    "mo2 = heroRegex.search('Tina Fey and Batman')\n",
    "print(mo2.group())"
   ]
  },
  {
   "cell_type": "code",
   "execution_count": 8,
   "id": "5e253384-69ab-4b24-bac6-ab219c978d73",
   "metadata": {},
   "outputs": [
    {
     "name": "stdout",
     "output_type": "stream",
     "text": [
      "Batmobile\n",
      "mobile\n"
     ]
    }
   ],
   "source": [
    "import re\n",
    "batRegex = re.compile(r'Bat(man|mobile|copter|bat)')\n",
    "mo = batRegex.search('Batmobile lost a wheel')\n",
    "print(mo.group())\n",
    "print(mo.group(1))"
   ]
  },
  {
   "cell_type": "markdown",
   "id": "f5043182-b6d2-43c3-9691-e46a245056e9",
   "metadata": {},
   "source": [
    "### Optional Matching with the Question Mark"
   ]
  },
  {
   "cell_type": "code",
   "execution_count": 9,
   "id": "25259935-521f-4cfd-a81e-6763a971e0c1",
   "metadata": {},
   "outputs": [
    {
     "name": "stdout",
     "output_type": "stream",
     "text": [
      "Batman\n",
      "Batwoman\n"
     ]
    }
   ],
   "source": [
    "import re\n",
    "batRegex = re.compile(r'Bat(wo)?man')\n",
    "mo1 = batRegex.search('The Adventures of Batman')\n",
    "print(mo1.group())\n",
    "\n",
    "mo2 = batRegex.search('The Adventures of Batwoman')\n",
    "print(mo2.group())"
   ]
  },
  {
   "cell_type": "code",
   "execution_count": 10,
   "id": "d7bc7a76-e43e-47b2-9e69-faea109ed2c0",
   "metadata": {},
   "outputs": [
    {
     "name": "stdout",
     "output_type": "stream",
     "text": [
      "415-555-4242\n",
      "555-4242\n"
     ]
    }
   ],
   "source": [
    "import re\n",
    "phoneRegex = re.compile(r'(\\d\\d\\d-)?\\d\\d\\d-\\d\\d\\d\\d')\n",
    "mo1 = phoneRegex.search('My number is 415-555-4242')\n",
    "print(mo1.group())\n",
    "\n",
    "mo2 = phoneRegex.search('My number is 555-4242')\n",
    "print(mo2.group())"
   ]
  },
  {
   "cell_type": "markdown",
   "id": "eb1521ce-8d2d-4a2d-b461-f816ad07d382",
   "metadata": {},
   "source": [
    "### Matching Zero or More with the Star"
   ]
  },
  {
   "cell_type": "code",
   "execution_count": 11,
   "id": "0cf2359a-d091-42d7-a5da-22599ea5366a",
   "metadata": {},
   "outputs": [
    {
     "name": "stdout",
     "output_type": "stream",
     "text": [
      "Batman\n",
      "Batwoman\n",
      "Batwowowoman\n"
     ]
    }
   ],
   "source": [
    "import re\n",
    "batRegex = re.compile(r'Bat(wo)*man')\n",
    "mo1 = batRegex.search('The Adventures of Batman')\n",
    "print(mo1.group())\n",
    "\n",
    "mo2 = batRegex.search('The Adventures of Batwoman')\n",
    "print(mo2.group())\n",
    "\n",
    "mo3 = batRegex.search('The Adventures of Batwowowoman')\n",
    "print(mo3.group())"
   ]
  },
  {
   "cell_type": "markdown",
   "id": "8f00ccfe-490c-4cbe-98f9-b78532393071",
   "metadata": {},
   "source": [
    "### Matching One or More with the Plus"
   ]
  },
  {
   "cell_type": "code",
   "execution_count": 12,
   "id": "a5ad80b1-ea6c-4cf7-86c6-ddb844623604",
   "metadata": {},
   "outputs": [
    {
     "name": "stdout",
     "output_type": "stream",
     "text": [
      "Batwoman\n",
      "Batwowowowoman\n",
      "True\n"
     ]
    }
   ],
   "source": [
    "import re\n",
    "batRegex = re.compile(r'Bat(wo)+man')\n",
    "mo1 = batRegex.search('The Adventures of Batwoman')\n",
    "print(mo1.group())\n",
    "\n",
    "mo2 = batRegex.search('The Adventures of Batwowowowoman')\n",
    "print(mo2.group())\n",
    "\n",
    "mo3 = batRegex.search('The Adventures of Batman')\n",
    "print(mo3 == None)"
   ]
  },
  {
   "cell_type": "markdown",
   "id": "9ce6efd8-3adf-429b-beee-7fea11c7ffb9",
   "metadata": {},
   "source": [
    "### Matching Specific Repetitions with Braces"
   ]
  },
  {
   "cell_type": "code",
   "execution_count": 13,
   "id": "0e4189e4-9c23-43dd-9352-090d1b88369c",
   "metadata": {},
   "outputs": [
    {
     "name": "stdout",
     "output_type": "stream",
     "text": [
      "HaHaHa\n",
      "True\n"
     ]
    }
   ],
   "source": [
    "# (Ha){3} == (Ha)(Ha)(Ha)\n",
    "# (Ha){3,5} == ((Ha)(Ha)(Ha))|((Ha)(Ha)(Ha)(Ha))|((Ha)(Ha)(Ha)(Ha)(Ha))\n",
    "import re\n",
    "haRegex = re.compile(r'(Ha){3}')\n",
    "mo1 = haRegex.search('HaHaHa')\n",
    "print(mo1.group())\n",
    "\n",
    "mo2 = haRegex.search('Ha')\n",
    "print(mo2 == None)"
   ]
  },
  {
   "cell_type": "markdown",
   "id": "bfb8b116-8731-4e25-90ab-601a60a27476",
   "metadata": {},
   "source": [
    "## Greedy and Non-greedy Matching"
   ]
  },
  {
   "cell_type": "code",
   "execution_count": 14,
   "id": "cf269e24-dee5-476e-8afc-d5070e4488a4",
   "metadata": {},
   "outputs": [
    {
     "name": "stdout",
     "output_type": "stream",
     "text": [
      "HaHaHaHaHa\n",
      "HaHaHa\n"
     ]
    },
    {
     "data": {
      "text/plain": [
       "'\\nThe question mark has two meanings in regular expressions:\\n1. declaring a non-greedy match\\n2. flagging an optional group\\n'"
      ]
     },
     "execution_count": 14,
     "metadata": {},
     "output_type": "execute_result"
    }
   ],
   "source": [
    "import re\n",
    "greedyHaRegex = re.compile(r'(Ha){3,5}')\n",
    "mo1 = greedyHaRegex.search('HaHaHaHaHa')\n",
    "print(mo1.group())\n",
    "\n",
    "nongreedyHaRagex = re.compile(r'(Ha){3,5}?')\n",
    "mo2 = nongreedyHaRagex.search('HaHaHaHaHa')\n",
    "print(mo2.group())\n",
    "\n",
    "\"\"\"\n",
    "The question mark has two meanings in regular expressions:\n",
    "1. declaring a non-greedy match\n",
    "2. flagging an optional group\n",
    "\"\"\""
   ]
  },
  {
   "cell_type": "markdown",
   "id": "4ee0e439-7989-4f9b-aae4-1e3d2eba73bc",
   "metadata": {},
   "source": [
    "## The findall() Method"
   ]
  },
  {
   "cell_type": "code",
   "execution_count": 15,
   "id": "bf7342b4-bf9f-4a9f-a6e7-f209235b6a5f",
   "metadata": {},
   "outputs": [
    {
     "data": {
      "text/plain": [
       "'415-555-9999'"
      ]
     },
     "execution_count": 15,
     "metadata": {},
     "output_type": "execute_result"
    }
   ],
   "source": [
    "import re\n",
    "phoneNumRegex = re.compile(r'\\d\\d\\d-\\d\\d\\d-\\d\\d\\d\\d')\n",
    "# search() returns a Match object only on the first instance of matching text\n",
    "mo = phoneNumRegex.search('Cell: 415-555-9999 Work: 212-555-0000')\n",
    "mo.group()"
   ]
  },
  {
   "cell_type": "code",
   "execution_count": 16,
   "id": "d02d137a-b0d8-4bf8-bbc9-4b2004fab957",
   "metadata": {},
   "outputs": [
    {
     "data": {
      "text/plain": [
       "['415-555-9999', '212-555-0000']"
      ]
     },
     "execution_count": 16,
     "metadata": {},
     "output_type": "execute_result"
    }
   ],
   "source": [
    "import re\n",
    "phoneNumRegex = re.compile(r'\\d\\d\\d-\\d\\d\\d-\\d\\d\\d\\d') # has no groups\n",
    "phoneNumRegex.findall('Cell: 415-555-9999 Work: 212-555-0000')"
   ]
  },
  {
   "cell_type": "code",
   "execution_count": 17,
   "id": "da3aa49e-bddd-4e80-8984-4973be1a9f29",
   "metadata": {},
   "outputs": [
    {
     "data": {
      "text/plain": [
       "[('415', '555', '9999'), ('212', '555', '0000')]"
      ]
     },
     "execution_count": 17,
     "metadata": {},
     "output_type": "execute_result"
    }
   ],
   "source": [
    "import re\n",
    "phoneNumRegex = re.compile(r'(\\d\\d\\d)-(\\d\\d\\d)-(\\d\\d\\d\\d)') # has groups\n",
    "phoneNumRegex.findall('Cell: 415-555-9999 Work: 212-555-0000')"
   ]
  },
  {
   "cell_type": "code",
   "execution_count": 18,
   "id": "feb31592-7731-41f5-bcd9-1e08909080fe",
   "metadata": {},
   "outputs": [
    {
     "data": {
      "text/plain": [
       "'\\nTo summarize what the findall() method returns.\\n1. When called on a regex with no groups, the findall() returns\\n    a list of string matches.\\n2. When called on a regex that has groups, the findall() returns\\n    a list of tuples of strings.\\n'"
      ]
     },
     "execution_count": 18,
     "metadata": {},
     "output_type": "execute_result"
    }
   ],
   "source": [
    "\"\"\"\n",
    "To summarize what the findall() method returns.\n",
    "1. When called on a regex with no groups, the findall() returns\n",
    "    a list of string matches.\n",
    "2. When called on a regex that has groups, the findall() returns\n",
    "    a list of tuples of strings.\n",
    "\"\"\""
   ]
  },
  {
   "cell_type": "markdown",
   "id": "134730a1-4ea1-4f1d-8f1c-c6fa0316fedf",
   "metadata": {},
   "source": [
    "## Character Classes"
   ]
  },
  {
   "cell_type": "code",
   "execution_count": 19,
   "id": "2c0b3301-d5db-4bc1-bbc3-53cace0d5d64",
   "metadata": {},
   "outputs": [
    {
     "data": {
      "text/plain": [
       "['12 drummers',\n",
       " '11 pipers',\n",
       " '10 lords',\n",
       " '9 ladies',\n",
       " '8 maids',\n",
       " '6 geese',\n",
       " '5 rings',\n",
       " '4 birds',\n",
       " '3 hens',\n",
       " '2 doves',\n",
       " '1 partridge']"
      ]
     },
     "execution_count": 19,
     "metadata": {},
     "output_type": "execute_result"
    }
   ],
   "source": [
    "import re\n",
    "xmasRegex = re.compile(r'\\d+\\s\\w+')\n",
    "xmasRegex.findall('12 drummers, 11 pipers, 10 lords, 9 ladies, 8 maids, 7 \\\n",
    "    swans, 6 geese, 5 rings, 4 birds, 3 hens, 2 doves, 1 partridge')"
   ]
  },
  {
   "cell_type": "markdown",
   "id": "7b618154-c68a-4f82-8979-1f92a2c4854c",
   "metadata": {},
   "source": [
    "## Making Your Own Character Classes"
   ]
  },
  {
   "cell_type": "code",
   "execution_count": 20,
   "id": "fd42513b-471a-4299-a8e3-2490fb3811e7",
   "metadata": {},
   "outputs": [
    {
     "name": "stdout",
     "output_type": "stream",
     "text": [
      "['o', 'o', 'o', 'e', 'a', 'a', 'o', 'o', 'A', 'O', 'O']\n"
     ]
    },
    {
     "data": {
      "text/plain": [
       "['R',\n",
       " 'b',\n",
       " 'C',\n",
       " 'p',\n",
       " ' ',\n",
       " 't',\n",
       " 's',\n",
       " ' ',\n",
       " 'b',\n",
       " 'b',\n",
       " 'y',\n",
       " ' ',\n",
       " 'f',\n",
       " 'd',\n",
       " '.',\n",
       " ' ',\n",
       " 'B',\n",
       " 'B',\n",
       " 'Y',\n",
       " ' ',\n",
       " 'F',\n",
       " 'D',\n",
       " '.']"
      ]
     },
     "execution_count": 20,
     "metadata": {},
     "output_type": "execute_result"
    }
   ],
   "source": [
    "import re\n",
    "vowelRegex = re.compile(r'[aeiouAEIOU]')\n",
    "print(vowelRegex.findall('RoboCop eats baby food. BABY FOOD.'))\n",
    "\n",
    "consonantRegex = re.compile(r'[^aeiouAEIOU]')\n",
    "consonantRegex.findall('RoboCop eats baby food. BABY FOOD.')"
   ]
  },
  {
   "cell_type": "markdown",
   "id": "808779b2-f751-4218-965c-dd543c8da530",
   "metadata": {},
   "source": [
    "## The Caret and Dollar Sign Characters"
   ]
  },
  {
   "cell_type": "code",
   "execution_count": 21,
   "id": "86e89fed-795e-44fb-ac94-bdf9c6dbcab7",
   "metadata": {},
   "outputs": [
    {
     "name": "stdout",
     "output_type": "stream",
     "text": [
      "<re.Match object; span=(0, 5), match='Hello'>\n",
      "None\n"
     ]
    }
   ],
   "source": [
    "import re\n",
    "beginsWithHello = re.compile(r'^Hello')\n",
    "print(beginsWithHello.search('Hello, world!'))\n",
    "print(beginsWithHello.search('He said Hello.'))"
   ]
  },
  {
   "cell_type": "code",
   "execution_count": 22,
   "id": "e3508e98-e3e4-403c-8477-3139e59c5103",
   "metadata": {},
   "outputs": [
    {
     "name": "stdout",
     "output_type": "stream",
     "text": [
      "<re.Match object; span=(16, 17), match='2'>\n",
      "True\n"
     ]
    }
   ],
   "source": [
    "import re\n",
    "endsWithNumber = re.compile(r'\\d$')\n",
    "print(endsWithNumber.search('Your number is 42'))\n",
    "print(endsWithNumber.search('Your number is forty two.') == None)"
   ]
  },
  {
   "cell_type": "code",
   "execution_count": 23,
   "id": "4bc031b5-4fd9-4a1d-b719-e6e0dbd17bc3",
   "metadata": {},
   "outputs": [
    {
     "name": "stdout",
     "output_type": "stream",
     "text": [
      "<re.Match object; span=(0, 10), match='1234567890'>\n",
      "True\n",
      "True\n"
     ]
    }
   ],
   "source": [
    "import re\n",
    "wholeStringIsNum = re.compile(r'^\\d+$')\n",
    "print(wholeStringIsNum.search('1234567890'))\n",
    "print(wholeStringIsNum.search('123456xyz7890') == None)\n",
    "print(wholeStringIsNum.search('12   34567890') == None)"
   ]
  },
  {
   "cell_type": "markdown",
   "id": "6c064c47-7820-468e-8d54-4d67f44c7796",
   "metadata": {},
   "source": [
    "## The Wildcard Character"
   ]
  },
  {
   "cell_type": "code",
   "execution_count": 24,
   "id": "b25d8c03-6ac7-4b95-9ffb-6d245b3664ea",
   "metadata": {},
   "outputs": [
    {
     "data": {
      "text/plain": [
       "['cat', 'hat', 'sat', 'lat', 'mat']"
      ]
     },
     "execution_count": 24,
     "metadata": {},
     "output_type": "execute_result"
    }
   ],
   "source": [
    "import re\n",
    "atRegex = re.compile(r'.at')\n",
    "atRegex.findall('The cat in the hat sat on the flat mat.')"
   ]
  },
  {
   "cell_type": "markdown",
   "id": "d75cf5a0-b7f9-4109-b941-81bd63423b80",
   "metadata": {},
   "source": [
    "### Matching Everything with Dot-Star"
   ]
  },
  {
   "cell_type": "code",
   "execution_count": 25,
   "id": "9f56cd8e-ba82-4fc2-ba1d-0b114466822e",
   "metadata": {},
   "outputs": [
    {
     "name": "stdout",
     "output_type": "stream",
     "text": [
      "Al\n",
      "Sweigart\n"
     ]
    }
   ],
   "source": [
    "import re\n",
    "nameRegex = re.compile(r'First Name: (.*) Last Name: (.*)')\n",
    "mo = nameRegex.search('First Name: Al Last Name: Sweigart')\n",
    "print(mo.group(1))\n",
    "print(mo.group(2))"
   ]
  },
  {
   "cell_type": "code",
   "execution_count": 26,
   "id": "76dac3dd-5133-4dac-af94-66f0bab4c4a1",
   "metadata": {},
   "outputs": [
    {
     "name": "stdout",
     "output_type": "stream",
     "text": [
      "<To serve man>\n",
      "<To serve man> for dinner.>\n"
     ]
    }
   ],
   "source": [
    "import re\n",
    "nongreedyRegex = re.compile(r'<.*?>')\n",
    "mo = nongreedyRegex.search('<To serve man> for dinner.>')\n",
    "print(mo.group())\n",
    "\n",
    "greedyRegex = re.compile(r'<.*>')\n",
    "mo = greedyRegex.search('<To serve man> for dinner.>')\n",
    "print(mo.group())"
   ]
  },
  {
   "cell_type": "markdown",
   "id": "37b7f074-c457-4b32-9ac9-5b04121b42fd",
   "metadata": {},
   "source": [
    "### Matching Newlines with the Dot Character"
   ]
  },
  {
   "cell_type": "code",
   "execution_count": 27,
   "id": "2327e3ff-fba2-4657-ba98-320b75839628",
   "metadata": {},
   "outputs": [
    {
     "name": "stdout",
     "output_type": "stream",
     "text": [
      "Serve the public trust.\n",
      "\n",
      "Serve the public trust.\n",
      "Protect the innocent.\n",
      "Uphold the law.\n"
     ]
    }
   ],
   "source": [
    "import re\n",
    "noNewlineRegex = re.compile('.*')\n",
    "print(noNewlineRegex.search('Serve the public trust.\\nProtect the innocent.\\nUphold the law.').group())\n",
    "\n",
    "print()\n",
    "\n",
    "newlineRegex = re.compile('.*', re.DOTALL)\n",
    "print(newlineRegex.search('Serve the public trust.\\nProtect the innocent.\\nUphold the law.').group())"
   ]
  },
  {
   "cell_type": "markdown",
   "id": "27264da0-f0e3-4851-8fd7-a6703eed183e",
   "metadata": {
    "jp-MarkdownHeadingCollapsed": true,
    "tags": []
   },
   "source": [
    "## Review of Regex Symbols\n",
    "1. The ? matches zero or one of the preceding group.\n",
    "1. The * matches zero or more of the preceding group.\n",
    "1. The + matches one or more of the preceding group.\n",
    "1. The {n} matches exactly n of the preceding group.\n",
    "1. The {n,} matches n or more of the preceding group.\n",
    "1. The {,m} matches 0 to m of the preceding group.\n",
    "1. The {n,m} matches at least n and at most m of the preceding group.\n",
    "1. {n,m}? or *? or +? performs a non-greedy match of the preceding group.\n",
    "1. ^spam means the string must begin with spam.\n",
    "1. spam$ means the string must end with spam.\n",
    "1. The . matches any character, except newline characters.\n",
    "1. \\d, \\w, \\s match a digit, word, or space character, respectively.\n",
    "1. \\D, \\W, \\S match anything except a digit, word, or space character, respectively.\n",
    "1. [abc] matches any character between the brackets (such as a, b, or c).\n",
    "1. [^abc] matches any character that isn't between the brackets."
   ]
  },
  {
   "cell_type": "markdown",
   "id": "61c1d156-7a5c-4255-88e3-dd12ea79d2fa",
   "metadata": {},
   "source": [
    "## Case-Insensitive Matching"
   ]
  },
  {
   "cell_type": "code",
   "execution_count": 28,
   "id": "35f5dcaf-b3c3-4656-8161-9a99c4cf0b6a",
   "metadata": {},
   "outputs": [],
   "source": [
    "import re\n",
    "regex1 = re.compile('RoboCop')\n",
    "regex2 = re.compile('ROBOCOP')\n",
    "regex3 = re.compile('robOcop')\n",
    "regex4 = re.compile('RobocOp')"
   ]
  },
  {
   "cell_type": "code",
   "execution_count": 29,
   "id": "3d7977e2-e1f7-4865-9e51-44d22ba922de",
   "metadata": {},
   "outputs": [
    {
     "name": "stdout",
     "output_type": "stream",
     "text": [
      "RoboCop\n",
      "ROBOCOP\n",
      "robocop\n"
     ]
    }
   ],
   "source": [
    "import re\n",
    "robocop = re.compile(r'robocop', re.I)\n",
    "print(robocop.search('RoboCop is part man, part machine, all cop.').group())\n",
    "print(robocop.search('ROBOCOP protects the innocent.').group())\n",
    "print(robocop.search('Al, why does your programming book talk about robocop so mush?').group())"
   ]
  },
  {
   "cell_type": "markdown",
   "id": "8f94c7cd-25df-4cea-b294-eb26c2daf96a",
   "metadata": {},
   "source": [
    "## Substituting Strings with the sub() Method"
   ]
  },
  {
   "cell_type": "code",
   "execution_count": 30,
   "id": "cd49020e-702c-4f32-bc19-cc13b75a4810",
   "metadata": {},
   "outputs": [
    {
     "data": {
      "text/plain": [
       "'CENSORED gave the secret documents to CENSORED.'"
      ]
     },
     "execution_count": 30,
     "metadata": {},
     "output_type": "execute_result"
    }
   ],
   "source": [
    "import re\n",
    "namesRegex = re.compile(r'Agent \\w+')\n",
    "namesRegex.sub('CENSORED', 'Agent Alice gave the secret documents to Agent Bob.')"
   ]
  },
  {
   "cell_type": "code",
   "execution_count": 31,
   "id": "7aa9d8ae-5353-41cf-a450-2c8f1dee0169",
   "metadata": {},
   "outputs": [
    {
     "data": {
      "text/plain": [
       "'A**** told C**** that E**** knew B**** was a double agent.'"
      ]
     },
     "execution_count": 31,
     "metadata": {},
     "output_type": "execute_result"
    }
   ],
   "source": [
    "import re\n",
    "agentNamesRegex = re.compile(r'Agent (\\w)\\w*')\n",
    "agentNamesRegex.sub(r'\\1****', 'Agent Alice told Agent Carol that Agent Eve knew Agent Bob was a double agent.')"
   ]
  },
  {
   "cell_type": "markdown",
   "id": "59b83888-d150-401e-a330-f606ecf663f3",
   "metadata": {},
   "source": [
    "## Managing Complex Regexes"
   ]
  },
  {
   "cell_type": "code",
   "execution_count": 32,
   "id": "af33fc9f-3205-4615-9c52-ed0a7e82f3fd",
   "metadata": {},
   "outputs": [],
   "source": [
    "import re\n",
    "phoneRegex = re.compile(r'''(\n",
    "    (\\d{3}|\\(\\d{3}\\))?           # area code\n",
    "    (\\s|-|\\.)?                   # separator\n",
    "    \\d{3}                        # first 3 digits\n",
    "    (\\s|-|\\.)?                   # separator\n",
    "    \\d{4}                        # last 4 digits\n",
    "    (\\s*(ext|x|ext.)\\s*\\d{2,5})? # extension\n",
    ")''', re.VERBOSE)"
   ]
  },
  {
   "cell_type": "markdown",
   "id": "27a636a0-eff2-432d-82b6-f9fb2f354b49",
   "metadata": {},
   "source": [
    "## Combining re.IGNORECASE, re.DOTALL, and re.VERBOSE"
   ]
  },
  {
   "cell_type": "code",
   "execution_count": 33,
   "id": "249e6b74-1259-48b5-a369-d72c19e3641d",
   "metadata": {},
   "outputs": [],
   "source": [
    "import re\n",
    "someRegexValue = re.compile('foo', re.IGNORECASE | re.DOTALL)\n",
    "someRegexValue = re.compile('foo', re.IGNORECASE | re.DOTALL | re.VERBOSE)"
   ]
  },
  {
   "cell_type": "markdown",
   "id": "063da8d5-c588-4975-b9c4-1d5b70cba54f",
   "metadata": {},
   "source": [
    "## Project: Phone Number and Email Address Extractor\n",
    "### Steps:\n",
    "1. Get the text off the clipboard.\n",
    "1. Find all phone numbers and email addresses in the text.\n",
    "1. Paste them onto the clipboard.\n",
    "### Coding steps:\n",
    "1. Use the pyperclip module to copy and paste strings.\n",
    "1. Create two regexes, one for matching phone numbers and the other for matching email address.\n",
    "1. Find all matches, not just the first match, of both regexes.\n",
    "1. Neatly format the matched strings into a sing string to paste.\n",
    "1. Display some kind of message if no matches were found in the text."
   ]
  },
  {
   "cell_type": "code",
   "execution_count": 34,
   "id": "7e2bdeb7-2c70-436c-a68f-25153cab3759",
   "metadata": {},
   "outputs": [
    {
     "name": "stdout",
     "output_type": "stream",
     "text": [
      "No phone numbers or email addresses found.\n"
     ]
    }
   ],
   "source": [
    "# phoneAndEmail.py\n",
    "import pyperclip, re\n",
    "\n",
    "phoneRegex = re.compile(r'''(\n",
    "    (\\d{3}|\\(\\d{3}\\))?              # area code\n",
    "    (\\s|-|\\.)?                      # separator\n",
    "    (\\d{3})                         # first 3 digits\n",
    "    (\\s|-|\\.)?                      # separator\n",
    "    (\\d{4})                         # first 4 digits\n",
    "    (\\s*(ext|x|ext.)\\s*(\\d{2,5}))?  # extension\n",
    ")''', re.VERBOSE)\n",
    "\n",
    "emailRegex = re.compile(r'''(\n",
    "    [a-zA-Z0-9._%+-]+ # username\n",
    "    @                 # @ symbol\n",
    "    [a-zA-Z0-9._]+    # domain name\n",
    "    (\\.[a-zA-Z]{2,4}) # dot-something\n",
    ")''', re.VERBOSE)\n",
    "\n",
    "# Find matches in clipboard text.\n",
    "text = pyperclip.paste()\n",
    "\n",
    "matches = []\n",
    "for groups in phoneRegex.findall(text):\n",
    "    phoneNum = '-'.join([groups[1], groups[3], groups[5]])\n",
    "    if groups[8] != '':\n",
    "        phoneNum += ' x' + groups[8]\n",
    "    matches.append(phoneNum)\n",
    "for groups in emailRegex.findall(text):\n",
    "    matches.append(groups[0])\n",
    "                         \n",
    "# Copy results to the clipboard.\n",
    "if len(matches) > 0:\n",
    "    pyperclip.copy('\\n'.join(matches))\n",
    "    print('Copied to clipboard:')\n",
    "    print('\\n'.join(matches))\n",
    "else:\n",
    "    print('No phone numbers or email addresses found.')"
   ]
  }
 ],
 "metadata": {
  "kernelspec": {
   "display_name": "Python 3 (ipykernel)",
   "language": "python",
   "name": "python3"
  },
  "language_info": {
   "codemirror_mode": {
    "name": "ipython",
    "version": 3
   },
   "file_extension": ".py",
   "mimetype": "text/x-python",
   "name": "python",
   "nbconvert_exporter": "python",
   "pygments_lexer": "ipython3",
   "version": "3.9.15"
  }
 },
 "nbformat": 4,
 "nbformat_minor": 5
}
