{
 "cells": [
  {
   "cell_type": "markdown",
   "id": "0688e349-00a8-4a06-b271-829882c15d13",
   "metadata": {},
   "source": [
    "# Organizing Files"
   ]
  },
  {
   "cell_type": "markdown",
   "id": "8870c4e0-569e-4ac4-87b0-4a03495cc776",
   "metadata": {},
   "source": [
    "## The shutil Module"
   ]
  },
  {
   "cell_type": "markdown",
   "id": "29237119-c05b-44e3-b922-cbfc92ed2120",
   "metadata": {},
   "source": [
    "### Copying Files and Folders"
   ]
  },
  {
   "cell_type": "code",
   "execution_count": null,
   "id": "7d4c5aa4-a6a5-4bf8-ad0c-b6f7826fcc0f",
   "metadata": {},
   "outputs": [],
   "source": [
    "import shutil, os\n",
    "from pathlib import Path\n",
    "p = Path.home()\n",
    "# the original filename is used for the new, copied file's filename\n",
    "# shutil.copy(p / 'Desktop/my_file5.csv', p / 'Desktop/demo/')\n",
    "# give the copied file's filename a new name\n",
    "# shutil.copy(p / 'Desktop/my_file5.csv', p / 'Desktop/demo/my_file6.csv')"
   ]
  },
  {
   "cell_type": "code",
   "execution_count": null,
   "id": "b12db195-4993-4a11-8d14-433d3b210c1d",
   "metadata": {},
   "outputs": [],
   "source": [
    "import shutil, os\n",
    "from pathlib import Path\n",
    "p = Path.home()\n",
    "# shutil.copytree(p / 'Desktop/demo', p / 'Desktop/demo_backup')"
   ]
  },
  {
   "cell_type": "markdown",
   "id": "94ce2140-0840-4df9-ae7d-cc65ec19e158",
   "metadata": {},
   "source": [
    "### Moving and Renaming Files and Folders"
   ]
  },
  {
   "cell_type": "code",
   "execution_count": null,
   "id": "22a5b088-031a-4981-b89a-edb38886b5e9",
   "metadata": {},
   "outputs": [],
   "source": [
    "import shutil\n",
    "# if destination points to a folder, the source file gets moved into destination\n",
    "# assuming a folder named b already exists\n",
    "# shutil.move('/Users/ljy/Desktop/demo/a/test.txt', '/Users/ljy/Desktop/demo/b/')\n",
    "\n",
    "# move and rename\n",
    "# shutil.move('/Users/ljy/Desktop/demo/b/test.txt', '/Users/ljy/Desktop/demo/a/new_test.txt')\n",
    "\n",
    "# if a folder named c doesn't exist, new_test.txt is renamed c\n",
    "# shutil.move('/Users/ljy/Desktop/demo/a/new_test.txt', '/Users/ljy/Desktop/demo/c')\n",
    "\n",
    "# the folders that make up the destination must already exist\n",
    "# shutil.move('/Users/ljy/Desktop/demo/a/new_test.txt', '/Users/does_not_exist/eggs') FileNotFoundError: [Errno 2] No such file or directory"
   ]
  },
  {
   "cell_type": "markdown",
   "id": "9234a246-43b8-4baf-969f-a6e65cad3320",
   "metadata": {},
   "source": [
    "### Permanently Deleting Files and Folders"
   ]
  },
  {
   "cell_type": "code",
   "execution_count": null,
   "id": "36639b87-a264-4f49-a8d8-c46df51aaaf9",
   "metadata": {},
   "outputs": [],
   "source": [
    "import os\n",
    "from pathlib import Path\n",
    "for filename in Path.home().glob('Desktop/demo/*.txt'):\n",
    "    # os.unlink(filename)\n",
    "    print(filename)"
   ]
  },
  {
   "cell_type": "markdown",
   "id": "afef11d6-c3ef-4e46-a782-237543a51f00",
   "metadata": {},
   "source": [
    "### Safe Deletes with the send2trash Module"
   ]
  },
  {
   "cell_type": "code",
   "execution_count": null,
   "id": "dfe58128-4b99-4730-b521-543635d4540c",
   "metadata": {},
   "outputs": [],
   "source": [
    "import send2trash\n",
    "# baconFile = open('/Users/ljy/Desktop/demo/bacon.txt', 'a') # creates the file\n",
    "# baconFile.write('Bacon is not a vegetable.')\n",
    "# baconFile.close()\n",
    "# send2trash.send2trash('/Users/ljy/Desktop/demo/bacon.txt')"
   ]
  },
  {
   "cell_type": "markdown",
   "id": "5d8642cd-8c80-4aba-80f6-c919fb345cc2",
   "metadata": {},
   "source": [
    "## Walking a Directory Tree"
   ]
  },
  {
   "cell_type": "code",
   "execution_count": null,
   "id": "03bcc76d-2aca-405b-bb5d-efa96601c4fe",
   "metadata": {},
   "outputs": [],
   "source": [
    "import os\n",
    "\n",
    "for folderName, subfolders, filenames in os.walk('/Users/ljy/Desktop/demo/'):\n",
    "    print('The current folder is ' + folderName)\n",
    "    \n",
    "    for subfolder in subfolders:\n",
    "        print('SUBFOLDER OF ' + folderName + ': ' + subfolder)\n",
    "        \n",
    "    for filename in filenames:\n",
    "        print('FILE INSIDE ' + folderName + ': ' + filename)\n",
    "    \n",
    "    print('')"
   ]
  },
  {
   "cell_type": "markdown",
   "id": "0629710d-3f87-4981-9c07-03e4fd0a89b6",
   "metadata": {},
   "source": [
    "## Compressing Files with the zipfile Module"
   ]
  },
  {
   "cell_type": "markdown",
   "id": "f6aa7e06-8199-45b3-b131-c0899e02c5b3",
   "metadata": {},
   "source": [
    "### Reading ZIP Files"
   ]
  },
  {
   "cell_type": "code",
   "execution_count": null,
   "id": "d040a03a-c6c5-4dcf-96cd-af46ec153498",
   "metadata": {},
   "outputs": [],
   "source": [
    "import zipfile, os\n",
    "from pathlib import Path\n",
    "p = Path.home()\n",
    "exampleZip = zipfile.ZipFile(p / 'Desktop/demo.zip')\n",
    "print(exampleZip.namelist())\n",
    "\n",
    "textFileInfo = exampleZip.getinfo('demo/c')\n",
    "print(type(textFileInfo))\n",
    "print(textFileInfo.file_size)\n",
    "print(textFileInfo.compress_size)\n",
    "print(f'Compressed file is {round(textFileInfo.file_size / textFileInfo.compress_size)}x smaller!')\n",
    "exampleZip.close()"
   ]
  },
  {
   "cell_type": "markdown",
   "id": "87d09116-7b9d-4172-8ef3-5e0bfbfb0290",
   "metadata": {},
   "source": [
    "### Extracting from ZIP Files"
   ]
  },
  {
   "cell_type": "code",
   "execution_count": null,
   "id": "6b2b121a-f6bd-4282-b2cf-30534a76df42",
   "metadata": {},
   "outputs": [],
   "source": [
    "import zipfile, os\n",
    "from pathlib import Path\n",
    "p = Path.home()\n",
    "exampleZip = zipfile.ZipFile(p / 'Desktop/demo.zip')\n",
    "exampleZip.extractall()\n",
    "exampleZip.close()"
   ]
  },
  {
   "cell_type": "code",
   "execution_count": null,
   "id": "2ed5598e-9a60-45e4-90eb-110edef9827c",
   "metadata": {},
   "outputs": [],
   "source": [
    "exampleZip = zipfile.ZipFile(p / 'Desktop/demo.zip')\n",
    "exampleZip.extract('demo/1.txt')\n",
    "# exampleZip.extract('demo/1.txt', p / 'Desktop/newFolder/sub')\n",
    "exampleZip.close()"
   ]
  },
  {
   "cell_type": "markdown",
   "id": "7f429a02-a294-43e5-9466-7665f27fa7c8",
   "metadata": {},
   "source": [
    "### Creating and Adding to ZIP Files"
   ]
  },
  {
   "cell_type": "code",
   "execution_count": null,
   "id": "22486316-12b3-49ae-b075-30bf87667a2c",
   "metadata": {},
   "outputs": [],
   "source": [
    "import zipfile\n",
    "newZip = zipfile.ZipFile('new.zip', 'w')\n",
    "newZip.write('demo/1.txt', compress_type=zipfile.ZIP_DEFLATED)\n",
    "newZip.close()"
   ]
  },
  {
   "cell_type": "markdown",
   "id": "f7a631a2-ae21-42aa-a95d-bb71dbf57f5d",
   "metadata": {},
   "source": [
    "## Project: Renaming Files with American-Style Dates to European-Style Dates"
   ]
  },
  {
   "cell_type": "code",
   "execution_count": null,
   "id": "08168f3f-8eb0-48a0-affb-a0ad579c076b",
   "metadata": {},
   "outputs": [],
   "source": [
    "# Here's what the program does:\n",
    "# 1. It searches all the filenames in the current working directory for American-style dates.\n",
    "# 2. When one is found, it renames the file with the month and day swapped to make it European-style.\n",
    "\n",
    "# This means the code will need to do the following:\n",
    "# 1. Create a regex that can identify the text pattern of American-style dates.\n",
    "# 2. Call os.listdir() to find all the files in the working directory.\n",
    "# 3. Loop over each filename, using the regex to check whether it has a date.\n",
    "# 4. If it has a date, rename the file with shutil.move()."
   ]
  },
  {
   "cell_type": "code",
   "execution_count": null,
   "id": "3e0f0904-876f-424a-8375-834a8c14243f",
   "metadata": {},
   "outputs": [],
   "source": [
    "# renameDates.py - Renames filenames with American MM-DD-YYYY date format to European DD-MM-YYYY\n",
    "\n",
    "import shutil, os, re\n",
    "\n",
    "# Create a regex that matches files with the American date format.\n",
    "datePattern = re.compile(r\"\"\"^(.*?) # all text before the date\n",
    "    ((0|1)?\\d)-                     # one or two digits for the month\n",
    "    ((0|1|2|3)?\\d)-                 # one or two digits for the day\n",
    "    ((19|20)\\d\\d)                   # four digits for the year\n",
    "    (.*?)$                          # all text after the date\n",
    "    \"\"\", re.VERBOSE)\n",
    "\n",
    "# Loop over the files in the working directory.\n",
    "for amerFilename in os.listdir('/Users/ljy/Desktop/demo'):\n",
    "    mo = datePattern.search(amerFilename)\n",
    "    \n",
    "    # Skip files without a date.\n",
    "    if mo == None:\n",
    "        continue\n",
    "        \n",
    "    # Get the different parts of the filename.\n",
    "    beforePart = mo.group(1)\n",
    "    monthPart = mo.group(2)\n",
    "    dayPart = mo.group(4)\n",
    "    yearPart = mo.group(6)\n",
    "    afterPart = mo.group(8)\n",
    "    \n",
    "    # Form the European-style filename.\n",
    "    euroFilename = beforePart + dayPart + '-' + monthPart + '-' + yearPart + afterPart\n",
    "    \n",
    "    # Get the full, absolute file paths.\n",
    "    absWorkingDir = os.path.abspath('/Users/ljy/Desktop/demo')\n",
    "    amerFilename = os.path.join(absWorkingDir, amerFilename)\n",
    "    euroFilename = os.path.join(absWorkingDir, euroFilename)\n",
    "    \n",
    "    # Rename the files.\n",
    "    print(f'Renaming \"{amerFilename}\" to \"{euroFilename}\"...')\n",
    "    # shutil.move(amerFilename, euroFilename) # uncomment after testing"
   ]
  },
  {
   "cell_type": "markdown",
   "id": "4c4b6ff8-780d-4169-8e0e-6628fc5930cd",
   "metadata": {},
   "source": [
    "## Project: Backing Up a Folder into a ZIP File"
   ]
  },
  {
   "cell_type": "code",
   "execution_count": null,
   "id": "e098c160-8f73-4e4b-a8eb-faf2313bacb4",
   "metadata": {},
   "outputs": [],
   "source": [
    "# backupToZip.py - Copies an entire folder and its contents into a ZIP file whose filename increments.\n",
    "import zipfile, os\n",
    "\n",
    "def backupToZip(folder):\n",
    "    \"\"\"Back up the entire contents of \"folder\" into a ZIP file.\"\"\"\n",
    "    \n",
    "    folder = os.path.abspath(folder) # make sure folder is absolute\n",
    "    \n",
    "    # Figure out the filename this code should use based on what files already exist.\n",
    "    number = 1\n",
    "    while True:\n",
    "        zipFilename = os.path.basename(folder) + '_' + str(number) + '.zip'\n",
    "        if not os.path.exists(zipFilename):\n",
    "            break\n",
    "        number += 1\n",
    "    \n",
    "    # Create the zip file.\n",
    "    print(f'Creating {zipFilename}')\n",
    "    backupZip = zipfile.ZipFile(zipFilename, 'w')\n",
    "    \n",
    "    # Walk the entire folder tree and compress the files in each folder.\n",
    "    for foldername, subfolders, filenames in os.walk(folder):\n",
    "        print(f'Adding files in {foldername}...')\n",
    "        # Add the current folder to the ZIP file.\n",
    "        for filename in filenames:\n",
    "            newBase = os.path.basename(folder) + '_'\n",
    "            if filename.startswith(newBase) and filename.endswith('.zip'):\n",
    "                continue\n",
    "            backupZip.write(os.path.join(foldername, filename))\n",
    "    backupZip.close()\n",
    "    \n",
    "    print('Done.')            \n",
    "\n",
    "backupToZip('/Users/ljy/Desktop/demo')"
   ]
  }
 ],
 "metadata": {
  "kernelspec": {
   "display_name": "Python 3 (ipykernel)",
   "language": "python",
   "name": "python3"
  },
  "language_info": {
   "codemirror_mode": {
    "name": "ipython",
    "version": 3
   },
   "file_extension": ".py",
   "mimetype": "text/x-python",
   "name": "python",
   "nbconvert_exporter": "python",
   "pygments_lexer": "ipython3",
   "version": "3.8.15"
  }
 },
 "nbformat": 4,
 "nbformat_minor": 5
}
