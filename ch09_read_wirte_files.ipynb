{
 "cells": [
  {
   "cell_type": "markdown",
   "id": "3d1c61cd-af8e-4bdd-a0d8-639d815d0685",
   "metadata": {},
   "source": [
    "# Reading and Writing Files"
   ]
  },
  {
   "cell_type": "markdown",
   "id": "80c40771-1a34-4d45-8725-76ba24f7b704",
   "metadata": {},
   "source": [
    "## Files and File Paths"
   ]
  },
  {
   "cell_type": "markdown",
   "id": "963f7488-30cc-46a7-9aed-f4239a25c939",
   "metadata": {},
   "source": [
    "### Backslash on Windows and Forward Slash on macOS and Linux"
   ]
  },
  {
   "cell_type": "code",
   "execution_count": 1,
   "id": "6d243588-74c5-4cec-9909-2c45519fb419",
   "metadata": {},
   "outputs": [
    {
     "data": {
      "text/plain": [
       "PosixPath('spam/bacon/eggs')"
      ]
     },
     "execution_count": 1,
     "metadata": {},
     "output_type": "execute_result"
    }
   ],
   "source": [
    "from pathlib import Path\n",
    "Path('spam', 'bacon', 'eggs')"
   ]
  },
  {
   "cell_type": "code",
   "execution_count": 2,
   "id": "3280d7af-6505-4202-bd00-46753d55b6f1",
   "metadata": {},
   "outputs": [
    {
     "data": {
      "text/plain": [
       "'spam/bacon/eggs'"
      ]
     },
     "execution_count": 2,
     "metadata": {},
     "output_type": "execute_result"
    }
   ],
   "source": [
    "str(Path('spam', 'bacon', 'eggs'))"
   ]
  },
  {
   "cell_type": "code",
   "execution_count": 3,
   "id": "49a518a6-9946-4e21-860e-28e37008ed0d",
   "metadata": {},
   "outputs": [
    {
     "name": "stdout",
     "output_type": "stream",
     "text": [
      "/Users/ljy/accounts\n",
      "/Users/ljy/details.csv\n",
      "/Users/ljy/invite.docx\n"
     ]
    }
   ],
   "source": [
    "from pathlib import Path\n",
    "myFiles = ['accounts', 'details.csv', 'invite.docx']\n",
    "for filename in myFiles:\n",
    "    print(Path(r'/Users/ljy/', filename))"
   ]
  },
  {
   "cell_type": "markdown",
   "id": "d9e936a6-8004-4ba1-9961-aebbb7d96821",
   "metadata": {},
   "source": [
    "### Using the / Operator to Join Paths"
   ]
  },
  {
   "cell_type": "code",
   "execution_count": 4,
   "id": "dd7ac140-863b-406a-818b-c7bada0eb89e",
   "metadata": {},
   "outputs": [
    {
     "name": "stdout",
     "output_type": "stream",
     "text": [
      "spam/bacon/eggs\n",
      "spam/bacon/eggs\n",
      "spam/bacon/eggs\n"
     ]
    }
   ],
   "source": [
    "from pathlib import Path\n",
    "print(Path('spam') / 'bacon' / 'eggs')\n",
    "print(Path('spam') / Path('bacon/eggs'))\n",
    "print(Path('spam') / Path('bacon', 'eggs'))"
   ]
  },
  {
   "cell_type": "code",
   "execution_count": 5,
   "id": "1eaab84c-ecb9-4e2c-94dd-22c249a23ca5",
   "metadata": {},
   "outputs": [
    {
     "name": "stdout",
     "output_type": "stream",
     "text": [
      "/Users/ljy/spam\n",
      "/Users/ljy/spam\n"
     ]
    }
   ],
   "source": [
    "homeFolder = r'/Users/ljy'\n",
    "subFolder = 'spam'\n",
    "print(homeFolder + '/' + subFolder)\n",
    "print('/'.join([homeFolder, subFolder]))"
   ]
  },
  {
   "cell_type": "code",
   "execution_count": 6,
   "id": "0622a1a5-d8fc-42d9-9796-0da200076ead",
   "metadata": {},
   "outputs": [
    {
     "data": {
      "text/plain": [
       "'darwin'"
      ]
     },
     "execution_count": 6,
     "metadata": {},
     "output_type": "execute_result"
    }
   ],
   "source": [
    "import sys\n",
    "sys.platform"
   ]
  },
  {
   "cell_type": "code",
   "execution_count": 7,
   "id": "6a913d54-228a-4713-ab19-7e06d336b9b9",
   "metadata": {},
   "outputs": [
    {
     "name": "stdout",
     "output_type": "stream",
     "text": [
      "/Users/ljy/spam\n"
     ]
    }
   ],
   "source": [
    "homeFolder = Path('/Users/ljy')\n",
    "subFolder = Path('spam')\n",
    "print(homeFolder / subFolder)"
   ]
  },
  {
   "cell_type": "code",
   "execution_count": 8,
   "id": "5fe6f763-34e9-40f0-a499-9e14d9ab5fd5",
   "metadata": {},
   "outputs": [
    {
     "data": {
      "text/plain": [
       "PosixPath('spam/bacon/eggs')"
      ]
     },
     "execution_count": 8,
     "metadata": {},
     "output_type": "execute_result"
    }
   ],
   "source": [
    "# 'spam' / 'bacon' / 'eggs' TypeError: unsupported operand type(s) for /: 'str' and 'str'\n",
    "from pathlib import Path\n",
    "'spam' / Path('bacon') / 'eggs'"
   ]
  },
  {
   "cell_type": "markdown",
   "id": "8b4264c3-40c6-4233-881c-11ce73b3693c",
   "metadata": {},
   "source": [
    "### The Current Working Directory"
   ]
  },
  {
   "cell_type": "code",
   "execution_count": 9,
   "id": "3172f6c3-b8cc-48f3-b7c5-190c943ee886",
   "metadata": {},
   "outputs": [
    {
     "name": "stdout",
     "output_type": "stream",
     "text": [
      "/Users/ljy/Desktop/Workspace/PythonProjects/my_auto\n",
      "/Users/ljy/Desktop/Workspace/PythonProjects\n"
     ]
    }
   ],
   "source": [
    "from pathlib import Path\n",
    "import os\n",
    "print(Path.cwd())\n",
    "os.chdir(\"/Users/ljy/Desktop/Workspace/PythonProjects\")\n",
    "print(Path.cwd())"
   ]
  },
  {
   "cell_type": "code",
   "execution_count": 11,
   "id": "40461359-4349-4a0d-86bd-b5b03c2e867f",
   "metadata": {},
   "outputs": [],
   "source": [
    "import os\n",
    "# os.chdir('/Users/ljy/Desktop/Workspace/PythonProject') FileNotFoundError: [Errno 2] No such file or directory"
   ]
  },
  {
   "cell_type": "code",
   "execution_count": 14,
   "id": "e2a3bd65-e93f-4341-8873-12b7d509ca9f",
   "metadata": {},
   "outputs": [
    {
     "data": {
      "text/plain": [
       "'/Users/ljy/Desktop/Workspace/PythonProjects'"
      ]
     },
     "execution_count": 14,
     "metadata": {},
     "output_type": "execute_result"
    }
   ],
   "source": [
    "import os\n",
    "os.getcwd()"
   ]
  },
  {
   "cell_type": "markdown",
   "id": "9c71b542-a521-434b-b496-54e643d14e26",
   "metadata": {},
   "source": [
    "### The Home Directory"
   ]
  },
  {
   "cell_type": "code",
   "execution_count": 16,
   "id": "bb291e20-98fa-409e-8808-8cd10af3ff28",
   "metadata": {},
   "outputs": [
    {
     "name": "stdout",
     "output_type": "stream",
     "text": [
      "/Users/ljy\n"
     ]
    }
   ],
   "source": [
    "from pathlib import Path\n",
    "print(Path.home())"
   ]
  },
  {
   "cell_type": "markdown",
   "id": "00e000a5-a467-44b0-ad9f-59dacf6d8119",
   "metadata": {},
   "source": [
    "### Absolute vs. Relative Paths"
   ]
  },
  {
   "cell_type": "markdown",
   "id": "01730bd4-e75d-4d6c-8ab7-e44940528fea",
   "metadata": {},
   "source": [
    "### Creating New Folders Using the os.makedirs() Function"
   ]
  },
  {
   "cell_type": "code",
   "execution_count": 23,
   "id": "02502a78-e50a-44cc-a5be-c08d9f4e12dc",
   "metadata": {},
   "outputs": [],
   "source": [
    "import os\n",
    "# create any necessary intermediate folder\n",
    "os.makedirs('/Users/ljy/Desktop/mytest/aa/bb')"
   ]
  },
  {
   "cell_type": "code",
   "execution_count": 25,
   "id": "1c0cfdfb-b7e9-4dee-88b3-282899ab12a7",
   "metadata": {},
   "outputs": [],
   "source": [
    "from pathlib import Path\n",
    "# can only make one directory at a time\n",
    "Path(r'/Users/ljy/Desktop/mytest2').mkdir()"
   ]
  },
  {
   "cell_type": "markdown",
   "id": "fbce71f1-185c-4d28-a0d9-386eb2bdbc6f",
   "metadata": {},
   "source": [
    "### Handling Absolute and Relative Paths"
   ]
  },
  {
   "cell_type": "code",
   "execution_count": 29,
   "id": "b4b8d584-1b07-42fe-a8f4-42ae3aefc02f",
   "metadata": {},
   "outputs": [
    {
     "name": "stdout",
     "output_type": "stream",
     "text": [
      "/Users/ljy/Desktop/Workspace/PythonProjects\n",
      "True\n",
      "False\n"
     ]
    }
   ],
   "source": [
    "from pathlib import Path\n",
    "print(Path.cwd())\n",
    "print(Path.cwd().is_absolute())\n",
    "print(Path('spam/bacon/eggs').is_absolute())"
   ]
  },
  {
   "cell_type": "code",
   "execution_count": 33,
   "id": "6367e21f-4199-4764-9b72-57489bba69dc",
   "metadata": {},
   "outputs": [
    {
     "name": "stdout",
     "output_type": "stream",
     "text": [
      "my/relative/path\n",
      "/Users/ljy/Desktop/Workspace/PythonProjects/my/relative/path\n"
     ]
    }
   ],
   "source": [
    "from pathlib import Path\n",
    "print(Path('my/relative/path'))\n",
    "print(Path.cwd() / Path('my/relative/path'))"
   ]
  },
  {
   "cell_type": "code",
   "execution_count": 34,
   "id": "9b87f38c-bbe6-4734-814c-90e6167e4264",
   "metadata": {},
   "outputs": [
    {
     "name": "stdout",
     "output_type": "stream",
     "text": [
      "my/relative/path\n",
      "/Users/ljy/my/relative/path\n"
     ]
    }
   ],
   "source": [
    "from pathlib import Path\n",
    "print(Path('my/relative/path'))\n",
    "print(Path.home() / Path('my/relative/path'))"
   ]
  },
  {
   "cell_type": "code",
   "execution_count": 38,
   "id": "ca1d57c2-eaf8-4a20-a01a-eea406ac3f4f",
   "metadata": {},
   "outputs": [
    {
     "name": "stdout",
     "output_type": "stream",
     "text": [
      "/Users/ljy/Desktop/Workspace/PythonProjects\n",
      "/Users/ljy/Desktop/Workspace/PythonProjects/test\n",
      "False\n",
      "True\n"
     ]
    }
   ],
   "source": [
    "import os\n",
    "print(os.path.abspath('.'))\n",
    "print(os.path.abspath('./test'))\n",
    "print(os.path.isabs('.'))\n",
    "print(os.path.isabs(os.path.abspath('.')))"
   ]
  },
  {
   "cell_type": "code",
   "execution_count": 41,
   "id": "6e48725b-a913-41fb-aa7f-1ff201409290",
   "metadata": {},
   "outputs": [
    {
     "name": "stdout",
     "output_type": "stream",
     "text": [
      "ljy\n",
      "../../test\n"
     ]
    }
   ],
   "source": [
    "import os\n",
    "print(os.path.relpath('/Users/ljy', '/Users'))\n",
    "print(os.path.relpath('/Users/ljy/test', '/Users/ljy/mytest/aa'))"
   ]
  },
  {
   "cell_type": "markdown",
   "id": "9b607b4e-3627-4121-b785-742afebf97fc",
   "metadata": {},
   "source": [
    "### Getting the Parts of a File Path"
   ]
  },
  {
   "cell_type": "code",
   "execution_count": 49,
   "id": "42e42082-9f9d-4754-9269-d5385b7da641",
   "metadata": {},
   "outputs": [
    {
     "name": "stdout",
     "output_type": "stream",
     "text": [
      "/\n",
      "/Users/ljy\n",
      "test.txt\n",
      "test\n",
      ".txt\n",
      "\n"
     ]
    }
   ],
   "source": [
    "from pathlib import Path\n",
    "p = Path('/Users/ljy/test.txt')\n",
    "print(p.anchor)\n",
    "print(p.parent) # This is a Path object, not a string.\n",
    "print(p.name)\n",
    "print(p.stem)\n",
    "print(p.suffix)\n",
    "print(p.drive)"
   ]
  },
  {
   "cell_type": "code",
   "execution_count": 56,
   "id": "6707969d-b1c0-4996-80b6-f15951720025",
   "metadata": {},
   "outputs": [
    {
     "name": "stdout",
     "output_type": "stream",
     "text": [
      "/Users/ljy/Desktop/Workspace/PythonProjects\n",
      "/Users/ljy/Desktop/Workspace\n",
      "/Users/ljy/Desktop\n",
      "/Users/ljy\n",
      "/Users\n",
      "/\n"
     ]
    }
   ],
   "source": [
    "from pathlib import Path\n",
    "print(Path.cwd())\n",
    "print(Path.cwd().parents[0])\n",
    "print(Path.cwd().parents[1])\n",
    "print(Path.cwd().parents[2])\n",
    "print(Path.cwd().parents[3])\n",
    "print(Path.cwd().parents[4])\n",
    "# print(Path.cwd().parents[5]) IndexError: 5"
   ]
  },
  {
   "cell_type": "code",
   "execution_count": 58,
   "id": "77d6b3cf-2e07-4931-9050-dce1a6ef54cf",
   "metadata": {},
   "outputs": [
    {
     "name": "stdout",
     "output_type": "stream",
     "text": [
      "test\n",
      "/Users/ljy\n"
     ]
    }
   ],
   "source": [
    "import os\n",
    "testPath = '/Users/ljy/test'\n",
    "print(os.path.basename(testPath))\n",
    "print(os.path.dirname(testPath))"
   ]
  },
  {
   "cell_type": "code",
   "execution_count": 59,
   "id": "789159f8-4895-406d-a2ce-523f51492e21",
   "metadata": {},
   "outputs": [
    {
     "data": {
      "text/plain": [
       "('/Users/ljy', 'test')"
      ]
     },
     "execution_count": 59,
     "metadata": {},
     "output_type": "execute_result"
    }
   ],
   "source": [
    "import os\n",
    "testPath = '/Users/ljy/test'\n",
    "# get a path's dir name and base name together\n",
    "os.path.split(testPath)"
   ]
  },
  {
   "cell_type": "code",
   "execution_count": 60,
   "id": "a10df618-fda7-4d9e-ba58-a2fa73dc1163",
   "metadata": {},
   "outputs": [
    {
     "data": {
      "text/plain": [
       "('/Users/ljy', 'test')"
      ]
     },
     "execution_count": 60,
     "metadata": {},
     "output_type": "execute_result"
    }
   ],
   "source": [
    "import os\n",
    "testPath = '/Users/ljy/test'\n",
    "(os.path.dirname(testPath), os.path.basename(testPath))"
   ]
  },
  {
   "cell_type": "code",
   "execution_count": 62,
   "id": "fcc253a8-1c98-4c80-9e61-67d40dbf1adb",
   "metadata": {},
   "outputs": [
    {
     "name": "stdout",
     "output_type": "stream",
     "text": [
      "/\n"
     ]
    },
    {
     "data": {
      "text/plain": [
       "['', 'Users', 'ljy', 'test']"
      ]
     },
     "execution_count": 62,
     "metadata": {},
     "output_type": "execute_result"
    }
   ],
   "source": [
    "import os\n",
    "print(os.sep)\n",
    "testPath = '/Users/ljy/test'\n",
    "testPath.split(os.sep)"
   ]
  },
  {
   "cell_type": "markdown",
   "id": "8b1ece69-1d26-4afa-97dc-4b519b23174e",
   "metadata": {},
   "source": [
    "### Finding File Sizes and Folder Contents"
   ]
  },
  {
   "cell_type": "code",
   "execution_count": 65,
   "id": "5be2b196-6ca1-4c1d-90d2-3547f4074f68",
   "metadata": {},
   "outputs": [
    {
     "name": "stdout",
     "output_type": "stream",
     "text": [
      "160\n"
     ]
    },
    {
     "data": {
      "text/plain": [
       "['XcodeCheatsheet.pdf',\n",
       " 'demo',\n",
       " 'book_source_list.txt',\n",
       " 'myweb',\n",
       " '.DS_Store',\n",
       " 'Playground',\n",
       " '.localized',\n",
       " 'mytest2',\n",
       " 'Workspace',\n",
       " 'day02-类型转换，运算符，键盘录入技术.xmind',\n",
       " 'my_file5.csv',\n",
       " 'day03-程序流程控制.xmind',\n",
       " 'welcome.html',\n",
       " '스크린샷 2022-10-06 오후 10.08.46.png',\n",
       " 'harry.png',\n",
       " '.git',\n",
       " 'Errta',\n",
       " 'java-docs',\n",
       " 'SukumaSwitch']"
      ]
     },
     "execution_count": 65,
     "metadata": {},
     "output_type": "execute_result"
    }
   ],
   "source": [
    "import os\n",
    "print(os.path.getsize('/Users/ljy/Desktop/Playground'))\n",
    "os.listdir('/Users/ljy/Desktop')"
   ]
  },
  {
   "cell_type": "code",
   "execution_count": 67,
   "id": "dc67cfcd-4139-4b7a-962d-ec7433bd1690",
   "metadata": {},
   "outputs": [
    {
     "name": "stdout",
     "output_type": "stream",
     "text": [
      "1472822\n"
     ]
    }
   ],
   "source": [
    "import os\n",
    "totalSize = 0\n",
    "for filename in os.listdir('/Users/ljy/Desktop'):\n",
    "    totalSize += os.path.getsize(os.path.join('/Users/ljy/Desktop', filename))\n",
    "print(totalSize)"
   ]
  },
  {
   "cell_type": "markdown",
   "id": "676bae15-8884-449e-9b3c-87d4651fd3ca",
   "metadata": {},
   "source": [
    "### Modifying a List of Files Using Glob Patterns"
   ]
  },
  {
   "cell_type": "code",
   "execution_count": 80,
   "id": "3df772c5-8cbb-45c7-bb2a-a027b0ff7e70",
   "metadata": {},
   "outputs": [
    {
     "name": "stdout",
     "output_type": "stream",
     "text": [
      "<generator object Path.glob at 0x7fc74481eac0>\n",
      "[PosixPath('/Users/ljy/Desktop/XcodeCheatsheet.pdf'), PosixPath('/Users/ljy/Desktop/demo'), PosixPath('/Users/ljy/Desktop/book_source_list.txt'), PosixPath('/Users/ljy/Desktop/myweb'), PosixPath('/Users/ljy/Desktop/.DS_Store'), PosixPath('/Users/ljy/Desktop/Playground'), PosixPath('/Users/ljy/Desktop/.localized'), PosixPath('/Users/ljy/Desktop/mytest2'), PosixPath('/Users/ljy/Desktop/Workspace'), PosixPath('/Users/ljy/Desktop/day02-类型转换，运算符，键盘录入技术.xmind'), PosixPath('/Users/ljy/Desktop/my_file5.csv'), PosixPath('/Users/ljy/Desktop/day03-程序流程控制.xmind'), PosixPath('/Users/ljy/Desktop/welcome.html'), PosixPath('/Users/ljy/Desktop/스크린샷 2022-10-06 오후 10.08.46.png'), PosixPath('/Users/ljy/Desktop/harry.png'), PosixPath('/Users/ljy/Desktop/.git'), PosixPath('/Users/ljy/Desktop/Errta'), PosixPath('/Users/ljy/Desktop/java-docs'), PosixPath('/Users/ljy/Desktop/SukumaSwitch')]\n",
      "\n",
      "[PosixPath('/Users/ljy/Desktop/book_source_list.txt')]\n",
      "[PosixPath('/Users/ljy/Desktop/harry.png')]\n",
      "[PosixPath('/Users/ljy/Desktop/my_file5.csv')]\n"
     ]
    }
   ],
   "source": [
    "from pathlib import Path\n",
    "p = Path('/Users/ljy/Desktop')\n",
    "print(p.glob('*'))\n",
    "print(list(p.glob('*')))\n",
    "print()\n",
    "print(list(p.glob('*.txt')))\n",
    "print(list(p.glob('harr?.png')))\n",
    "print(list(p.glob('*.?s?')))"
   ]
  },
  {
   "cell_type": "code",
   "execution_count": 81,
   "id": "87cfbaeb-33a1-4d31-9829-3d5ae24b3c04",
   "metadata": {},
   "outputs": [
    {
     "name": "stdout",
     "output_type": "stream",
     "text": [
      "/Users/ljy/Desktop/day02-类型转换，运算符，键盘录入技术.xmind\n",
      "/Users/ljy/Desktop/day03-程序流程控制.xmind\n"
     ]
    }
   ],
   "source": [
    "from pathlib import Path\n",
    "p = Path('/Users/ljy/Desktop')\n",
    "for xmindFilePathObj in p.glob('*.xmind'):\n",
    "    print(xmindFilePathObj) # Prints the Path object as a string.\n",
    "    # Do something with the text file."
   ]
  },
  {
   "cell_type": "markdown",
   "id": "e705847c-0a42-4ef3-a16d-7e4f7714dc4c",
   "metadata": {},
   "source": [
    "### Checking Path Validity"
   ]
  },
  {
   "cell_type": "code",
   "execution_count": 89,
   "id": "fdd17199-8eeb-4a7c-8130-6e011187539f",
   "metadata": {},
   "outputs": [
    {
     "name": "stdout",
     "output_type": "stream",
     "text": [
      "True\n",
      "True\n",
      "False\n",
      "True\n",
      "False\n"
     ]
    }
   ],
   "source": [
    "from pathlib import Path\n",
    "dir = Path('/Users/ljy/Desktop')\n",
    "notExistsDir = Path('/This/Folder/Does/Not/Exist')\n",
    "txtFile = Path('/Users/ljy/Desktop/book_source_list.txt')\n",
    "\n",
    "print(dir.exists())\n",
    "print(dir.is_dir())\n",
    "print(notExistsDir.exists())\n",
    "print(txtFile.is_file())\n",
    "print(txtFile.is_dir())"
   ]
  },
  {
   "cell_type": "code",
   "execution_count": 97,
   "id": "ad6eeec9-4b43-49d5-9391-4e978adda086",
   "metadata": {},
   "outputs": [
    {
     "name": "stdout",
     "output_type": "stream",
     "text": [
      "True\n",
      "False\n",
      "True\n",
      "True\n",
      "False\n",
      "True\n"
     ]
    }
   ],
   "source": [
    "from pathlib import Path\n",
    "import os\n",
    "print(os.path.exists('/Users/ljy/Desktop'))\n",
    "print(os.path.isfile('/Users/ljy/Desktop'))\n",
    "print(os.path.isdir('/Users/ljy/Desktop'))\n",
    "p = Path('/Users/ljy/Desktop')\n",
    "print(os.path.exists(p))\n",
    "print(os.path.isfile(p))\n",
    "print(os.path.isdir(p))"
   ]
  },
  {
   "cell_type": "markdown",
   "id": "6317d798-a0e2-4fb4-9a0c-75fd5b5d7d06",
   "metadata": {},
   "source": [
    "## The File Reading/Writing Process"
   ]
  },
  {
   "cell_type": "markdown",
   "id": "28a16523-9410-40ce-80c9-05c1c3692c64",
   "metadata": {},
   "source": [
    "## Saving Variables with the shelve Module"
   ]
  },
  {
   "cell_type": "markdown",
   "id": "fd9eb894-519b-439b-892e-dcc268e30bda",
   "metadata": {},
   "source": [
    "## Saving Variables with the pprint.pformat() Function"
   ]
  },
  {
   "cell_type": "markdown",
   "id": "9101e0f1-1b8d-48f5-a889-213fbe65dfea",
   "metadata": {},
   "source": [
    "## Projec: Generating Random Quiz Files"
   ]
  },
  {
   "cell_type": "markdown",
   "id": "496cd10f-3430-46fe-90b7-11a329eb1f42",
   "metadata": {},
   "source": [
    "## Project: Updatable Multi-Clipboard"
   ]
  }
 ],
 "metadata": {
  "kernelspec": {
   "display_name": "Python 3 (ipykernel)",
   "language": "python",
   "name": "python3"
  },
  "language_info": {
   "codemirror_mode": {
    "name": "ipython",
    "version": 3
   },
   "file_extension": ".py",
   "mimetype": "text/x-python",
   "name": "python",
   "nbconvert_exporter": "python",
   "pygments_lexer": "ipython3",
   "version": "3.8.15"
  }
 },
 "nbformat": 4,
 "nbformat_minor": 5
}
