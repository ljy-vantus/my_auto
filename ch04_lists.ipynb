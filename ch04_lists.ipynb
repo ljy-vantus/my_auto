{
 "cells": [
  {
   "cell_type": "markdown",
   "id": "8c65bd66-df41-4f06-81fe-549a249abfee",
   "metadata": {},
   "source": [
    "# LISTS"
   ]
  },
  {
   "cell_type": "markdown",
   "id": "8230a293-beb1-4f97-ab8d-b3cd4ccd0df3",
   "metadata": {},
   "source": [
    "## The List Data Type"
   ]
  },
  {
   "cell_type": "code",
   "execution_count": 5,
   "id": "66638598-0681-4238-8d94-9fc9e3b93b90",
   "metadata": {},
   "outputs": [
    {
     "data": {
      "text/plain": [
       "[1, 2, 3]"
      ]
     },
     "execution_count": 5,
     "metadata": {},
     "output_type": "execute_result"
    }
   ],
   "source": [
    "[1, 2, 3]"
   ]
  },
  {
   "cell_type": "code",
   "execution_count": 7,
   "id": "bb7bb557-3f74-4cac-8e03-0fdd27393f90",
   "metadata": {},
   "outputs": [
    {
     "data": {
      "text/plain": [
       "['cat', 'bat', 'rat', 'elephant']"
      ]
     },
     "execution_count": 7,
     "metadata": {},
     "output_type": "execute_result"
    }
   ],
   "source": [
    "['cat', 'bat', 'rat', 'elephant']"
   ]
  },
  {
   "cell_type": "code",
   "execution_count": 8,
   "id": "87c402e5-a8cc-40f2-8a02-f445e276d109",
   "metadata": {},
   "outputs": [
    {
     "data": {
      "text/plain": [
       "['hello', 3.1415, True, None, 42]"
      ]
     },
     "execution_count": 8,
     "metadata": {},
     "output_type": "execute_result"
    }
   ],
   "source": [
    "['hello', 3.1415, True, None, 42]"
   ]
  },
  {
   "cell_type": "code",
   "execution_count": 9,
   "id": "e22ba9df-e218-4c92-b6b6-68ce219a141f",
   "metadata": {},
   "outputs": [
    {
     "data": {
      "text/plain": [
       "['cat', 'bat', 'rat', 'elephant']"
      ]
     },
     "execution_count": 9,
     "metadata": {},
     "output_type": "execute_result"
    }
   ],
   "source": [
    "spam = ['cat', 'bat', 'rat', 'elephant']\n",
    "spam"
   ]
  },
  {
   "cell_type": "markdown",
   "id": "5a066281-ed70-4d31-ad43-ba94fda3384a",
   "metadata": {},
   "source": [
    "### Getting Individual Values in a LIst with Indexes"
   ]
  },
  {
   "cell_type": "code",
   "execution_count": 10,
   "id": "be8fbdfe-96ec-4657-89ef-61c30163eafb",
   "metadata": {},
   "outputs": [
    {
     "data": {
      "text/plain": [
       "'cat'"
      ]
     },
     "execution_count": 10,
     "metadata": {},
     "output_type": "execute_result"
    }
   ],
   "source": [
    "spam = ['cat', 'bat', 'rat', 'elephant']\n",
    "spam[0]"
   ]
  },
  {
   "cell_type": "code",
   "execution_count": 11,
   "id": "f54c780f-3d07-4a87-9a04-d6bef32a7588",
   "metadata": {},
   "outputs": [
    {
     "data": {
      "text/plain": [
       "'bat'"
      ]
     },
     "execution_count": 11,
     "metadata": {},
     "output_type": "execute_result"
    }
   ],
   "source": [
    "spam[1]"
   ]
  },
  {
   "cell_type": "code",
   "execution_count": 12,
   "id": "ecb6d6bd-2092-47f5-92ea-1b5304171d0d",
   "metadata": {},
   "outputs": [
    {
     "data": {
      "text/plain": [
       "'rat'"
      ]
     },
     "execution_count": 12,
     "metadata": {},
     "output_type": "execute_result"
    }
   ],
   "source": [
    "spam[2]"
   ]
  },
  {
   "cell_type": "code",
   "execution_count": 13,
   "id": "848abdc6-78a5-4aa9-982a-757e8b762ff6",
   "metadata": {},
   "outputs": [
    {
     "data": {
      "text/plain": [
       "'elephant'"
      ]
     },
     "execution_count": 13,
     "metadata": {},
     "output_type": "execute_result"
    }
   ],
   "source": [
    "spam[3]"
   ]
  },
  {
   "cell_type": "code",
   "execution_count": 14,
   "id": "1f5850f5-1c89-4479-9cac-25a44dad8eda",
   "metadata": {},
   "outputs": [
    {
     "data": {
      "text/plain": [
       "'elephant'"
      ]
     },
     "execution_count": 14,
     "metadata": {},
     "output_type": "execute_result"
    }
   ],
   "source": [
    "['cat', 'bat', 'rat', 'elephant'][3]"
   ]
  },
  {
   "cell_type": "code",
   "execution_count": 15,
   "id": "a1df7819-1e8b-40dc-9d6f-4b2fd14154e5",
   "metadata": {},
   "outputs": [
    {
     "data": {
      "text/plain": [
       "'Hello, cat'"
      ]
     },
     "execution_count": 15,
     "metadata": {},
     "output_type": "execute_result"
    }
   ],
   "source": [
    "'Hello, ' + spam[0]"
   ]
  },
  {
   "cell_type": "code",
   "execution_count": 16,
   "id": "a4017f3c-2cf6-4587-8423-195e9cf7779f",
   "metadata": {},
   "outputs": [
    {
     "data": {
      "text/plain": [
       "'The bat ate the cat.'"
      ]
     },
     "execution_count": 16,
     "metadata": {},
     "output_type": "execute_result"
    }
   ],
   "source": [
    "'The ' + spam[1] + ' ate the ' + spam[0] + '.'"
   ]
  },
  {
   "cell_type": "code",
   "execution_count": 19,
   "id": "d13274a7-c8af-4a06-9352-07d705126846",
   "metadata": {},
   "outputs": [],
   "source": [
    "spam = ['cat', 'bat', 'rat', 'elephant']\n",
    "# spam[10000] IndexError: list index out of range"
   ]
  },
  {
   "cell_type": "code",
   "execution_count": 23,
   "id": "dcf9ab8b-ff7a-4326-aeb2-4184a2abca8c",
   "metadata": {},
   "outputs": [
    {
     "data": {
      "text/plain": [
       "'bat'"
      ]
     },
     "execution_count": 23,
     "metadata": {},
     "output_type": "execute_result"
    }
   ],
   "source": [
    "spam = ['cat', 'bat', 'rat', 'elephant']\n",
    "spam[1]\n",
    "# spam[1.0] TypeError: list indices must be integers or slices, not float\n",
    "spam[int(1.0)]"
   ]
  },
  {
   "cell_type": "code",
   "execution_count": 29,
   "id": "86b01c2e-4143-48f8-b8f0-472abebbc459",
   "metadata": {},
   "outputs": [
    {
     "name": "stdout",
     "output_type": "stream",
     "text": [
      "['cat', 'bat']\n",
      "bat\n",
      "50\n"
     ]
    }
   ],
   "source": [
    "spam = [['cat', 'bat'], [10, 20, 30, 40, 50]]\n",
    "print(spam[0])\n",
    "print(spam[0][1])\n",
    "print(spam[1][4])"
   ]
  },
  {
   "cell_type": "markdown",
   "id": "277a7893-be6b-4c6f-98eb-a46ffd8d1cac",
   "metadata": {},
   "source": [
    "### Negative Indexes"
   ]
  },
  {
   "cell_type": "code",
   "execution_count": 34,
   "id": "4485cc90-470c-4ff9-9baf-add4ceab4ed4",
   "metadata": {},
   "outputs": [
    {
     "name": "stdout",
     "output_type": "stream",
     "text": [
      "elephant\n",
      "bat\n",
      "The elephant is afraid of the bat.\n"
     ]
    }
   ],
   "source": [
    "spam = ['cat', 'bat', 'rat', 'elephant']\n",
    "print(spam[-1])\n",
    "print(spam[-3])\n",
    "print('The ' + spam[-1] + ' is afraid of the ' + spam[-3] + '.')"
   ]
  },
  {
   "cell_type": "markdown",
   "id": "ba11f11d-fb32-4885-a93e-b1cd446bb12c",
   "metadata": {},
   "source": [
    "### Getting a List from Another List with Slices"
   ]
  },
  {
   "cell_type": "code",
   "execution_count": 35,
   "id": "4abbd915-4265-4479-8e28-f6f27b94f665",
   "metadata": {},
   "outputs": [],
   "source": [
    "spam = ['cat', 'bat', 'rat', 'elephant']"
   ]
  },
  {
   "cell_type": "code",
   "execution_count": 37,
   "id": "65c7d9ef-b90c-4753-8961-6418a66e2a36",
   "metadata": {},
   "outputs": [
    {
     "data": {
      "text/plain": [
       "['cat', 'bat', 'rat', 'elephant']"
      ]
     },
     "execution_count": 37,
     "metadata": {},
     "output_type": "execute_result"
    }
   ],
   "source": [
    "spam[0:4]"
   ]
  },
  {
   "cell_type": "code",
   "execution_count": 38,
   "id": "8397631b-66cb-4377-b892-494730366e36",
   "metadata": {},
   "outputs": [
    {
     "data": {
      "text/plain": [
       "['bat', 'rat']"
      ]
     },
     "execution_count": 38,
     "metadata": {},
     "output_type": "execute_result"
    }
   ],
   "source": [
    "spam[1:3]"
   ]
  },
  {
   "cell_type": "code",
   "execution_count": 39,
   "id": "f1e4c100-dea6-4fe7-947b-a8d984be905f",
   "metadata": {},
   "outputs": [
    {
     "data": {
      "text/plain": [
       "['cat', 'bat', 'rat']"
      ]
     },
     "execution_count": 39,
     "metadata": {},
     "output_type": "execute_result"
    }
   ],
   "source": [
    "spam[0:-1]"
   ]
  },
  {
   "cell_type": "code",
   "execution_count": 40,
   "id": "cc019467-cb66-4070-a248-dbf6d88dfba0",
   "metadata": {},
   "outputs": [
    {
     "data": {
      "text/plain": [
       "['cat', 'bat']"
      ]
     },
     "execution_count": 40,
     "metadata": {},
     "output_type": "execute_result"
    }
   ],
   "source": [
    "spam[:2]"
   ]
  },
  {
   "cell_type": "code",
   "execution_count": 42,
   "id": "b8844863-97ae-4b8c-a6ae-93c71afdfab0",
   "metadata": {},
   "outputs": [
    {
     "data": {
      "text/plain": [
       "['bat', 'rat', 'elephant']"
      ]
     },
     "execution_count": 42,
     "metadata": {},
     "output_type": "execute_result"
    }
   ],
   "source": [
    "spam[1:]"
   ]
  },
  {
   "cell_type": "code",
   "execution_count": 43,
   "id": "e51aaddb-ab1f-4c77-a4b6-d734c7f880ff",
   "metadata": {},
   "outputs": [
    {
     "data": {
      "text/plain": [
       "['cat', 'bat', 'rat', 'elephant']"
      ]
     },
     "execution_count": 43,
     "metadata": {},
     "output_type": "execute_result"
    }
   ],
   "source": [
    "spam[:]"
   ]
  },
  {
   "cell_type": "markdown",
   "id": "020fc8c2-6825-4406-8120-341ae112fc79",
   "metadata": {},
   "source": [
    "### Getting a List's Length with the len() Function"
   ]
  },
  {
   "cell_type": "code",
   "execution_count": 45,
   "id": "0b2ff4ba-7a0b-4c4a-b967-fe0badbe6307",
   "metadata": {},
   "outputs": [
    {
     "data": {
      "text/plain": [
       "3"
      ]
     },
     "execution_count": 45,
     "metadata": {},
     "output_type": "execute_result"
    }
   ],
   "source": [
    "spam = ['cat', 'dog', 'moose']\n",
    "len(spam)"
   ]
  },
  {
   "cell_type": "markdown",
   "id": "3c6c6110-9d5c-4dcc-bcd7-0477e11dfb8f",
   "metadata": {},
   "source": [
    "### Changing Values in a List with Indexes"
   ]
  },
  {
   "cell_type": "code",
   "execution_count": 46,
   "id": "2625ce14-caef-4283-b488-f45e554b7818",
   "metadata": {},
   "outputs": [
    {
     "data": {
      "text/plain": [
       "['cat', 'aardvark', 'rat', 'elephant']"
      ]
     },
     "execution_count": 46,
     "metadata": {},
     "output_type": "execute_result"
    }
   ],
   "source": [
    "spam = ['cat', 'bat', 'rat', 'elephant']\n",
    "spam[1] = 'aardvark'\n",
    "spam"
   ]
  },
  {
   "cell_type": "code",
   "execution_count": 47,
   "id": "f2872628-52f6-42cd-8df9-342a5e0192d9",
   "metadata": {},
   "outputs": [
    {
     "data": {
      "text/plain": [
       "['cat', 'aardvark', 'aardvark', 'elephant']"
      ]
     },
     "execution_count": 47,
     "metadata": {},
     "output_type": "execute_result"
    }
   ],
   "source": [
    "spam[2] = spam[1]\n",
    "spam"
   ]
  },
  {
   "cell_type": "code",
   "execution_count": 48,
   "id": "5da8a384-2230-4490-b6c3-469e261c2282",
   "metadata": {},
   "outputs": [
    {
     "data": {
      "text/plain": [
       "['cat', 'aardvark', 'aardvark', 12345]"
      ]
     },
     "execution_count": 48,
     "metadata": {},
     "output_type": "execute_result"
    }
   ],
   "source": [
    "spam[-1] = 12345\n",
    "spam"
   ]
  },
  {
   "cell_type": "markdown",
   "id": "6e72b3d8-d231-48a2-beba-f7800ad6263f",
   "metadata": {},
   "source": [
    "### List Concatenation and List Replication"
   ]
  },
  {
   "cell_type": "code",
   "execution_count": 50,
   "id": "0f62501b-52c6-4a96-950a-ef3bb902136b",
   "metadata": {},
   "outputs": [
    {
     "data": {
      "text/plain": [
       "[1, 2, 3, 'A', 'B', 'C']"
      ]
     },
     "execution_count": 50,
     "metadata": {},
     "output_type": "execute_result"
    }
   ],
   "source": [
    "[1, 2, 3] + ['A', 'B', 'C']"
   ]
  },
  {
   "cell_type": "code",
   "execution_count": 51,
   "id": "1fe10cb1-a6f8-4450-9996-6acd6d89cf38",
   "metadata": {},
   "outputs": [
    {
     "data": {
      "text/plain": [
       "['X', 'Y', 'Z', 'X', 'Y', 'Z', 'X', 'Y', 'Z']"
      ]
     },
     "execution_count": 51,
     "metadata": {},
     "output_type": "execute_result"
    }
   ],
   "source": [
    "['X', 'Y', 'Z'] * 3"
   ]
  },
  {
   "cell_type": "code",
   "execution_count": 52,
   "id": "58ebe5de-e6dc-4e78-9868-e59c3610abff",
   "metadata": {},
   "outputs": [
    {
     "data": {
      "text/plain": [
       "[1, 2, 3, 'A', 'B', 'C']"
      ]
     },
     "execution_count": 52,
     "metadata": {},
     "output_type": "execute_result"
    }
   ],
   "source": [
    "spam = [1, 2, 3]\n",
    "spam = spam + ['A', 'B', 'C']\n",
    "spam"
   ]
  },
  {
   "cell_type": "markdown",
   "id": "82dc0d7c-a546-4594-a6a5-f00fd3eacd17",
   "metadata": {},
   "source": [
    "### Removing Values from Lists with del Statements"
   ]
  },
  {
   "cell_type": "code",
   "execution_count": 53,
   "id": "7177d49c-9e90-4c5d-bd80-130f21b63956",
   "metadata": {},
   "outputs": [
    {
     "data": {
      "text/plain": [
       "['cat', 'bat', 'rat', 'elephant']"
      ]
     },
     "execution_count": 53,
     "metadata": {},
     "output_type": "execute_result"
    }
   ],
   "source": [
    "spam = ['cat', 'bat', 'rat', 'elephant']\n",
    "spam"
   ]
  },
  {
   "cell_type": "code",
   "execution_count": 54,
   "id": "844303a3-d166-4e29-9104-673597662925",
   "metadata": {},
   "outputs": [
    {
     "data": {
      "text/plain": [
       "['cat', 'bat', 'elephant']"
      ]
     },
     "execution_count": 54,
     "metadata": {},
     "output_type": "execute_result"
    }
   ],
   "source": [
    "del spam[2]\n",
    "spam"
   ]
  },
  {
   "cell_type": "markdown",
   "id": "cdb1fa9a-b3fc-4fbb-a070-c626a369bb14",
   "metadata": {},
   "source": [
    "## Working with Lists"
   ]
  },
  {
   "cell_type": "code",
   "execution_count": 57,
   "id": "d6afb4ea-4ea2-447d-afdf-ccd9e51a536c",
   "metadata": {},
   "outputs": [],
   "source": [
    "# allMyCats1.py\n",
    "# print('Enter the name of cat 1:')\n",
    "# catName1 = input()\n",
    "# print('Enter the name of cat 2:')\n",
    "# catName2 = input()\n",
    "# print('Enter the name of cat 3:')\n",
    "# catName3 = input()\n",
    "# print('Enter the name of cat 4:')\n",
    "# catName4 = input()\n",
    "# print('Enter the name of cat 5:')\n",
    "# catName5 = input()\n",
    "# print('Enter the name of cat 6:')\n",
    "# catName6 = input()\n",
    "# print('The cat names are:')\n",
    "# print(catName1 + ' ' + catName2 + ' ' + catName3 + ' ' + catName4 + ' ' + catName5 + ' ' + catName6)"
   ]
  },
  {
   "cell_type": "code",
   "execution_count": 59,
   "id": "5eec0766-ade2-4920-b043-94334b7c381f",
   "metadata": {},
   "outputs": [],
   "source": [
    "# allMyCats2.py\n",
    "# catNames = []\n",
    "# while True:\n",
    "#     print('Enter the name of cat ' + str(len(catNames) + 1) + ' (Or enter nothing to stop.):')\n",
    "#     name = input()\n",
    "#     if name == '':\n",
    "#         break\n",
    "#     catNames = catNames + [name] # list concatenation\n",
    "# print('The cat names are:')    \n",
    "# for name in catNames:\n",
    "#     print('  ' + name)"
   ]
  },
  {
   "cell_type": "markdown",
   "id": "207ae09a-bae6-46b6-8791-10fb59072996",
   "metadata": {},
   "source": [
    "### Using for Loops with Lists"
   ]
  },
  {
   "cell_type": "code",
   "execution_count": 60,
   "id": "ff138735-e357-4656-b719-3f07c1267e12",
   "metadata": {},
   "outputs": [
    {
     "name": "stdout",
     "output_type": "stream",
     "text": [
      "0\n",
      "1\n",
      "2\n",
      "3\n"
     ]
    }
   ],
   "source": [
    "for i in range(4):\n",
    "    print(i)"
   ]
  },
  {
   "cell_type": "code",
   "execution_count": 61,
   "id": "53367a83-6a5d-4fb9-967a-37703e9b2597",
   "metadata": {},
   "outputs": [
    {
     "name": "stdout",
     "output_type": "stream",
     "text": [
      "0\n",
      "1\n",
      "2\n",
      "3\n"
     ]
    }
   ],
   "source": [
    "for i in [0, 1, 2, 3]:\n",
    "    print(i)"
   ]
  },
  {
   "cell_type": "code",
   "execution_count": 62,
   "id": "3e67a12d-0c3e-446b-aa6d-890958acd979",
   "metadata": {},
   "outputs": [
    {
     "name": "stdout",
     "output_type": "stream",
     "text": [
      "Index 0 in supplies is: pens\n",
      "Index 1 in supplies is: staplers\n",
      "Index 2 in supplies is: flamethrowers\n",
      "Index 3 in supplies is: binders\n"
     ]
    }
   ],
   "source": [
    "supplies = ['pens', 'staplers', 'flamethrowers', 'binders']\n",
    "for i in range(len(supplies)):\n",
    "    print('Index ' + str(i) + ' in supplies is: ' + supplies[i])"
   ]
  },
  {
   "cell_type": "markdown",
   "id": "85d9dd4a-e9e4-4d74-bb9e-bfb042b734cf",
   "metadata": {},
   "source": [
    "### The in and not in Operators"
   ]
  },
  {
   "cell_type": "code",
   "execution_count": 64,
   "id": "c979f574-7f32-4f21-9a50-1b63090077e5",
   "metadata": {},
   "outputs": [
    {
     "data": {
      "text/plain": [
       "True"
      ]
     },
     "execution_count": 64,
     "metadata": {},
     "output_type": "execute_result"
    }
   ],
   "source": [
    "'howdy' in ['hello', 'hi', 'howdy', 'heyas']"
   ]
  },
  {
   "cell_type": "code",
   "execution_count": 65,
   "id": "35faecac-cd7b-440a-acb4-a9c2d6ca2956",
   "metadata": {},
   "outputs": [
    {
     "data": {
      "text/plain": [
       "False"
      ]
     },
     "execution_count": 65,
     "metadata": {},
     "output_type": "execute_result"
    }
   ],
   "source": [
    "spam = ['hello', 'hi', 'howdy', 'heyas']\n",
    "'cat' in spam"
   ]
  },
  {
   "cell_type": "code",
   "execution_count": 66,
   "id": "511bed97-d5d5-411c-8950-7893bd781415",
   "metadata": {},
   "outputs": [
    {
     "data": {
      "text/plain": [
       "False"
      ]
     },
     "execution_count": 66,
     "metadata": {},
     "output_type": "execute_result"
    }
   ],
   "source": [
    "'howdy' not in spam"
   ]
  },
  {
   "cell_type": "code",
   "execution_count": 67,
   "id": "f8ca1c88-c969-409b-86be-a065098837dd",
   "metadata": {},
   "outputs": [
    {
     "data": {
      "text/plain": [
       "True"
      ]
     },
     "execution_count": 67,
     "metadata": {},
     "output_type": "execute_result"
    }
   ],
   "source": [
    "'cat' not in spam"
   ]
  },
  {
   "cell_type": "code",
   "execution_count": 73,
   "id": "a89c570a-6456-4e8f-913e-4a55b319afa0",
   "metadata": {},
   "outputs": [],
   "source": [
    "# myPets.py\n",
    "# myPets = ['Zophie', 'Pooka', 'Fat-tail']\n",
    "# print('Enter a pet name:')\n",
    "# name = input()\n",
    "# if name not in myPets:\n",
    "#     print('I do not have a pet named ' + name)\n",
    "# else:\n",
    "#     print(name + ' is my pet')"
   ]
  },
  {
   "cell_type": "code",
   "execution_count": 84,
   "id": "524a5599-8325-40c8-8541-8205e3116318",
   "metadata": {},
   "outputs": [
    {
     "name": "stdout",
     "output_type": "stream",
     "text": [
      "fat gray loud\n"
     ]
    }
   ],
   "source": [
    "cat = ['fat', 'gray', 'loud']\n",
    "size = cat[0]\n",
    "color = cat[1]\n",
    "disposition = cat[2]\n",
    "print(size, color, disposition)"
   ]
  },
  {
   "cell_type": "code",
   "execution_count": 85,
   "id": "132c67b5-355d-4cd2-bddd-b377eb086126",
   "metadata": {},
   "outputs": [
    {
     "name": "stdout",
     "output_type": "stream",
     "text": [
      "fat gray loud\n"
     ]
    }
   ],
   "source": [
    "cat = ['fat', 'gray', 'loud']\n",
    "size, color, disposition = cat\n",
    "print(size, color, disposition)"
   ]
  },
  {
   "cell_type": "code",
   "execution_count": 87,
   "id": "76a02574-2349-43e3-815e-b336ecbb3eea",
   "metadata": {},
   "outputs": [],
   "source": [
    "cat = ['fat', 'gray', 'loud']\n",
    "# size, color, disposition, name = cat # ValueError: not enough values to unpack (expected 4, got 3)"
   ]
  },
  {
   "cell_type": "markdown",
   "id": "35164e4d-91c1-4c30-a9fa-763b87d43d9a",
   "metadata": {},
   "source": [
    "### Using the enumerate() Function with Lists"
   ]
  },
  {
   "cell_type": "code",
   "execution_count": 89,
   "id": "2d288bae-a21f-4750-b492-b106d96465e0",
   "metadata": {},
   "outputs": [
    {
     "name": "stdout",
     "output_type": "stream",
     "text": [
      "Index 0 in supplies is: pens\n",
      "Index 1 in supplies is: staplers\n",
      "Index 2 in supplies is: flamethrowers\n",
      "Index 3 in supplies is: binders\n"
     ]
    }
   ],
   "source": [
    "supplies = ['pens', 'staplers', 'flamethrowers', 'binders']\n",
    "for index, item in enumerate(supplies):\n",
    "    print('Index ' + str(index) + ' in supplies is: ' + item)"
   ]
  },
  {
   "cell_type": "markdown",
   "id": "5492dc42-9be7-4acc-9e99-892062b42b75",
   "metadata": {},
   "source": [
    "### Using the random.choice() and random.shuffle() Functions with Lists"
   ]
  },
  {
   "cell_type": "code",
   "execution_count": 99,
   "id": "3a2a5ca4-91eb-445c-92d2-f7ef29ba9a9d",
   "metadata": {},
   "outputs": [
    {
     "name": "stdout",
     "output_type": "stream",
     "text": [
      "Moose\n",
      "Dog\n",
      "Cat\n"
     ]
    }
   ],
   "source": [
    "import random\n",
    "pets = ['Dog', 'Cat', 'Moose']\n",
    "print(random.choice(pets))\n",
    "print(random.choice(pets))\n",
    "print(random.choice(pets))"
   ]
  },
  {
   "cell_type": "code",
   "execution_count": 107,
   "id": "ed23be57-9893-41fa-9658-08fb43357c5d",
   "metadata": {},
   "outputs": [
    {
     "data": {
      "text/plain": [
       "'Dog'"
      ]
     },
     "execution_count": 107,
     "metadata": {},
     "output_type": "execute_result"
    }
   ],
   "source": [
    "# Same as random.choise(pets)\n",
    "pets[random.randint(0, len(pets) - 1)]"
   ]
  },
  {
   "cell_type": "code",
   "execution_count": 111,
   "id": "5c35b33e-9f97-4bb9-b83a-90c1fd4d1144",
   "metadata": {},
   "outputs": [
    {
     "name": "stdout",
     "output_type": "stream",
     "text": [
      "['Carol', 'Alice', 'Bob', 'David']\n",
      "['David', 'Carol', 'Alice', 'Bob']\n"
     ]
    }
   ],
   "source": [
    "import random\n",
    "people = ['Alice', 'Bob', 'Carol', 'David']\n",
    "random.shuffle(people)\n",
    "print(people)\n",
    "random.shuffle(people)\n",
    "print(people)"
   ]
  },
  {
   "cell_type": "markdown",
   "id": "ccd972c5-da4d-4adc-bc3e-9ee8d817c3e5",
   "metadata": {},
   "source": [
    "## Augmented Assignment Operators"
   ]
  },
  {
   "cell_type": "code",
   "execution_count": 112,
   "id": "e48bbd88-76d8-4e24-8539-23abd55b2dde",
   "metadata": {},
   "outputs": [
    {
     "data": {
      "text/plain": [
       "43"
      ]
     },
     "execution_count": 112,
     "metadata": {},
     "output_type": "execute_result"
    }
   ],
   "source": [
    "spam = 42\n",
    "spam = spam + 1\n",
    "spam"
   ]
  },
  {
   "cell_type": "code",
   "execution_count": 113,
   "id": "6ddf55fd-3464-4c6e-a7eb-4572d36c796b",
   "metadata": {},
   "outputs": [
    {
     "data": {
      "text/plain": [
       "43"
      ]
     },
     "execution_count": 113,
     "metadata": {},
     "output_type": "execute_result"
    }
   ],
   "source": [
    "spam = 42\n",
    "spam += 1\n",
    "spam"
   ]
  },
  {
   "cell_type": "code",
   "execution_count": 114,
   "id": "92d1ac62-dcf0-4916-882d-6ff49bd3a2b9",
   "metadata": {},
   "outputs": [
    {
     "data": {
      "text/plain": [
       "'Hello world!'"
      ]
     },
     "execution_count": 114,
     "metadata": {},
     "output_type": "execute_result"
    }
   ],
   "source": [
    "spam = 'Hello'\n",
    "spam += ' world!'\n",
    "spam"
   ]
  },
  {
   "cell_type": "code",
   "execution_count": 115,
   "id": "ebd0e58c-ade5-4d58-9239-fdc900581f86",
   "metadata": {},
   "outputs": [
    {
     "data": {
      "text/plain": [
       "['Zophie', 'Zophie', 'Zophie']"
      ]
     },
     "execution_count": 115,
     "metadata": {},
     "output_type": "execute_result"
    }
   ],
   "source": [
    "bacon = ['Zophie']\n",
    "bacon *= 3\n",
    "bacon"
   ]
  },
  {
   "cell_type": "markdown",
   "id": "e6eab735-d049-4a10-ab57-21f37ec0bc28",
   "metadata": {},
   "source": [
    "## Methods"
   ]
  },
  {
   "cell_type": "markdown",
   "id": "e84471e3-a240-45cb-9d41-60aa3560b541",
   "metadata": {},
   "source": [
    "### Finding a Value in a List with the index() Method"
   ]
  },
  {
   "cell_type": "code",
   "execution_count": 120,
   "id": "ce253e64-9126-4d12-8924-9339fad7859b",
   "metadata": {},
   "outputs": [
    {
     "name": "stdout",
     "output_type": "stream",
     "text": [
      "0\n",
      "3\n"
     ]
    }
   ],
   "source": [
    "spam = ['hello', 'hi', 'howdy', 'heyas']\n",
    "print(spam.index('hello'))\n",
    "print(spam.index('heyas'))\n",
    "# print(spam.index('howdy howdy howdy')) ValueError: 'howdy howdy howdy' is not in list"
   ]
  },
  {
   "cell_type": "code",
   "execution_count": 121,
   "id": "3bb33d88-022b-45ec-a5a9-65179a1506d6",
   "metadata": {},
   "outputs": [
    {
     "data": {
      "text/plain": [
       "1"
      ]
     },
     "execution_count": 121,
     "metadata": {},
     "output_type": "execute_result"
    }
   ],
   "source": [
    "# When there are duplicates of the value in the list, the index of its first appearance is returned.\n",
    "spam = ['Zophie', 'Pooka', 'Fat-tail', 'Pooka']\n",
    "spam.index('Pooka')"
   ]
  },
  {
   "cell_type": "markdown",
   "id": "477a0800-3229-4049-8b6f-47ee25077b10",
   "metadata": {},
   "source": [
    "### Adding Values to Lists with the append() and insert() Methods"
   ]
  },
  {
   "cell_type": "code",
   "execution_count": 124,
   "id": "5c562293-945f-4224-9498-935edd470462",
   "metadata": {},
   "outputs": [
    {
     "data": {
      "text/plain": [
       "['cat', 'dog', 'bat', 'moose']"
      ]
     },
     "execution_count": 124,
     "metadata": {},
     "output_type": "execute_result"
    }
   ],
   "source": [
    "spam = ['cat', 'dog', 'bat']\n",
    "spam.append('moose')\n",
    "spam"
   ]
  },
  {
   "cell_type": "code",
   "execution_count": 125,
   "id": "0f94d841-b6c1-4943-990b-e2effee559f5",
   "metadata": {},
   "outputs": [
    {
     "data": {
      "text/plain": [
       "['cat', 'chicken', 'dog', 'bat']"
      ]
     },
     "execution_count": 125,
     "metadata": {},
     "output_type": "execute_result"
    }
   ],
   "source": [
    "spam = ['cat', 'dog', 'bat']\n",
    "spam.insert(1, 'chicken')\n",
    "spam"
   ]
  },
  {
   "cell_type": "code",
   "execution_count": 127,
   "id": "0fadeb4b-ada1-4fda-a5c2-47248574e540",
   "metadata": {},
   "outputs": [],
   "source": [
    "eggs = 'hello'\n",
    "# eggs.append('world') AttributeError: 'str' object has no attribute 'append'"
   ]
  },
  {
   "cell_type": "code",
   "execution_count": 129,
   "id": "fe86a43b-581c-4a5c-b39e-8945e1129516",
   "metadata": {},
   "outputs": [],
   "source": [
    "bacon = 42\n",
    "# bacon.insert(1, 'world') AttributeError: 'int' object has no attribute 'insert'"
   ]
  },
  {
   "cell_type": "markdown",
   "id": "f3cbf663-49cf-47f2-bd4a-779cc0bbd1d6",
   "metadata": {},
   "source": [
    "### Removing Values from Lists with the remove() Method"
   ]
  },
  {
   "cell_type": "code",
   "execution_count": 131,
   "id": "f23bab81-60fa-4e23-bff2-83fbd4b9ee33",
   "metadata": {},
   "outputs": [
    {
     "data": {
      "text/plain": [
       "['cat', 'dog', 'elephant']"
      ]
     },
     "execution_count": 131,
     "metadata": {},
     "output_type": "execute_result"
    }
   ],
   "source": [
    "spam = ['cat', 'dog', 'bat', 'elephant']\n",
    "spam.remove('bat')\n",
    "spam"
   ]
  },
  {
   "cell_type": "code",
   "execution_count": 134,
   "id": "7a0a2b83-3b9f-42b7-9a50-a06d6b55e19f",
   "metadata": {},
   "outputs": [],
   "source": [
    "spam = ['cat', 'dog', 'bat', 'elephant']\n",
    "# spam.remove('chicken') ValueError: list.remove(x): x not in list"
   ]
  },
  {
   "cell_type": "code",
   "execution_count": 136,
   "id": "aee9ffb5-b199-4993-8ad3-7578e0605af7",
   "metadata": {},
   "outputs": [
    {
     "data": {
      "text/plain": [
       "['bat', 'rat', 'cat', 'hat', 'cat']"
      ]
     },
     "execution_count": 136,
     "metadata": {},
     "output_type": "execute_result"
    }
   ],
   "source": [
    "spam = ['cat', 'bat', 'rat', 'cat', 'hat', 'cat']\n",
    "spam.remove('cat')\n",
    "spam"
   ]
  },
  {
   "cell_type": "code",
   "execution_count": 137,
   "id": "2040e3c0-e107-4c34-9403-3193c9c6235e",
   "metadata": {},
   "outputs": [],
   "source": [
    "# The del statement is good to use when you know the index of the value you want to remove from the list.\n",
    "# The remove() method is useful when you know the value you want to remove from the list."
   ]
  },
  {
   "cell_type": "markdown",
   "id": "3b8c8c8c-f309-407a-82c2-2492e615808d",
   "metadata": {},
   "source": [
    "### Sorting the Values in a List with the sort() Method"
   ]
  },
  {
   "cell_type": "code",
   "execution_count": 139,
   "id": "969503a3-a098-412c-bb96-dbb718f32e9a",
   "metadata": {},
   "outputs": [
    {
     "data": {
      "text/plain": [
       "[-7, 1, 2, 3.14, 5]"
      ]
     },
     "execution_count": 139,
     "metadata": {},
     "output_type": "execute_result"
    }
   ],
   "source": [
    "spam = [2, 5, 3.14, 1, -7]\n",
    "spam.sort()\n",
    "spam"
   ]
  },
  {
   "cell_type": "code",
   "execution_count": 140,
   "id": "7968e165-f6ec-49de-987f-64ac2613bbef",
   "metadata": {},
   "outputs": [
    {
     "data": {
      "text/plain": [
       "['ants', 'badgers', 'cats', 'dogs', 'elephants']"
      ]
     },
     "execution_count": 140,
     "metadata": {},
     "output_type": "execute_result"
    }
   ],
   "source": [
    "spam = ['ants', 'cats', 'dogs', 'badgers', 'elephants']\n",
    "spam.sort()\n",
    "spam"
   ]
  },
  {
   "cell_type": "code",
   "execution_count": 142,
   "id": "b173d9ed-8008-49e1-80f0-6342346555ea",
   "metadata": {},
   "outputs": [
    {
     "data": {
      "text/plain": [
       "['elephants', 'dogs', 'cats', 'badgers', 'ants']"
      ]
     },
     "execution_count": 142,
     "metadata": {},
     "output_type": "execute_result"
    }
   ],
   "source": [
    "spam.sort(reverse=True)\n",
    "spam"
   ]
  },
  {
   "cell_type": "code",
   "execution_count": 144,
   "id": "6ec7961b-5bda-4673-bb32-1ff56df56fdb",
   "metadata": {},
   "outputs": [],
   "source": [
    "spam = [1, 3, 2, 4, 'Alice', 'Bob']\n",
    "# spam.sort() TypeError: '<' not supported between instances of 'str' and 'int'"
   ]
  },
  {
   "cell_type": "code",
   "execution_count": 147,
   "id": "df7c1140-7e75-46ec-885a-bd1fb43e881c",
   "metadata": {},
   "outputs": [
    {
     "data": {
      "text/plain": [
       "['Alice', 'Bobs', 'Carol', 'ants', 'badgers', 'cats']"
      ]
     },
     "execution_count": 147,
     "metadata": {},
     "output_type": "execute_result"
    }
   ],
   "source": [
    "spam = ['Alice', 'ants', 'Bobs', 'badgers', 'Carol', 'cats']\n",
    "spam.sort()\n",
    "spam"
   ]
  },
  {
   "cell_type": "code",
   "execution_count": 148,
   "id": "2cc02bdb-c8ad-4e75-ae3f-193d331556a5",
   "metadata": {},
   "outputs": [
    {
     "data": {
      "text/plain": [
       "['a', 'A', 'z', 'Z']"
      ]
     },
     "execution_count": 148,
     "metadata": {},
     "output_type": "execute_result"
    }
   ],
   "source": [
    "spam = ['a', 'z', 'A', 'Z']\n",
    "spam.sort(key=str.lower)\n",
    "spam"
   ]
  },
  {
   "cell_type": "markdown",
   "id": "9275a709-9224-42d1-8c51-f538a861d949",
   "metadata": {},
   "source": [
    "### Reversing the Values in a List with the reverse() Method"
   ]
  },
  {
   "cell_type": "code",
   "execution_count": 149,
   "id": "beab4de0-f5fe-4e55-99e3-6bbb36db0fc2",
   "metadata": {},
   "outputs": [
    {
     "data": {
      "text/plain": [
       "['moose', 'dog', 'cat']"
      ]
     },
     "execution_count": 149,
     "metadata": {},
     "output_type": "execute_result"
    }
   ],
   "source": [
    "spam = ['cat', 'dog', 'moose']\n",
    "spam.reverse()\n",
    "spam"
   ]
  },
  {
   "cell_type": "markdown",
   "id": "ecc773da-ff92-48b6-8100-45a32f3c3417",
   "metadata": {},
   "source": [
    "## Example Program: Magic 8 Ball with a List"
   ]
  },
  {
   "cell_type": "code",
   "execution_count": 162,
   "id": "012bdbe0-814c-4485-b0c8-64640deec509",
   "metadata": {},
   "outputs": [
    {
     "name": "stdout",
     "output_type": "stream",
     "text": [
      "Very doubtful\n"
     ]
    }
   ],
   "source": [
    "# magic8Ball2.py\n",
    "import random\n",
    "\n",
    "messages = ['It is certain',\n",
    "            'It is decidely so',\n",
    "            'Yes definitely',\n",
    "            'Reply hazy try again',\n",
    "            'Ask again later',\n",
    "            'Concentrate and ask again',\n",
    "            'My reply is no',\n",
    "            'Outlook not so good',\n",
    "            'Very doubtful']\n",
    "\n",
    "print(messages[random.randint(0, len(messages) - 1)])\n",
    "# print(random.choice(messages))"
   ]
  },
  {
   "cell_type": "markdown",
   "id": "bca58960-10af-48af-93a6-8cf45f6d3c0b",
   "metadata": {},
   "source": [
    "## Sequence Data Types"
   ]
  },
  {
   "cell_type": "code",
   "execution_count": 170,
   "id": "f17ddc6c-8881-4ed1-a347-a5f1c29def41",
   "metadata": {},
   "outputs": [
    {
     "name": "stdout",
     "output_type": "stream",
     "text": [
      "Z\n",
      "i\n",
      "Zoph\n",
      "True\n",
      "False\n",
      "False\n",
      "* * * Z * * *\n",
      "* * * o * * *\n",
      "* * * p * * *\n",
      "* * * h * * *\n",
      "* * * i * * *\n",
      "* * * e * * *\n"
     ]
    }
   ],
   "source": [
    "name = 'Zophie'\n",
    "print(name[0])\n",
    "print(name[-2])\n",
    "print(name[0:4])\n",
    "print('Zo' in name)\n",
    "print('z' in name)\n",
    "print('p' not in name)\n",
    "for i in name:\n",
    "    print('* * * ' + i + ' * * *')"
   ]
  },
  {
   "cell_type": "markdown",
   "id": "7cfedbde-c80f-4f7a-bab4-ecd847f460ad",
   "metadata": {},
   "source": [
    "### Multable and Immutable Data Types"
   ]
  },
  {
   "cell_type": "code",
   "execution_count": 174,
   "id": "71bceb42-94b9-4717-b025-03d7d6ab7395",
   "metadata": {},
   "outputs": [],
   "source": [
    "name = 'Zophie a cat'\n",
    "# name[7] = 'the' TypeError: 'str' object does not support item assignment"
   ]
  },
  {
   "cell_type": "code",
   "execution_count": 176,
   "id": "ccc63abc-aa52-4acc-9878-67d11ca46cbe",
   "metadata": {},
   "outputs": [
    {
     "name": "stdout",
     "output_type": "stream",
     "text": [
      "Zophie a cat\n",
      "Zophie the cat\n"
     ]
    }
   ],
   "source": [
    "name = 'Zophie a cat'\n",
    "newName = name[0:7] + 'the' + name[8:12]\n",
    "print(name)\n",
    "print(newName)"
   ]
  },
  {
   "cell_type": "code",
   "execution_count": 177,
   "id": "80b88a3f-ead7-4ee0-ad01-85867f3ec455",
   "metadata": {},
   "outputs": [
    {
     "data": {
      "text/plain": [
       "[4, 5, 6]"
      ]
     },
     "execution_count": 177,
     "metadata": {},
     "output_type": "execute_result"
    }
   ],
   "source": [
    "# The list value in eggs isn't being changed here, rather, an entirely new list is overwriting the old list value.\n",
    "eggs = [1, 2, 3]\n",
    "eggs = [4, 5, 6]\n",
    "eggs"
   ]
  },
  {
   "cell_type": "code",
   "execution_count": 179,
   "id": "63b749a4-989a-491d-86f1-692184ee8c12",
   "metadata": {},
   "outputs": [
    {
     "data": {
      "text/plain": [
       "[4, 5, 6]"
      ]
     },
     "execution_count": 179,
     "metadata": {},
     "output_type": "execute_result"
    }
   ],
   "source": [
    "# Actually modify the original list in eggs.\n",
    "eggs = [1, 2, 3]\n",
    "del eggs[2]\n",
    "del eggs[1]\n",
    "del eggs[0]\n",
    "eggs.append(4)\n",
    "eggs.append(5)\n",
    "eggs.append(6)\n",
    "eggs"
   ]
  },
  {
   "cell_type": "markdown",
   "id": "96b77f42-5e04-4dd7-9901-126683b87d43",
   "metadata": {},
   "source": [
    "### The Tuple Data Type"
   ]
  },
  {
   "cell_type": "code",
   "execution_count": 184,
   "id": "8d6f5753-21fc-4595-8665-e3d15a658e01",
   "metadata": {},
   "outputs": [
    {
     "name": "stdout",
     "output_type": "stream",
     "text": [
      "hello\n",
      "(42, 0.5)\n",
      "3\n"
     ]
    }
   ],
   "source": [
    "eggs = ('hello', 42, 0.5)\n",
    "print(eggs[0])\n",
    "print(eggs[1:3])\n",
    "print(len(eggs))"
   ]
  },
  {
   "cell_type": "code",
   "execution_count": 186,
   "id": "603145fe-98c4-43bd-86fe-13eacb6f05dd",
   "metadata": {},
   "outputs": [],
   "source": [
    "eggs = ('hello', 42, 0.5)\n",
    "# eggs[1] = 99 TypeError: 'tuple' object does not support item assignment"
   ]
  },
  {
   "cell_type": "code",
   "execution_count": 189,
   "id": "67c446a0-4ea3-4371-9170-2fa4872aea24",
   "metadata": {},
   "outputs": [
    {
     "data": {
      "text/plain": [
       "str"
      ]
     },
     "execution_count": 189,
     "metadata": {},
     "output_type": "execute_result"
    }
   ],
   "source": [
    "type(('hello',)) # tuple\n",
    "type(('hello')) # str"
   ]
  },
  {
   "cell_type": "markdown",
   "id": "7a7b482c-4aa3-4827-94d5-ba54879b1f39",
   "metadata": {},
   "source": [
    "### Converting Types with the list() and tuple() Functions"
   ]
  },
  {
   "cell_type": "code",
   "execution_count": 192,
   "id": "39a96990-3013-4074-b3a2-14b5cdc55ade",
   "metadata": {},
   "outputs": [
    {
     "data": {
      "text/plain": [
       "('cat', 'dog', 5)"
      ]
     },
     "execution_count": 192,
     "metadata": {},
     "output_type": "execute_result"
    }
   ],
   "source": [
    "tuple(['cat', 'dog', 5])"
   ]
  },
  {
   "cell_type": "code",
   "execution_count": 193,
   "id": "447ebcef-ffb0-4bc8-8187-bcbd0faa262b",
   "metadata": {},
   "outputs": [
    {
     "data": {
      "text/plain": [
       "['cat', 'dog', 5]"
      ]
     },
     "execution_count": 193,
     "metadata": {},
     "output_type": "execute_result"
    }
   ],
   "source": [
    "list(('cat', 'dog', 5))"
   ]
  },
  {
   "cell_type": "code",
   "execution_count": 194,
   "id": "08312fdf-9de6-439e-9a1d-c88d566b0f32",
   "metadata": {},
   "outputs": [
    {
     "data": {
      "text/plain": [
       "['h', 'e', 'l', 'l', 'o']"
      ]
     },
     "execution_count": 194,
     "metadata": {},
     "output_type": "execute_result"
    }
   ],
   "source": [
    "list('hello')"
   ]
  },
  {
   "cell_type": "markdown",
   "id": "c6459412-bd6b-4839-81f4-8b65f36af72f",
   "metadata": {},
   "source": [
    "## References"
   ]
  },
  {
   "cell_type": "code",
   "execution_count": 196,
   "id": "1ed57d4e-9c43-4e6b-ad4b-7155e86fbc08",
   "metadata": {},
   "outputs": [
    {
     "name": "stdout",
     "output_type": "stream",
     "text": [
      "100\n",
      "42\n"
     ]
    }
   ],
   "source": [
    "spam = 42\n",
    "cheese = spam\n",
    "spam = 100\n",
    "print(spam)\n",
    "print(cheese)"
   ]
  },
  {
   "cell_type": "code",
   "execution_count": 199,
   "id": "7a5b8cd9-b639-40ca-9290-9e315cc0b1eb",
   "metadata": {},
   "outputs": [
    {
     "name": "stdout",
     "output_type": "stream",
     "text": [
      "[0, 'Hello!', 2, 3, 4, 5]\n",
      "[0, 'Hello!', 2, 3, 4, 5]\n"
     ]
    }
   ],
   "source": [
    "spam = [0, 1, 2, 3, 4, 5]\n",
    "cheese = spam # The reference is being copied, not the list.\n",
    "cheese[1] = 'Hello!' # This changes the list value.\n",
    "print(spam)\n",
    "print(cheese) # The cheese variable refers to the same list."
   ]
  },
  {
   "cell_type": "markdown",
   "id": "4ba188a4-892e-4a59-b4f2-a30270980f04",
   "metadata": {},
   "source": [
    "### Identity and the id() Function"
   ]
  },
  {
   "cell_type": "code",
   "execution_count": 200,
   "id": "9127a86d-a67f-4939-ae76-9c190ab813f0",
   "metadata": {},
   "outputs": [
    {
     "data": {
      "text/plain": [
       "140686084564592"
      ]
     },
     "execution_count": 200,
     "metadata": {},
     "output_type": "execute_result"
    }
   ],
   "source": [
    "id('Howdy')"
   ]
  },
  {
   "cell_type": "code",
   "execution_count": 202,
   "id": "faf33940-a801-4067-8d28-1807c6beb900",
   "metadata": {},
   "outputs": [
    {
     "name": "stdout",
     "output_type": "stream",
     "text": [
      "140686084679088\n",
      "140687707475248\n"
     ]
    }
   ],
   "source": [
    "bacon = 'Hello'\n",
    "print(id(bacon))\n",
    "bacon += ' world!' # A new string is made from 'Hello' and ' world!'.\n",
    "print(id(bacon)) # bacon now refers to a completely different string."
   ]
  },
  {
   "cell_type": "code",
   "execution_count": 204,
   "id": "a9b31ec2-0adf-46bf-9642-5cc94fbb16c7",
   "metadata": {},
   "outputs": [
    {
     "name": "stdout",
     "output_type": "stream",
     "text": [
      "140687159650496\n",
      "140687159650496\n",
      "140687159651840\n"
     ]
    }
   ],
   "source": [
    "eggs = ['cat', 'dog'] # This creates a new list.\n",
    "print(id(eggs))\n",
    "eggs.append('moose') # append() modifies the list \"in place\".\n",
    "print(id(eggs)) # eggs still refers to the same list as before\n",
    "eggs = ['bat', 'rat', 'cow'] # This creates a new list, which has a new identity.\n",
    "print(id(eggs)) # eggs new refers to a completely different list."
   ]
  },
  {
   "cell_type": "markdown",
   "id": "f8cca38d-8393-4288-9d37-3c23e5e5c65f",
   "metadata": {},
   "source": [
    "### Passing References"
   ]
  },
  {
   "cell_type": "code",
   "execution_count": 206,
   "id": "84f9ebdd-9824-4621-b3e3-3f9ac6207015",
   "metadata": {},
   "outputs": [
    {
     "name": "stdout",
     "output_type": "stream",
     "text": [
      "[1, 2, 3, 'Hello']\n"
     ]
    }
   ],
   "source": [
    "# passingReference.py\n",
    "def eggs(someParameter):\n",
    "    someParameter.append('Hello')\n",
    "    \n",
    "spam = [1, 2, 3]\n",
    "eggs(spam)\n",
    "print(spam)"
   ]
  },
  {
   "cell_type": "markdown",
   "id": "15c6f63a-03c8-47ee-bb0d-bc3f6c53a425",
   "metadata": {},
   "source": [
    "### The copy Module's copy() and deepcopy() Functions"
   ]
  },
  {
   "cell_type": "code",
   "execution_count": 209,
   "id": "0b2d3c47-7112-47e7-8e34-3cfd09a3f9a1",
   "metadata": {},
   "outputs": [
    {
     "name": "stdout",
     "output_type": "stream",
     "text": [
      "140687712631936\n",
      "140687433777280\n",
      "['A', 'B', 'C', 'D']\n",
      "['A', 42, 'C', 'D']\n"
     ]
    }
   ],
   "source": [
    "import copy\n",
    "spam = ['A', 'B', 'C', 'D']\n",
    "print(id(spam))\n",
    "cheese = copy.copy(spam)\n",
    "print(id(cheese))\n",
    "cheese[1] = 42\n",
    "print(spam)\n",
    "print(cheese)"
   ]
  },
  {
   "cell_type": "markdown",
   "id": "1aa71a7d-9c18-490d-9885-fde14d7539cc",
   "metadata": {},
   "source": [
    "## A Short Program: Conway's Game of Life"
   ]
  },
  {
   "cell_type": "code",
   "execution_count": null,
   "id": "adc01020-3d2b-410e-b982-47092afa2349",
   "metadata": {},
   "outputs": [],
   "source": []
  }
 ],
 "metadata": {
  "kernelspec": {
   "display_name": "Python 3 (ipykernel)",
   "language": "python",
   "name": "python3"
  },
  "language_info": {
   "codemirror_mode": {
    "name": "ipython",
    "version": 3
   },
   "file_extension": ".py",
   "mimetype": "text/x-python",
   "name": "python",
   "nbconvert_exporter": "python",
   "pygments_lexer": "ipython3",
   "version": "3.9.15"
  }
 },
 "nbformat": 4,
 "nbformat_minor": 5
}
