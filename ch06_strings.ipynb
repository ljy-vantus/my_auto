{
 "cells": [
  {
   "cell_type": "markdown",
   "id": "0f59db43-4c7a-4a5d-af3f-145220db230f",
   "metadata": {},
   "source": [
    "# Manipulating Strings"
   ]
  },
  {
   "cell_type": "markdown",
   "id": "6545b0dc-04cb-4375-8def-a43947b31c73",
   "metadata": {},
   "source": [
    "## Working with Strings"
   ]
  },
  {
   "cell_type": "markdown",
   "id": "b3eee3c9-b90d-48aa-85e8-825480fc23a4",
   "metadata": {},
   "source": [
    "### String Literals"
   ]
  },
  {
   "cell_type": "code",
   "execution_count": 1,
   "id": "2f2bf40f-ed37-48eb-8ea7-246c5a370e9a",
   "metadata": {},
   "outputs": [],
   "source": [
    "# 'That is Alice's cat.' SyntaxError: invalid syntax"
   ]
  },
  {
   "cell_type": "markdown",
   "id": "431ffdf2-f9cd-4fae-baf2-a4ca25923099",
   "metadata": {},
   "source": [
    "#### Double Quotes"
   ]
  },
  {
   "cell_type": "code",
   "execution_count": 2,
   "id": "6d3f12f4-fc8f-49fd-ab0b-c4e8db0401b1",
   "metadata": {},
   "outputs": [],
   "source": [
    "spam = \"That is Alice's cat.\""
   ]
  },
  {
   "cell_type": "markdown",
   "id": "a8cc222f-e442-474e-a8d0-29b0c0da9656",
   "metadata": {},
   "source": [
    "#### Escape Characters"
   ]
  },
  {
   "cell_type": "code",
   "execution_count": 3,
   "id": "56b91bef-09e4-4513-bfd8-9d05b25ffec5",
   "metadata": {},
   "outputs": [],
   "source": [
    "spam = 'Say hi to Bob\\'s mother.'"
   ]
  },
  {
   "cell_type": "code",
   "execution_count": 4,
   "id": "fbed5a7e-5bfe-45fe-acc0-3f76c223f294",
   "metadata": {},
   "outputs": [
    {
     "name": "stdout",
     "output_type": "stream",
     "text": [
      "Hello there!\n",
      "How are you?\n",
      "I'm doing fine.\n"
     ]
    }
   ],
   "source": [
    "print(\"Hello there!\\nHow are you?\\nI\\'m doing fine.\")"
   ]
  },
  {
   "cell_type": "markdown",
   "id": "81dd0582-6b8c-4e02-8a2d-efac75b8755b",
   "metadata": {},
   "source": [
    "#### Raw Strings"
   ]
  },
  {
   "cell_type": "code",
   "execution_count": 5,
   "id": "86422b0b-84a3-4a30-906c-3424eea136b2",
   "metadata": {},
   "outputs": [
    {
     "name": "stdout",
     "output_type": "stream",
     "text": [
      "That is Carol\\'s cat.\n"
     ]
    }
   ],
   "source": [
    "print(r'That is Carol\\'s cat.')"
   ]
  },
  {
   "cell_type": "markdown",
   "id": "f734ee96-3c02-4016-ae41-45894fd2c74b",
   "metadata": {},
   "source": [
    "#### Multiline Strings with Triple Quotes"
   ]
  },
  {
   "cell_type": "code",
   "execution_count": 6,
   "id": "98751ba9-e0f5-44b2-9545-f55badb303f2",
   "metadata": {},
   "outputs": [
    {
     "name": "stdout",
     "output_type": "stream",
     "text": [
      "Dear Alice,\n",
      "\n",
      "Eve's cat has been arrested for catnapping, cat burglary, and extortion.\n",
      "\n",
      "Sincerely,\n",
      "Bob\n"
     ]
    }
   ],
   "source": [
    "# catnapping.py\n",
    "print('''Dear Alice,\n",
    "\n",
    "Eve's cat has been arrested for catnapping, cat burglary, and extortion.\n",
    "\n",
    "Sincerely,\n",
    "Bob''')"
   ]
  },
  {
   "cell_type": "code",
   "execution_count": 7,
   "id": "6ce0b25a-c753-4022-b8bb-e49964755734",
   "metadata": {},
   "outputs": [
    {
     "name": "stdout",
     "output_type": "stream",
     "text": [
      "Dear Alice,\n",
      "\n",
      "Eve's cat has been arrested for catnapping, cat burglary, and extortion.\n",
      "\n",
      "Sincerely,\n",
      "Bob\n"
     ]
    }
   ],
   "source": [
    "print('Dear Alice,\\n\\nEve\\'s cat has been arrested for catnapping, cat burglary, and extortion.\\n\\nSincerely,\\nBob')"
   ]
  },
  {
   "cell_type": "markdown",
   "id": "64929e53-e36a-4533-ae5e-00320a9cd3be",
   "metadata": {},
   "source": [
    "#### Multiline Comments"
   ]
  },
  {
   "cell_type": "code",
   "execution_count": 8,
   "id": "2736d15f-fd97-48ca-bda1-f8c7463e643b",
   "metadata": {},
   "outputs": [],
   "source": [
    "\"\"\"This is a test python program.\n",
    "Written by ljy\n",
    "\n",
    "This program was designed for Python3, not Python 2.\n",
    "\"\"\"\n",
    "\n",
    "def spam():\n",
    "    \"\"\"This is a multiline comment to help\n",
    "    explain what the spam() function does.\"\"\"\n",
    "    print('Hello!')"
   ]
  },
  {
   "cell_type": "markdown",
   "id": "87f2e816-c672-45da-adc2-87639222c844",
   "metadata": {},
   "source": [
    "### Indexing and Slicing Strings"
   ]
  },
  {
   "cell_type": "code",
   "execution_count": 9,
   "id": "292731a4-af9e-404d-af7b-e06c729226f3",
   "metadata": {},
   "outputs": [
    {
     "name": "stdout",
     "output_type": "stream",
     "text": [
      "H\n",
      "o\n",
      "!\n",
      "Hello\n",
      "Hello\n",
      "world!\n"
     ]
    }
   ],
   "source": [
    "spam = 'Hello, world!'\n",
    "print(spam[0])\n",
    "print(spam[4])\n",
    "print(spam[-1])\n",
    "print(spam[0:5])\n",
    "print(spam[:5])\n",
    "print(spam[7:])"
   ]
  },
  {
   "cell_type": "code",
   "execution_count": 10,
   "id": "cfa12277-ba86-4174-8775-c741628451f0",
   "metadata": {},
   "outputs": [
    {
     "data": {
      "text/plain": [
       "'Hello'"
      ]
     },
     "execution_count": 10,
     "metadata": {},
     "output_type": "execute_result"
    }
   ],
   "source": [
    "spam = 'Hello, world!'\n",
    "fizz = spam[0:5]\n",
    "fizz"
   ]
  },
  {
   "cell_type": "markdown",
   "id": "2ef88772-d060-43ea-a6c0-c8f681e4b0cd",
   "metadata": {},
   "source": [
    "### The in and not in Operators with Strings"
   ]
  },
  {
   "cell_type": "code",
   "execution_count": 11,
   "id": "320602cf-5887-4d99-b4b2-0de54a127bcc",
   "metadata": {},
   "outputs": [
    {
     "name": "stdout",
     "output_type": "stream",
     "text": [
      "True\n",
      "True\n",
      "False\n",
      "True\n",
      "False\n"
     ]
    }
   ],
   "source": [
    "print('Hello' in 'Hello, World')\n",
    "print('Hello' in 'Hello')\n",
    "print('HELLO' in 'Hello, World')\n",
    "print('' in 'spam')\n",
    "print('cats' not in 'cats and dogs')"
   ]
  },
  {
   "cell_type": "markdown",
   "id": "de9b7e99-f13a-4fc4-b30d-9325475a1bd7",
   "metadata": {},
   "source": [
    "## Putting Strings Inside Other Strings"
   ]
  },
  {
   "cell_type": "code",
   "execution_count": 12,
   "id": "b20a4d68-758a-4cc5-970b-76a1ae0d4bd7",
   "metadata": {},
   "outputs": [
    {
     "data": {
      "text/plain": [
       "'Hello, my name is Al. I am 4000 years old.'"
      ]
     },
     "execution_count": 12,
     "metadata": {},
     "output_type": "execute_result"
    }
   ],
   "source": [
    "name = 'Al'\n",
    "age = 4000\n",
    "'Hello, my name is ' + name + '. I am ' + str(age) + ' years old.'"
   ]
  },
  {
   "cell_type": "code",
   "execution_count": 13,
   "id": "60e93af1-2b29-4d50-a25a-5fd8d7b0c23d",
   "metadata": {},
   "outputs": [
    {
     "data": {
      "text/plain": [
       "'My name is Al. I am 4000 years old.'"
      ]
     },
     "execution_count": 13,
     "metadata": {},
     "output_type": "execute_result"
    }
   ],
   "source": [
    "name = 'Al'\n",
    "age = 4000\n",
    "# string interpolation\n",
    "'My name is %s. I am %s years old.' % (name, age)"
   ]
  },
  {
   "cell_type": "code",
   "execution_count": 14,
   "id": "728a42bc-2be3-432e-b275-2a3f6cb062f4",
   "metadata": {},
   "outputs": [
    {
     "data": {
      "text/plain": [
       "'My name is Al. Next year I will be 4001'"
      ]
     },
     "execution_count": 14,
     "metadata": {},
     "output_type": "execute_result"
    }
   ],
   "source": [
    "name = 'Al'\n",
    "age = 4000\n",
    "# f-string (python 3.6)\n",
    "f'My name is {name}. Next year I will be {age + 1}'"
   ]
  },
  {
   "cell_type": "code",
   "execution_count": 15,
   "id": "1fd55f6a-4fa7-4218-9a10-34351f8c1c39",
   "metadata": {},
   "outputs": [
    {
     "data": {
      "text/plain": [
       "'My name is {name}. Next year I will be {age + 1}'"
      ]
     },
     "execution_count": 15,
     "metadata": {},
     "output_type": "execute_result"
    }
   ],
   "source": [
    "'My name is {name}. Next year I will be {age + 1}'"
   ]
  },
  {
   "cell_type": "markdown",
   "id": "69837a1b-c89a-4a59-9eea-84476cf4ac50",
   "metadata": {},
   "source": [
    "## Useful String Methods"
   ]
  },
  {
   "cell_type": "markdown",
   "id": "122c8895-d48b-4a22-a498-94ec16fbc7f6",
   "metadata": {},
   "source": [
    "### The upper(), lower(), isupper(), and islower() Methods"
   ]
  },
  {
   "cell_type": "code",
   "execution_count": 16,
   "id": "1a1a62f1-e42a-419b-aadc-b744b216c318",
   "metadata": {},
   "outputs": [
    {
     "name": "stdout",
     "output_type": "stream",
     "text": [
      "HELLO, WORLD!\n",
      "hello, world!\n"
     ]
    }
   ],
   "source": [
    "spam = 'Hello, world!'\n",
    "print(spam.upper())\n",
    "print(spam.lower())"
   ]
  },
  {
   "cell_type": "code",
   "execution_count": 17,
   "id": "e7d65d8e-3f9a-4ee2-898f-3d35fc926d6f",
   "metadata": {},
   "outputs": [],
   "source": [
    "# print('How are you?')\n",
    "# feeling = input()\n",
    "# if feeling.lower() == 'great':\n",
    "#     print('I feel great too.')\n",
    "# else:\n",
    "#     print('I hope the rest of your day is good.')"
   ]
  },
  {
   "cell_type": "code",
   "execution_count": 18,
   "id": "3436a3dc-9937-4009-873e-dd1c1631ca32",
   "metadata": {},
   "outputs": [
    {
     "name": "stdout",
     "output_type": "stream",
     "text": [
      "False\n",
      "False\n",
      "True\n",
      "True\n",
      "False\n",
      "False\n"
     ]
    }
   ],
   "source": [
    "spam = 'Hello, world!'\n",
    "print(spam.islower())\n",
    "print(spam.isupper())\n",
    "print('HELLO'.isupper())\n",
    "print('abc12345'.islower())\n",
    "print('12345'.islower()) # False\n",
    "print('12345'.isupper()) # False"
   ]
  },
  {
   "cell_type": "code",
   "execution_count": 19,
   "id": "457ed04d-9b82-45d8-8346-e289046f28d4",
   "metadata": {},
   "outputs": [
    {
     "name": "stdout",
     "output_type": "stream",
     "text": [
      "HELLO\n",
      "hello\n",
      "HELLO\n",
      "hello\n",
      "True\n"
     ]
    }
   ],
   "source": [
    "print('Hello'.upper())\n",
    "print('Hello'.upper().lower())\n",
    "print('Hello'.upper().lower().upper())\n",
    "print('HELLO'.lower())\n",
    "print('HELLO'.lower().islower())"
   ]
  },
  {
   "cell_type": "markdown",
   "id": "fd7ea797-c973-4d39-a566-24de1df3877a",
   "metadata": {},
   "source": [
    "### The isX() Methods"
   ]
  },
  {
   "cell_type": "code",
   "execution_count": 20,
   "id": "df60f66a-07d1-4965-8b6b-b83bfb3a8200",
   "metadata": {},
   "outputs": [
    {
     "name": "stdout",
     "output_type": "stream",
     "text": [
      "True\n",
      "False\n",
      "True\n",
      "True\n",
      "True\n",
      "True\n",
      "True\n",
      "True\n",
      "False\n",
      "False\n"
     ]
    }
   ],
   "source": [
    "print('hello'.isalpha())\n",
    "print('hello123'.isalpha())\n",
    "print('hello123'.isalnum())\n",
    "print('hello'.isalnum())\n",
    "print('123'.isdecimal()) # consists only of numeric characters and is not blank\n",
    "print('   '.isspace())\n",
    "print('This Is Title Case'.istitle())\n",
    "print('This Is Title Case 123'.istitle())\n",
    "print('This Is not Title Case'.istitle())\n",
    "print('This Is NOT Title Case Eigher'.istitle())"
   ]
  },
  {
   "cell_type": "code",
   "execution_count": 21,
   "id": "7e78cac3-d671-48af-8639-50bcc01d3578",
   "metadata": {},
   "outputs": [],
   "source": [
    "# validInput.py\n",
    "# while True:\n",
    "#     print('Enter your age:')\n",
    "#     age = input()\n",
    "#     if age.isdecimal():\n",
    "#         break\n",
    "#     print('Please enter a number for your age.')\n",
    "    \n",
    "# while True:\n",
    "#     print('Select a new password (letters and numbers only):')\n",
    "#     password = input()\n",
    "#     if password.isalnum():\n",
    "#         break\n",
    "#     print('Passwords can only have letters and numbers.')"
   ]
  },
  {
   "cell_type": "markdown",
   "id": "954d14b7-20fb-40e9-a6ba-7dd159c23a3a",
   "metadata": {},
   "source": [
    "### The startswith() and endswith() Methods"
   ]
  },
  {
   "cell_type": "code",
   "execution_count": 22,
   "id": "c6d38b1a-375c-4378-b4d2-e5968259a3ef",
   "metadata": {},
   "outputs": [
    {
     "name": "stdout",
     "output_type": "stream",
     "text": [
      "True\n",
      "True\n",
      "False\n",
      "False\n",
      "True\n",
      "True\n"
     ]
    }
   ],
   "source": [
    "print('Hello, world!'.startswith('Hello'))\n",
    "print('Hello, world!'.endswith('world!'))\n",
    "print('abc123'.startswith('abcdef'))\n",
    "print('abc123'.endswith('12'))\n",
    "print('Hello, world!'.startswith('Hello, world!'))\n",
    "print('Hello, world!'.endswith('Hello, world!'))"
   ]
  },
  {
   "cell_type": "markdown",
   "id": "75339da7-d102-469a-adaf-73f1168fee60",
   "metadata": {},
   "source": [
    "### The join() and split() Methods"
   ]
  },
  {
   "cell_type": "code",
   "execution_count": 23,
   "id": "118dd02e-bad4-4429-9e43-bfa3419173ef",
   "metadata": {},
   "outputs": [
    {
     "name": "stdout",
     "output_type": "stream",
     "text": [
      "cats, rats, bats\n",
      "My name is Simon\n",
      "MyABCnameABCisABCSimon\n"
     ]
    }
   ],
   "source": [
    "print(', '.join(['cats', 'rats', 'bats']))\n",
    "print(' '.join(['My', 'name', 'is', 'Simon']))\n",
    "print('ABC'.join(['My', 'name', 'is', 'Simon']))"
   ]
  },
  {
   "cell_type": "code",
   "execution_count": 24,
   "id": "38de9ec8-6460-4e97-bbbe-0280282d9b56",
   "metadata": {},
   "outputs": [
    {
     "data": {
      "text/plain": [
       "['My', 'name', 'is', 'Simon']"
      ]
     },
     "execution_count": 24,
     "metadata": {},
     "output_type": "execute_result"
    }
   ],
   "source": [
    "# split by whitespace characters such as space, tab, or newline characters by default\n",
    "'My name is Simon'.split()"
   ]
  },
  {
   "cell_type": "code",
   "execution_count": 25,
   "id": "ba99a929-7104-4752-a7a5-96b5868b34ae",
   "metadata": {},
   "outputs": [
    {
     "name": "stdout",
     "output_type": "stream",
     "text": [
      "['My', 'name', 'is', 'Simon']\n",
      "['My na', 'e is Si', 'on']\n"
     ]
    }
   ],
   "source": [
    "print('MyABCnameABCisABCSimon'.split('ABC'))\n",
    "print('My name is Simon'.split('m'))"
   ]
  },
  {
   "cell_type": "code",
   "execution_count": 26,
   "id": "303e9dba-bdd4-41e4-9f13-c5831e21d3ce",
   "metadata": {},
   "outputs": [
    {
     "data": {
      "text/plain": [
       "['Dear Alice,',\n",
       " 'How have you been? I am fine.',\n",
       " 'There is a container in the fridge',\n",
       " 'that is labeled \"Milk Experiment.\"',\n",
       " '',\n",
       " 'Please do not drink it.',\n",
       " 'Sincerely,',\n",
       " 'Bob']"
      ]
     },
     "execution_count": 26,
     "metadata": {},
     "output_type": "execute_result"
    }
   ],
   "source": [
    "spam = '''Dear Alice,\n",
    "How have you been? I am fine.\n",
    "There is a container in the fridge\n",
    "that is labeled \"Milk Experiment.\"\n",
    "\n",
    "Please do not drink it.\n",
    "Sincerely,\n",
    "Bob'''\n",
    "\n",
    "spam.split('\\n')"
   ]
  },
  {
   "cell_type": "markdown",
   "id": "bc72c87d-38cb-4adc-b28f-deca2930b6cc",
   "metadata": {},
   "source": [
    "### Splitting Strings with the partition() Method"
   ]
  },
  {
   "cell_type": "code",
   "execution_count": 27,
   "id": "0048e601-6bea-4981-99f5-0b8c131a308e",
   "metadata": {},
   "outputs": [
    {
     "name": "stdout",
     "output_type": "stream",
     "text": [
      "('Hello, ', 'w', 'orld!')\n",
      "('Hello, ', 'world', '!')\n"
     ]
    }
   ],
   "source": [
    "print('Hello, world!'.partition('w'))\n",
    "print('Hello, world!'.partition('world'))"
   ]
  },
  {
   "cell_type": "code",
   "execution_count": 28,
   "id": "207a9904-aa72-4b89-bc89-9f089db59c84",
   "metadata": {},
   "outputs": [
    {
     "data": {
      "text/plain": [
       "('Hell', 'o', ', world!')"
      ]
     },
     "execution_count": 28,
     "metadata": {},
     "output_type": "execute_result"
    }
   ],
   "source": [
    "# if the separator string occurs multiple times, only the first is used\n",
    "'Hello, world!'.partition('o')"
   ]
  },
  {
   "cell_type": "code",
   "execution_count": 29,
   "id": "cb7e2701-00ca-411f-9bca-cf02c76d320c",
   "metadata": {},
   "outputs": [
    {
     "data": {
      "text/plain": [
       "('Hello, world!', '', '')"
      ]
     },
     "execution_count": 29,
     "metadata": {},
     "output_type": "execute_result"
    }
   ],
   "source": [
    "# if the separator string can't be found, the first string returned in the tuple will be the entire string.\n",
    "'Hello, world!'.partition('XYZ')"
   ]
  },
  {
   "cell_type": "code",
   "execution_count": 30,
   "id": "dbd33939-5b52-430f-85cd-6d554d2508e6",
   "metadata": {},
   "outputs": [
    {
     "name": "stdout",
     "output_type": "stream",
     "text": [
      "Hello,\n",
      " \n",
      "world!\n"
     ]
    }
   ],
   "source": [
    "# multiple assignment trick\n",
    "before, sep, after = 'Hello, world!'.partition(' ')\n",
    "print(before)\n",
    "print(sep)\n",
    "print(after)"
   ]
  },
  {
   "cell_type": "markdown",
   "id": "210eb59e-c35e-4de8-9b2d-19e01eec9352",
   "metadata": {},
   "source": [
    "### Justifying Text with the rjust(), ljust(), and center() Methods"
   ]
  },
  {
   "cell_type": "code",
   "execution_count": 31,
   "id": "01807539-da0a-4b7a-8949-c89a636d2be6",
   "metadata": {},
   "outputs": [
    {
     "data": {
      "text/plain": [
       "'     Hello'"
      ]
     },
     "execution_count": 31,
     "metadata": {},
     "output_type": "execute_result"
    }
   ],
   "source": [
    "'Hello'.rjust(10)"
   ]
  },
  {
   "cell_type": "code",
   "execution_count": 32,
   "id": "13380c8c-a2af-428b-a97f-23f60715deb6",
   "metadata": {},
   "outputs": [
    {
     "data": {
      "text/plain": [
       "'               Hello'"
      ]
     },
     "execution_count": 32,
     "metadata": {},
     "output_type": "execute_result"
    }
   ],
   "source": [
    "'Hello'.rjust(20)"
   ]
  },
  {
   "cell_type": "code",
   "execution_count": 33,
   "id": "22e022c8-7f36-487e-8623-bbfb3125184d",
   "metadata": {},
   "outputs": [
    {
     "data": {
      "text/plain": [
       "'        Hello, World'"
      ]
     },
     "execution_count": 33,
     "metadata": {},
     "output_type": "execute_result"
    }
   ],
   "source": [
    "'Hello, World'.rjust(20)"
   ]
  },
  {
   "cell_type": "code",
   "execution_count": 34,
   "id": "bc89dc3d-9c39-4406-a759-c122421b2928",
   "metadata": {},
   "outputs": [
    {
     "data": {
      "text/plain": [
       "'Hello     '"
      ]
     },
     "execution_count": 34,
     "metadata": {},
     "output_type": "execute_result"
    }
   ],
   "source": [
    "'Hello'.ljust(10)"
   ]
  },
  {
   "cell_type": "code",
   "execution_count": 35,
   "id": "cb4f3e7d-f95f-4f3b-8146-02d38c89328d",
   "metadata": {},
   "outputs": [
    {
     "data": {
      "text/plain": [
       "'***************Hello'"
      ]
     },
     "execution_count": 35,
     "metadata": {},
     "output_type": "execute_result"
    }
   ],
   "source": [
    "'Hello'.rjust(20, '*')"
   ]
  },
  {
   "cell_type": "code",
   "execution_count": 36,
   "id": "ba7b03fe-9bcd-4c18-87a7-6d38967df284",
   "metadata": {},
   "outputs": [
    {
     "data": {
      "text/plain": [
       "'---------------Hello'"
      ]
     },
     "execution_count": 36,
     "metadata": {},
     "output_type": "execute_result"
    }
   ],
   "source": [
    "'Hello'.rjust(20, '-')"
   ]
  },
  {
   "cell_type": "code",
   "execution_count": 37,
   "id": "21fa7631-eab3-4da9-bfb6-432e4f663931",
   "metadata": {},
   "outputs": [
    {
     "data": {
      "text/plain": [
       "'       Hello        '"
      ]
     },
     "execution_count": 37,
     "metadata": {},
     "output_type": "execute_result"
    }
   ],
   "source": [
    "'Hello'.center(20)"
   ]
  },
  {
   "cell_type": "code",
   "execution_count": 38,
   "id": "b5229faf-82ae-4521-a3b5-55b25fe54e82",
   "metadata": {},
   "outputs": [
    {
     "data": {
      "text/plain": [
       "'=======Hello========'"
      ]
     },
     "execution_count": 38,
     "metadata": {},
     "output_type": "execute_result"
    }
   ],
   "source": [
    "'Hello'.center(20, '=')"
   ]
  },
  {
   "cell_type": "code",
   "execution_count": 39,
   "id": "3918d3ed-3ee6-4109-96e4-a024a3ed8003",
   "metadata": {},
   "outputs": [
    {
     "name": "stdout",
     "output_type": "stream",
     "text": [
      "---PICNIC ITEMS--\n",
      "sandwiches..    4\n",
      "apples......   12\n",
      "cups........    4\n",
      "cookies..... 8000\n",
      "-------PICNIC ITEMS-------\n",
      "sandwiches..........     4\n",
      "apples..............    12\n",
      "cups................     4\n",
      "cookies.............  8000\n"
     ]
    }
   ],
   "source": [
    "# picnicTable.py\n",
    "def printPicnic(itemsDict, leftWidth, rightWidth):\n",
    "    print('PICNIC ITEMS'.center(leftWidth + rightWidth, '-'))\n",
    "    for k, v in itemsDict.items():\n",
    "        print(k.ljust(leftWidth, '.') + str(v).rjust(rightWidth))\n",
    "        \n",
    "picnicItems = {'sandwiches': 4, 'apples': 12, 'cups': 4, 'cookies': 8000}\n",
    "printPicnic(picnicItems, 12, 5)\n",
    "printPicnic(picnicItems, 20, 6)"
   ]
  },
  {
   "cell_type": "markdown",
   "id": "f9f87c31-db58-45ce-bb8c-b6574c65a53f",
   "metadata": {},
   "source": [
    "### Removing Whitespace with strip(), rstrip(), and lstrip() Methods"
   ]
  },
  {
   "cell_type": "code",
   "execution_count": 40,
   "id": "b68c2dcf-56ea-43de-8247-2cb806d1d999",
   "metadata": {},
   "outputs": [
    {
     "data": {
      "text/plain": [
       "'Hello, World.'"
      ]
     },
     "execution_count": 40,
     "metadata": {},
     "output_type": "execute_result"
    }
   ],
   "source": [
    "spam = '      Hello, World.    '\n",
    "spam.strip()"
   ]
  },
  {
   "cell_type": "code",
   "execution_count": 41,
   "id": "08d67c49-79c0-4473-a10d-08210a18cce2",
   "metadata": {},
   "outputs": [
    {
     "data": {
      "text/plain": [
       "'Hello, World.    '"
      ]
     },
     "execution_count": 41,
     "metadata": {},
     "output_type": "execute_result"
    }
   ],
   "source": [
    "spam.lstrip()"
   ]
  },
  {
   "cell_type": "code",
   "execution_count": 42,
   "id": "0c002782-f3ee-4ffa-8f60-8f7cfb564058",
   "metadata": {},
   "outputs": [
    {
     "data": {
      "text/plain": [
       "'      Hello, World.'"
      ]
     },
     "execution_count": 42,
     "metadata": {},
     "output_type": "execute_result"
    }
   ],
   "source": [
    "spam.rstrip()"
   ]
  },
  {
   "cell_type": "code",
   "execution_count": 43,
   "id": "7d5797a4-6ebe-4153-bb3f-604d4d3deb6e",
   "metadata": {},
   "outputs": [
    {
     "data": {
      "text/plain": [
       "'BaconSpamEggs'"
      ]
     },
     "execution_count": 43,
     "metadata": {},
     "output_type": "execute_result"
    }
   ],
   "source": [
    "# Optionally, a string argument will specify which characters on the ends should be stripped.\n",
    "spam = 'SpamSpamBaconSpamEggsSpamSpam'\n",
    "spam.strip('ampS') # same as spam.strip('Spam')"
   ]
  },
  {
   "cell_type": "markdown",
   "id": "e08c085b-c19e-4278-955a-d249bda05e01",
   "metadata": {},
   "source": [
    "## Numeric Values of Characters with the ord() and chr() Functions"
   ]
  },
  {
   "cell_type": "code",
   "execution_count": 44,
   "id": "bb70aa3a-a4c2-4578-bff5-0085ba2836d5",
   "metadata": {},
   "outputs": [
    {
     "name": "stdout",
     "output_type": "stream",
     "text": [
      "65\n",
      "52\n",
      "33\n",
      "A\n"
     ]
    }
   ],
   "source": [
    "print(ord('A'))\n",
    "print(ord('4'))\n",
    "print(ord('!'))\n",
    "print(chr(65))"
   ]
  },
  {
   "cell_type": "code",
   "execution_count": 45,
   "id": "6909a057-2ffe-44bb-8019-f7923b6d04b0",
   "metadata": {},
   "outputs": [
    {
     "name": "stdout",
     "output_type": "stream",
     "text": [
      "66\n",
      "True\n",
      "A\n",
      "B\n"
     ]
    }
   ],
   "source": [
    "print(ord('B'))\n",
    "print(ord('A') < ord('B'))\n",
    "print(chr(ord('A')))\n",
    "print(chr(ord('A') + 1))"
   ]
  },
  {
   "cell_type": "markdown",
   "id": "6254f921-e395-494e-826d-460167baab52",
   "metadata": {},
   "source": [
    "## Copying and Pasting String with the pyperclip Module"
   ]
  },
  {
   "cell_type": "code",
   "execution_count": 46,
   "id": "38a4156b-161f-4ab4-abc2-fe3df3fbaf4a",
   "metadata": {},
   "outputs": [
    {
     "data": {
      "text/plain": [
       "'Hello, world!'"
      ]
     },
     "execution_count": 46,
     "metadata": {},
     "output_type": "execute_result"
    }
   ],
   "source": [
    "import pyperclip\n",
    "pyperclip.copy('Hello, world!')\n",
    "pyperclip.paste()"
   ]
  },
  {
   "cell_type": "code",
   "execution_count": 47,
   "id": "83618da0-71bb-40ba-aace-818b37c8e0c4",
   "metadata": {},
   "outputs": [
    {
     "data": {
      "text/plain": [
       "'Hello, world!'"
      ]
     },
     "execution_count": 47,
     "metadata": {},
     "output_type": "execute_result"
    }
   ],
   "source": [
    "# Return clipboard contents\n",
    "pyperclip.paste()"
   ]
  },
  {
   "cell_type": "markdown",
   "id": "317acb5c-037d-4429-8475-5227c11d8337",
   "metadata": {},
   "source": [
    "## Project: Multi-Clipboard Automatic Messages"
   ]
  },
  {
   "cell_type": "code",
   "execution_count": 48,
   "id": "125df491-b702-421d-a271-e0a68f236758",
   "metadata": {},
   "outputs": [
    {
     "name": "stdout",
     "output_type": "stream",
     "text": [
      "Text for <agree> copied to clipboard.\n"
     ]
    }
   ],
   "source": [
    "# mclip.py - A multi-clipboard program.\n",
    "import pyperclip\n",
    "\n",
    "TEXT = {'agree': \"\"\"Yes, I agree. That sounds fine to me.\"\"\",\n",
    "       'busy': \"\"\"Sorry, can we do this later this week or next week?\"\"\",\n",
    "       'upsell': \"\"\"Would you consider making this a monthly donation?\"\"\"}\n",
    "\n",
    "keyphrase = 'agree'\n",
    "\n",
    "if keyphrase in TEXT:\n",
    "    pyperclip.copy(TEXT[keyphrase])\n",
    "    print('Text for <' + keyphrase + '> copied to clipboard.')\n",
    "else:\n",
    "    print('There is no text for ' + keyphrase)"
   ]
  },
  {
   "cell_type": "markdown",
   "id": "e3101aeb-8aa2-4742-8090-f80815b59701",
   "metadata": {},
   "source": [
    "## Project: Adding Bullets to Wiki Markup"
   ]
  },
  {
   "cell_type": "code",
   "execution_count": 49,
   "id": "51037d4e-dbeb-42ff-98e0-fdff1d560ec4",
   "metadata": {},
   "outputs": [],
   "source": [
    "# bulletPointAdder.py - Adds Wikipedia bullet points to the start of each line of text on the clipboard.\n",
    "\"\"\"\n",
    "1. Paste text from the clipboard.\n",
    "2. Do something to it.\n",
    "3. Copy the new text to the clipboard.\n",
    "\"\"\"\n",
    "import pyperclip\n",
    "text = pyperclip.paste()\n",
    "\n",
    "# Separate lines and add stars.\n",
    "lines = text.split('\\n')\n",
    "for i in range(len(lines)):\n",
    "    lines[i] = f'* {lines[i]}'\n",
    "\n",
    "text = '\\n'.join(lines)\n",
    "pyperclip.copy(text)"
   ]
  },
  {
   "cell_type": "markdown",
   "id": "a00ffee7-667f-41c4-a224-445f7a5dc30c",
   "metadata": {},
   "source": [
    "## A Short Program: Pig Latin"
   ]
  }
 ],
 "metadata": {
  "kernelspec": {
   "display_name": "Python 3 (ipykernel)",
   "language": "python",
   "name": "python3"
  },
  "language_info": {
   "codemirror_mode": {
    "name": "ipython",
    "version": 3
   },
   "file_extension": ".py",
   "mimetype": "text/x-python",
   "name": "python",
   "nbconvert_exporter": "python",
   "pygments_lexer": "ipython3",
   "version": "3.9.15"
  }
 },
 "nbformat": 4,
 "nbformat_minor": 5
}
