{
 "cells": [
  {
   "cell_type": "markdown",
   "id": "c4c32518-215d-4d01-aa7b-d3ebb7c6c397",
   "metadata": {},
   "source": [
    "# Working With PDF and Word Documents"
   ]
  },
  {
   "cell_type": "markdown",
   "id": "4511c8de-9bf1-44cf-93f8-1c5bae070f5f",
   "metadata": {},
   "source": [
    "## PDF Documents"
   ]
  },
  {
   "cell_type": "code",
   "execution_count": 3,
   "id": "1d8dedc0-c462-4bc7-96cb-04cd5f95c3f5",
   "metadata": {},
   "outputs": [
    {
     "name": "stdout",
     "output_type": "stream",
     "text": [
      "19\n",
      "OOFFFFIICCIIAALL  BBOOAARRDD  MMIINNUUTTEESS   Meeting of \n",
      "March 7\n",
      ", 2014\n",
      "        \n",
      "     The Board of Elementary and Secondary Education shall provide leadership and \n",
      "create policies for education that expand opportunities for children, empower \n",
      "families and communities, and advance Louisiana in an increasingly \n",
      "competitive glob\n",
      "al market.\n",
      " BOARD \n",
      " of ELEMENTARY\n",
      " and \n",
      " SECONDARY\n",
      " EDUCATION\n",
      "  \n"
     ]
    }
   ],
   "source": [
    "import PyPDF2\n",
    "pdfFileObj = open('materials/meetingminutes.pdf', 'rb')\n",
    "pdfReader = PyPDF2.PdfFileReader(pdfFileObj)\n",
    "print(pdfReader.numPages)\n",
    "pageObj = pdfReader.getPage(0)\n",
    "print(pageObj.extractText())\n",
    "pdfFileObj.close()"
   ]
  },
  {
   "cell_type": "markdown",
   "id": "0f8db7c2-3fe9-4a27-bd8e-602b14cc7975",
   "metadata": {},
   "source": [
    "### Decrypting PDFs"
   ]
  },
  {
   "cell_type": "code",
   "execution_count": 14,
   "id": "a6aa779e-84d2-49a4-af48-62a99a46fe49",
   "metadata": {},
   "outputs": [
    {
     "name": "stdout",
     "output_type": "stream",
     "text": [
      "True\n",
      "1\n",
      "OOFFFFIICCIIAALL  BBOOAARRDD  MMIINNUUTTEESS   Meeting of \n",
      "March 7\n",
      ", 2014\n",
      "        \n",
      "     The Board of Elementary and Secondary Education shall provide leadership and \n",
      "create policies for education that expand opportunities for children, empower \n",
      "families and communities, and advance Louisiana in an increasingly \n",
      "competitive glob\n",
      "al market.\n",
      " BOARD \n",
      " of ELEMENTARY\n",
      " and \n",
      " SECONDARY\n",
      " EDUCATION\n",
      "  \n"
     ]
    }
   ],
   "source": [
    "import PyPDF2\n",
    "pdfReader = PyPDF2.PdfFileReader(open('materials/encrypted.pdf', 'rb'))\n",
    "print(pdfReader.isEncrypted)\n",
    "# pdfReader.getPage(0) PdfReadError: file has not been decrypted\n",
    "print(pdfReader.decrypt('rosebud'))\n",
    "pageObj = pdfReader.getPage(0)\n",
    "print(pageObj.extractText())"
   ]
  },
  {
   "cell_type": "markdown",
   "id": "cc60b1b8-f7ce-427c-8129-3aaff73e9ce3",
   "metadata": {},
   "source": [
    "### Creating PDFs"
   ]
  },
  {
   "cell_type": "markdown",
   "id": "b7acba82-8390-42ee-a2a6-de661fe5fbaa",
   "metadata": {},
   "source": [
    "#### Copying Pages"
   ]
  },
  {
   "cell_type": "code",
   "execution_count": 16,
   "id": "fb5386ed-6fe7-4e0a-afde-59100a5d88bd",
   "metadata": {},
   "outputs": [],
   "source": [
    "import PyPDF2\n",
    "pdf1File = open('materials/meetingminutes.pdf', 'rb')\n",
    "pdf2File = open('materials/meetingminutes2.pdf', 'rb')\n",
    "pdf1Reader = PyPDF2.PdfFileReader(pdf1File)\n",
    "pdf2Reader = PyPDF2.PdfFileReader(pdf2File)\n",
    "pdfWriter = PyPDF2.PdfFileWriter()\n",
    "\n",
    "for pageNum in range(pdf1Reader.numPages):\n",
    "    pageObj = pdf1Reader.getPage(pageNum)\n",
    "    pdfWriter.addPage(pageObj)\n",
    "    \n",
    "for pageNum in range(pdf2Reader.numPages):\n",
    "    pageObj = pdf2Reader.getPage(pageNum)\n",
    "    pdfWriter.addPage(pageObj)\n",
    "    \n",
    "pdfOutputFile = open('materials/combinedminutes.pdf', 'wb')\n",
    "pdfWriter.write(pdfOutputFile)\n",
    "pdfOutputFile.close()\n",
    "pdf1File.close()\n",
    "pdf2File.close()"
   ]
  },
  {
   "cell_type": "markdown",
   "id": "83e21e19-885b-4248-8faa-7f042e1670e9",
   "metadata": {},
   "source": [
    "#### Rotating Pages"
   ]
  },
  {
   "cell_type": "code",
   "execution_count": 20,
   "id": "fad85ec5-3440-4c67-bd95-eefa14bb8887",
   "metadata": {},
   "outputs": [],
   "source": [
    "import PyPDF2\n",
    "minutesFile = open('materials/meetingminutes.pdf', 'rb')\n",
    "pdfReader = PyPDF2.PdfFileReader(minutesFile)\n",
    "page = pdfReader.getPage(0)\n",
    "page.rotateClockwise(90)\n",
    "\n",
    "pdfWriter = PyPDF2.PdfFileWriter()\n",
    "pdfWriter.addPage(page)\n",
    "resultPdfFile = open('materials/rotatedPage.pdf', 'wb')\n",
    "pdfWriter.write(resultPdfFile)\n",
    "resultPdfFile.close()\n",
    "minutesFile.close()"
   ]
  },
  {
   "cell_type": "markdown",
   "id": "84b22e56-7868-4bd9-8efa-d62d21d79512",
   "metadata": {},
   "source": [
    "#### Overlaying Pages"
   ]
  },
  {
   "cell_type": "code",
   "execution_count": 22,
   "id": "17b4d12c-e773-4f89-b95d-04869b043c88",
   "metadata": {},
   "outputs": [],
   "source": [
    "import PyPDF2\n",
    "minutesFile = open('materials/meetingminutes.pdf', 'rb')\n",
    "pdfReader = PyPDF2.PdfFileReader(minutesFile)\n",
    "minutesFirstPage = pdfReader.getPage(0)\n",
    "\n",
    "pdfWatermarkReader = PyPDF2.PdfFileReader(open('materials/watermark.pdf', 'rb'))\n",
    "minutesFirstPage.mergePage(pdfWatermarkReader.getPage(0))\n",
    "pdfWriter = PyPDF2.PdfFileWriter()\n",
    "pdfWriter.addPage(minutesFirstPage)\n",
    "\n",
    "for pageNum in range(1, pdfReader.numPages):\n",
    "    pageObj = pdfReader.getPage(pageNum)\n",
    "    pdfWriter.addPage(pageObj)\n",
    "    \n",
    "resultPdfFile = open('materials/watermarkedCover.pdf', 'wb')\n",
    "pdfWriter.write(resultPdfFile)\n",
    "minutesFile.close()\n",
    "resultPdfFile.close()"
   ]
  },
  {
   "cell_type": "markdown",
   "id": "4b16b4ca-9958-458e-bec0-7f20b7da57fb",
   "metadata": {},
   "source": [
    "#### Encrypting PDFs"
   ]
  },
  {
   "cell_type": "code",
   "execution_count": 24,
   "id": "2dd68ea6-8d4d-4a31-827a-8acdfd9b335a",
   "metadata": {},
   "outputs": [],
   "source": [
    "import PyPDF2\n",
    "pdfFile = open('materials/meetingminutes.pdf', 'rb')\n",
    "pdfReader = PyPDF2.PdfFileReader(pdfFile)\n",
    "pdfWriter = PyPDF2.PdfFileWriter()\n",
    "for pageNum in range(pdfReader.numPages):\n",
    "    pdfWriter.addPage(pdfReader.getPage(pageNum))\n",
    "\n",
    "pdfWriter.encrypt('swordfish')\n",
    "resutPdf = open('materials/encryptedminutes.pdf', 'wb')\n",
    "pdfWriter.write(resutPdf)\n",
    "resutPdf.close()"
   ]
  },
  {
   "cell_type": "markdown",
   "id": "0b404164-18c2-4a03-a5cb-eec946bee6ba",
   "metadata": {},
   "source": [
    "## Project: Combining Select Pages from Many PDFs"
   ]
  },
  {
   "cell_type": "markdown",
   "id": "1c07d6ad-dea7-480c-aba7-7e2d7f361a60",
   "metadata": {},
   "source": [
    "At a high level, here's what the program will do:\n",
    "1. Find all PDF files in the current working directory.\n",
    "1. Sort the filenames so the PDFs are added in order.\n",
    "1. Write each page, excluding the first page, of each PDF to the output file.\n",
    "\n",
    "In terms of implementation, the code will need to do the following:\n",
    "1. Call os.listdir() to find all the files in the working directory and remove any non-PDF files.\n",
    "1. Call Python's sort() list method to alphabetize the filenames.\n",
    "1. Create a *PdfFileWriter* object for the output PDF.\n",
    "1. Loop over each PDF file, creating a *PdfFileReader* object for it.\n",
    "1. Loop over each page (except the first) in each PDF files.\n",
    "1. Add the pages to the output PDF.\n",
    "1. Write the output PDF to a file named *allminutes.pdf*."
   ]
  },
  {
   "cell_type": "code",
   "execution_count": 28,
   "id": "42ebfec9-8ea5-435e-b97e-7128a5b275fd",
   "metadata": {},
   "outputs": [],
   "source": [
    "# combinePdfs.py - Combines all the PDFs in the current working directory into a single PDF.\n",
    "\n",
    "import PyPDF2, os\n",
    "# Get all the PDF filenames.\n",
    "pdfFiles = []\n",
    "for filename in os.listdir('materials/combineDir'):\n",
    "    if filename.endswith('.pdf'):\n",
    "        pdfFiles.append(filename)\n",
    "pdfFiles.sort(key=str.lower)\n",
    "\n",
    "pdfWriter = PyPDF2.PdfFileWriter()\n",
    "\n",
    "# Loop through all the PDF files.\n",
    "for filename in pdfFiles:\n",
    "    pdfFileObj = open('materials/combineDir/' + filename, 'rb')\n",
    "    pdfReader = PyPDF2.PdfFileReader(pdfFileObj)\n",
    "    # Loop through all the pages (except the first) and add them.\n",
    "    for pageNum in range(1, pdfReader.numPages):\n",
    "        pageObj = pdfReader.getPage(pageNum)\n",
    "        pdfWriter.addPage(pageObj)\n",
    "    \n",
    "# Save the resulting PDF to a file.\n",
    "pdfOutput = open('materials/allminuts.pdf', 'wb')\n",
    "pdfWriter.write(pdfOutput)\n",
    "pdfOutput.close()"
   ]
  },
  {
   "cell_type": "markdown",
   "id": "6ac94b08-2217-4685-bd9d-591a1438018b",
   "metadata": {},
   "source": [
    "## Word Documents"
   ]
  },
  {
   "cell_type": "code",
   "execution_count": 37,
   "id": "2817a847-0116-4597-8c6e-f20153fb3083",
   "metadata": {},
   "outputs": [
    {
     "name": "stdout",
     "output_type": "stream",
     "text": [
      "7\n",
      "Document Title\n",
      "A plain paragraph with some bold and some italic\n",
      "5\n",
      "A plain paragraph with\n",
      " some \n",
      "bold\n",
      " and some \n",
      "italic\n"
     ]
    }
   ],
   "source": [
    "import docx\n",
    "doc = docx.Document('materials/demo.docx')\n",
    "print(len(doc.paragraphs))\n",
    "print(doc.paragraphs[0].text)\n",
    "print(doc.paragraphs[1].text)\n",
    "print(len(doc.paragraphs[1].runs))\n",
    "print(doc.paragraphs[1].runs[0].text)\n",
    "print(doc.paragraphs[1].runs[1].text)\n",
    "print(doc.paragraphs[1].runs[2].text)\n",
    "print(doc.paragraphs[1].runs[3].text)\n",
    "print(doc.paragraphs[1].runs[4].text)"
   ]
  },
  {
   "cell_type": "markdown",
   "id": "bb9cf620-fa0c-43e6-9ab7-52ac3766524c",
   "metadata": {},
   "source": [
    "### Getting the Full Text from a .docx File"
   ]
  },
  {
   "cell_type": "code",
   "execution_count": 44,
   "id": "2010fdc2-414c-43a7-b6b8-3541acb25139",
   "metadata": {},
   "outputs": [
    {
     "name": "stdout",
     "output_type": "stream",
     "text": [
      "  Document Title\n",
      "  A plain paragraph with some bold and some italic\n",
      "  Heading, level 1\n",
      "  Intense quote\n",
      "  first item in unordered list\n",
      "  first item in ordered list\n",
      "  \n"
     ]
    }
   ],
   "source": [
    "import docx\n",
    "\n",
    "def getText(filename):\n",
    "    doc = docx.Document(filename)\n",
    "    fullText = []\n",
    "    for para in doc.paragraphs:\n",
    "        fullText.append('  ' + para.text)\n",
    "    return '\\n'.join(fullText)\n",
    "\n",
    "print(getText('materials/demo.docx'), end='')"
   ]
  },
  {
   "cell_type": "markdown",
   "id": "7c2a4a51-d2ad-42db-a308-9dfe57873863",
   "metadata": {},
   "source": [
    "### Styling Paragraph and Run Objects"
   ]
  },
  {
   "cell_type": "markdown",
   "id": "fbd3f904-e8ae-48af-b79e-2f2f1e30f5e3",
   "metadata": {},
   "source": [
    "### Creating Word Documents with Nondefault Styles"
   ]
  },
  {
   "cell_type": "markdown",
   "id": "04066fb4-9d66-4419-8c7b-3649f6437f0a",
   "metadata": {},
   "source": [
    "### Run Attributes"
   ]
  },
  {
   "cell_type": "code",
   "execution_count": 54,
   "id": "c96c0b97-f544-4569-b67d-b413f4ea9b74",
   "metadata": {},
   "outputs": [
    {
     "name": "stdout",
     "output_type": "stream",
     "text": [
      "Document Title\n",
      "_ParagraphStyle('Title') id: 140286691934064\n",
      "A plain paragraph with some bold and some italic\n",
      "('A plain paragraph with', ' some ', 'bold', ' and some ', 'italic')\n"
     ]
    }
   ],
   "source": [
    "import docx\n",
    "doc = docx.Document('materials/demo.docx')\n",
    "print(doc.paragraphs[0].text)\n",
    "print(doc.paragraphs[0].style) # The exact id my be different\n",
    "doc.paragraphs[0].style = 'Normal'\n",
    "print(doc.paragraphs[1].text)\n",
    "print((doc.paragraphs[1].runs[0].text, doc.paragraphs[1].runs[1].text, doc.paragraphs[1].runs[2].text, doc.paragraphs[1].runs[3].text, doc.paragraphs[1].runs[4].text))\n",
    "doc.paragraphs[1].runs[0].style = 'QuoteChar'\n",
    "doc.paragraphs[1].runs[1].underline = True\n",
    "doc.paragraphs[1].runs[3].underline = True\n",
    "doc.save('materials/restyled.docx')"
   ]
  },
  {
   "cell_type": "markdown",
   "id": "a8522601-e804-4f93-bf92-625d04af6acc",
   "metadata": {},
   "source": [
    "### Writing Word Documents"
   ]
  },
  {
   "cell_type": "code",
   "execution_count": 55,
   "id": "1c7dd70d-9c3a-41b5-9aa6-199d0e1133e1",
   "metadata": {},
   "outputs": [],
   "source": [
    "import docx\n",
    "doc = docx.Document()\n",
    "doc.add_paragraph('Hello, world!')\n",
    "doc.save('materials/helloworld.docx')"
   ]
  },
  {
   "cell_type": "code",
   "execution_count": 58,
   "id": "650a079d-6bd0-49e2-9e3b-978f5d9d8703",
   "metadata": {},
   "outputs": [],
   "source": [
    "import docx\n",
    "doc = docx.Document()\n",
    "doc.add_paragraph('Hello world!', 'Title')\n",
    "paraObj1 = doc.add_paragraph('This is a second paragraph.')\n",
    "paraObj2 = doc.add_paragraph('This is a yet another paragraph.')\n",
    "paraObj1.add_run(' This text is being added to the second paragraph.')\n",
    "doc.save('materials/multipleParagraphs.docx')"
   ]
  },
  {
   "cell_type": "markdown",
   "id": "0a88fefe-75e0-44dd-9116-0dc359844bca",
   "metadata": {},
   "source": [
    "### Adding Headings"
   ]
  },
  {
   "cell_type": "code",
   "execution_count": 59,
   "id": "b40a173e-ded9-41a2-8343-9e3a516d4be0",
   "metadata": {},
   "outputs": [],
   "source": [
    "doc = docx.Document()\n",
    "doc.add_heading('Header 0', 0)\n",
    "doc.add_heading('Header 1', 1)\n",
    "doc.add_heading('Header 2', 2)\n",
    "doc.add_heading('Header 3', 3)\n",
    "doc.add_heading('Header 4', 4)\n",
    "doc.save('materials/headings.docx')"
   ]
  },
  {
   "cell_type": "markdown",
   "id": "08bbece0-e778-485d-827e-07662910db8c",
   "metadata": {},
   "source": [
    "### Adding Line and Page Breaks"
   ]
  },
  {
   "cell_type": "code",
   "execution_count": 65,
   "id": "921dc664-7bec-411b-a0e2-c8261cc72c5f",
   "metadata": {},
   "outputs": [],
   "source": [
    "import docx\n",
    "doc = docx.Document()\n",
    "doc.add_paragraph('This is on the first page!')\n",
    "doc.paragraphs[0].runs[0].add_break(docx.enum.text.WD_BREAK.PAGE)\n",
    "doc.add_paragraph('This is on the second page!')\n",
    "doc.save('materials/twoPage.docx')"
   ]
  },
  {
   "cell_type": "markdown",
   "id": "b36e3812-b047-4437-853d-1fb5d1cbdc6b",
   "metadata": {},
   "source": [
    "### Adding Pictures"
   ]
  },
  {
   "cell_type": "code",
   "execution_count": 70,
   "id": "8dab6cb9-b2a7-4df3-b675-ae17eb961567",
   "metadata": {},
   "outputs": [],
   "source": [
    "import docx\n",
    "doc.add_picture('materials/zophie.png', width=docx.shared.Inches(1), height=docx.shared.Cm(4))\n",
    "doc.save('materials/picture.docx')"
   ]
  },
  {
   "cell_type": "markdown",
   "id": "9cce7489-09cd-4239-9119-eac39ee6fa55",
   "metadata": {},
   "source": [
    "## Creating PDFs from Word Documents"
   ]
  }
 ],
 "metadata": {
  "kernelspec": {
   "display_name": "Python 3 (ipykernel)",
   "language": "python",
   "name": "python3"
  },
  "language_info": {
   "codemirror_mode": {
    "name": "ipython",
    "version": 3
   },
   "file_extension": ".py",
   "mimetype": "text/x-python",
   "name": "python",
   "nbconvert_exporter": "python",
   "pygments_lexer": "ipython3",
   "version": "3.8.15"
  }
 },
 "nbformat": 4,
 "nbformat_minor": 5
}
